{
 "cells": [
  {
   "cell_type": "markdown",
   "metadata": {
    "_uuid": "868a790479135f33a8a40ca82671b3a4995ad147"
   },
   "source": [
    "# Introduction: Tuning Automated Feature Engineering\n",
    "\n",
    "In this notebook we will expand upon the [basic automated feature engineering](https://www.kaggle.com/willkoehrsen/applied-automated-feature-engineering-basics) applied to the Home Credit Default Risk competition. We will explore a few different methods for improving the set of features and incorporating domain knowledge into the final dataset. These methods include:\n",
    "\n",
    "* Properly representing variable types\n",
    "* Creating and using time variables\n",
    "* Setting interesting values of variables\n",
    "* Creating seed features\n",
    "* Building custom primitives\n",
    "\n",
    "Reading through the discussion around this competition and working through some of the top kernels, intricate feature engineering is a must. Using the default feature primitives in the basic notebook did improve our score, but to do better we will need some more advanced methods. \n",
    "\n",
    "This will be more as an exploration of the capabilities of featuretools than a complete implementation. I'm still working on figuring out the most useful features to build by reading through other kernels, finding features, and figuring out how to recreate and build upon those in featuretools. Any ideas would be much appreciated! \n",
    "\n",
    "This work draws heavily on the [featuretools documentation](https://docs.featuretools.com/) and the [featuretools GitHub repository](https://github.com/Featuretools/featuretools). "
   ]
  },
  {
   "cell_type": "code",
   "execution_count": 2,
   "metadata": {
    "_uuid": "6c667b348b3964093c09f1d3616e1c1026be5d91"
   },
   "outputs": [
    {
     "ename": "ImportError",
     "evalue": "No module named 'featuretools'",
     "output_type": "error",
     "traceback": [
      "\u001b[0;31m---------------------------------------------------------------------------\u001b[0m",
      "\u001b[0;31mImportError\u001b[0m                               Traceback (most recent call last)",
      "\u001b[0;32m<ipython-input-2-6ee071d204d8>\u001b[0m in \u001b[0;36m<module>\u001b[0;34m()\u001b[0m\n\u001b[1;32m      4\u001b[0m \u001b[0;34m\u001b[0m\u001b[0m\n\u001b[1;32m      5\u001b[0m \u001b[0;31m# automated feature engineering\u001b[0m\u001b[0;34m\u001b[0m\u001b[0;34m\u001b[0m\u001b[0m\n\u001b[0;32m----> 6\u001b[0;31m \u001b[0;32mimport\u001b[0m \u001b[0mfeaturetools\u001b[0m \u001b[0;32mas\u001b[0m \u001b[0mft\u001b[0m\u001b[0;34m\u001b[0m\u001b[0m\n\u001b[0m\u001b[1;32m      7\u001b[0m \u001b[0;34m\u001b[0m\u001b[0m\n\u001b[1;32m      8\u001b[0m \u001b[0;31m# Filter out pandas warnings\u001b[0m\u001b[0;34m\u001b[0m\u001b[0;34m\u001b[0m\u001b[0m\n",
      "\u001b[0;31mImportError\u001b[0m: No module named 'featuretools'"
     ]
    }
   ],
   "source": [
    "# pandas and numpy for data manipulation\n",
    "import pandas as pd\n",
    "import numpy as np\n",
    "\n",
    "# automated feature engineering\n",
    "import featuretools as ft\n",
    "\n",
    "# Filter out pandas warnings\n",
    "import warnings \n",
    "warnings.filterwarnings('ignore')"
   ]
  },
  {
   "cell_type": "markdown",
   "metadata": {
    "_uuid": "c34d0b8cecebe96c8dff1e71f1849455aa49ce48"
   },
   "source": [
    "### Read in Data and Create Smaller Datasets\n",
    "\n",
    "We will limit the data to 1000 rows because automated feature engineering is computationally intensive work. Later we can refactor this code into functions and put it in a script to run on a more powerful machine. "
   ]
  },
  {
   "cell_type": "code",
   "execution_count": null,
   "metadata": {
    "_uuid": "8c518868f1a699faa807d6116bc4cc01dfbf0f1f",
    "collapsed": true
   },
   "outputs": [],
   "source": [
    "# Read in the datasets and limit to the first 1000 rows (sorted by SK_ID_CURR) \n",
    "# This allows us to actually see the results in a reasonable amount of time! \n",
    "app_train = pd.read_csv('../data/application_train.csv').sort_values('SK_ID_CURR').reset_index().loc[:, :].drop(columns = ['index'])\n",
    "app_test = pd.read_csv('../data/application_test.csv').sort_values('SK_ID_CURR').reset_index().loc[:, :].drop(columns = ['index'])\n",
    "bureau = pd.read_csv('../data/bureau.csv').sort_values(['SK_ID_CURR', 'SK_ID_BUREAU']).reset_index().loc[:, :].drop(columns = ['index'])\n",
    "bureau_balance = pd.read_csv('../data/bureau_balance.csv').sort_values('SK_ID_BUREAU').reset_index().loc[:, :].drop(columns = ['index'])\n",
    "cash = pd.read_csv('../data/POS_CASH_balance.csv').sort_values(['SK_ID_CURR', 'SK_ID_PREV']).reset_index().loc[:, :].drop(columns = ['index'])\n",
    "credit = pd.read_csv('../data/credit_card_balance.csv').sort_values(['SK_ID_CURR', 'SK_ID_PREV']).reset_index().loc[:, :].drop(columns = ['index'])\n",
    "previous = pd.read_csv('../data/previous_application.csv').sort_values(['SK_ID_CURR', 'SK_ID_PREV']).reset_index().loc[:, :].drop(columns = ['index'])\n",
    "installments = pd.read_csv('../data/installments_payments.csv').sort_values(['SK_ID_CURR', 'SK_ID_PREV']).reset_index().loc[:, :].drop(columns = ['index'])"
   ]
  },
  {
   "cell_type": "markdown",
   "metadata": {
    "_uuid": "6669ee22ead97e5f7afff74322db0a3f7f24da09"
   },
   "source": [
    "# Properly Representing Variable Types\n",
    "\n",
    "There are a number of columns in the `app` dataframe that are represented as integers but are really discrete variables that can only take on a limited number of features. Some of these are Boolean flags (only 1 or 0) and two columns are ordinal (ordered discrete). To tell featuretools to treat these as Boolean variables, we need to pass in the correct datatype using a dictionary mapping {`variable_name`: `variable_type`}. "
   ]
  },
  {
   "cell_type": "code",
   "execution_count": null,
   "metadata": {
    "_uuid": "3840e1bc6bf1b407c63ad4bab59e1fa033bee28e"
   },
   "outputs": [],
   "source": [
    "app_types = {}\n",
    "\n",
    "# Iterate through the columns and record the Boolean columns\n",
    "for col in app_train:\n",
    "    # If column is a number with only two values, encode it as a Boolean\n",
    "    if (app_train[col].dtype != 'object') and (len(app_train[col].unique()) <= 2):\n",
    "        app_types[col] = ft.variable_types.Boolean\n",
    "\n",
    "print('Number of boolean variables: ', len(app_types))"
   ]
  },
  {
   "cell_type": "markdown",
   "metadata": {
    "_uuid": "38db74ac73e1055b2900e73e71958e1b9a2f95c5"
   },
   "source": [
    "There are also two ordinal variables in the `app` data: the rating of the region with and without the city. "
   ]
  },
  {
   "cell_type": "code",
   "execution_count": null,
   "metadata": {
    "_uuid": "f39e523e010e243cfe5a9b0776e448dfa7f033f4",
    "collapsed": true
   },
   "outputs": [],
   "source": [
    "# Record ordinal variables\n",
    "app_types['REGION_RATING_CLIENT'] = ft.variable_types.Ordinal\n",
    "app_types['REGION_RATING_CLIENT_W_CITY'] = ft.variable_types.Ordinal\n",
    "\n",
    "app_test_types = app_types.copy()\n",
    "del app_test_types['TARGET']"
   ]
  },
  {
   "cell_type": "markdown",
   "metadata": {
    "_uuid": "8b7ad97ee92cff7e2870f8b1bfa27b1bd120bfa0"
   },
   "source": [
    "The previous data also has two Boolean variables. "
   ]
  },
  {
   "cell_type": "code",
   "execution_count": null,
   "metadata": {
    "_uuid": "b4235cb6cd7b49a4493e35eda122cf824d0bf851",
    "collapsed": true
   },
   "outputs": [],
   "source": [
    "# Record boolean variables in the previous data\n",
    "previous_types= {'NFLAG_LAST_APPL_IN_DAY': ft.variable_types.Boolean,\n",
    "                 'NFLAG_INSURED_ON_APPROVAL': ft.variable_types.Boolean}"
   ]
  },
  {
   "cell_type": "markdown",
   "metadata": {
    "_uuid": "a0add1229f1a1c3c677f155975380b5860c1bb52"
   },
   "source": [
    "# Time Variables\n",
    "\n",
    "Time can be a crucial factor in many datasets because behaviors change over time and therefore we want to make features to reflect this. For example, a client might be taking out larger and larger loans over time which could be an indicator that they are about to default or they could have a run of missed payments but then get back on track.\n",
    "\n",
    "There are no explicit datetimes in the data, but there are relative time offsets. All the time offset are measured from the current application at Home Credit and are measured in months or days. For example, in `bureau`, the `DAYS_CREDIT` column represents \"How many days before current application did client apply for Credit Bureau credit\". (Credit Bureau refers to any other credit organization besides Home Credit). Although we do not know the actual application date, if we assume a starting application date that is the same for all clients, then we can convert the `MONTHS_BALANCE` into a datetime. This can then be treated as a relative time that we can use to find trends or identify the most recent value of a variable. "
   ]
  },
  {
   "cell_type": "markdown",
   "metadata": {
    "_uuid": "eef8a4ca90633e62df9d93e594d49670383465da"
   },
   "source": [
    "### Replace Outliers\n",
    "\n",
    "There are a number of day offsets that are recorded as 365243. Reading through discussions, others replaced this number with `np.nan`. If we don't do this, Pandas will not be able to convert into a timedelta and throws an error that the number is too large. The following code has been adapted from a script on [GitHub](https://github.com/JYLFamily/Home_Credit_Default_Risk/blob/master/20180603/FeaturesV2/ApplicationTestFeatures.py)."
   ]
  },
  {
   "cell_type": "code",
   "execution_count": null,
   "metadata": {
    "_uuid": "b77ee6020dfcae646123d8b38b2cd6b210d442b6",
    "collapsed": true
   },
   "outputs": [],
   "source": [
    "import re\n",
    "\n",
    "def replace_day_outliers(df):\n",
    "    \"\"\"Replace 365243 with np.nan in any columns with DAYS\"\"\"\n",
    "    for col in df.columns:\n",
    "        if \"DAYS\" in col:\n",
    "            df[col] = df[col].replace({365243: np.nan})\n",
    "\n",
    "    return df\n",
    "\n",
    "# Replace all the day outliers\n",
    "app_train = replace_day_outliers(app_train)\n",
    "app_test = replace_day_outliers(app_test)\n",
    "bureau = replace_day_outliers(bureau)\n",
    "bureau_balance = replace_day_outliers(bureau_balance)\n",
    "credit = replace_day_outliers(credit)\n",
    "cash = replace_day_outliers(cash)\n",
    "previous = replace_day_outliers(previous)\n",
    "installments = replace_day_outliers(installments)"
   ]
  },
  {
   "cell_type": "markdown",
   "metadata": {
    "_uuid": "a98b7dafdd7684f84ea839d36e3cd45e7a257d6c"
   },
   "source": [
    "First we can establish an arbitrary date and then convert the time offset in months into a Pandas `timedelta` object. "
   ]
  },
  {
   "cell_type": "code",
   "execution_count": null,
   "metadata": {
    "_uuid": "3fbf30d7c485bd0e7fce8ca5c9eab524c24c629f"
   },
   "outputs": [],
   "source": [
    "# Establish a starting date for all applications at Home Credit\n",
    "start_date = pd.Timestamp(\"2016-01-01\")\n",
    "start_date"
   ]
  },
  {
   "cell_type": "code",
   "execution_count": null,
   "metadata": {
    "_uuid": "7f3b55740b78dee6db41aed941d76ecd36079d4c"
   },
   "outputs": [],
   "source": [
    "# Convert to timedelta in days\n",
    "for col in ['DAYS_CREDIT', 'DAYS_CREDIT_ENDDATE', 'DAYS_ENDDATE_FACT', 'DAYS_CREDIT_UPDATE']:\n",
    "    bureau[col] = pd.to_timedelta(bureau[col], 'D')\n",
    "    \n",
    "bureau[['DAYS_CREDIT', 'DAYS_CREDIT_ENDDATE', 'DAYS_ENDDATE_FACT', 'DAYS_CREDIT_UPDATE']].head()"
   ]
  },
  {
   "cell_type": "markdown",
   "metadata": {
    "_uuid": "d1439d9fbc8d12e0c1c483ecf1cb2e1a467d5cd8"
   },
   "source": [
    " These four columns represent different offsets:\n",
    "\n",
    "* `DAYS_CREDIT`: Number of days before current application at Home Credit client applied for loan at other financial institution. We will call this the application date, `bureau_credit_application_date` and make it the `time_index` of the entity. \n",
    "* `DAYS_CREDIT_ENDDATE`: Number of days of credit remaining at time of client's application at Home Credit. We will call this the ending date, `bureau_credit_end_date`\n",
    "* `DAYS_ENDDATE_FACT`: For closed credits, the number of days before current application at Home Credit that credit at other financial institution ended. We will call this the closing date, `bureau_credit_close_date`. \n",
    "* `DAYS_CREDIT_UPDATE`: Number of days before current application at Home Credit that the most recent information about the previous credit arrived. We will call this the update date, `bureau_credit_update_date`. \n",
    "\n",
    "If we were doing manual feature engineering, we might want to create new columns such as by subtracting `DAYS_CREDIT_ENDDATE` from `DAYS_CREDIT` to get the planned length of the loan in days, or subtracting `DAYS_CREDIT_ENDDATE` from `DAYS_ENDDATE_FACT` to find the number of days the client paid off the loan early. However, in this notebook we will not make any features by hand, but rather let featuretools develop useful features for us.\n",
    "\n",
    "To make date columns from the `timedelta`, we simply add the offset to the start date. "
   ]
  },
  {
   "cell_type": "code",
   "execution_count": null,
   "metadata": {
    "_uuid": "9f6515d3f508021ea129327d21cf4ff0428682ea",
    "collapsed": true
   },
   "outputs": [],
   "source": [
    "# Create the date columns\n",
    "bureau['bureau_credit_application_date'] = start_date + bureau['DAYS_CREDIT']\n",
    "bureau['bureau_credit_end_date'] = start_date + bureau['DAYS_CREDIT_ENDDATE']\n",
    "bureau['bureau_credit_close_date'] = start_date + bureau['DAYS_ENDDATE_FACT']\n",
    "bureau['bureau_credit_update_date'] = start_date + bureau['DAYS_CREDIT_UPDATE']"
   ]
  },
  {
   "cell_type": "markdown",
   "metadata": {
    "_uuid": "3d6cc1285f572ce5f1470a8ae9892d2442927dea"
   },
   "source": [
    "### Plot for a sanity check\n",
    "\n",
    "To make sure the conversion went as planned, let's make a plot showing the distribution of loan lengths."
   ]
  },
  {
   "cell_type": "code",
   "execution_count": null,
   "metadata": {
    "_uuid": "e35b9c0a31ace5d9b516ec61647bb4e565c92be5"
   },
   "outputs": [],
   "source": [
    "import matplotlib.pyplot as plt\n",
    "import seaborn as sns\n",
    "# Set up default plot styles\n",
    "plt.rcParams['font.size'] = 26\n",
    "plt.style.use('fivethirtyeight')\n",
    "\n",
    "# Drop the time offset columns\n",
    "bureau = bureau.drop(columns = ['DAYS_CREDIT', 'DAYS_CREDIT_ENDDATE', 'DAYS_ENDDATE_FACT', 'DAYS_CREDIT_UPDATE'])\n",
    "\n",
    "plt.figure(figsize = (10, 8))\n",
    "sns.distplot((bureau['bureau_credit_end_date'] - bureau['bureau_credit_application_date']).dropna().dt.days);\n",
    "plt.xlabel('Length of Loan (Days)', size = 24); plt.ylabel('Density', size = 24); plt.title('Loan Length', size = 30);"
   ]
  },
  {
   "cell_type": "markdown",
   "metadata": {
    "_uuid": "d0ec9e9fbed4f5b57b74090d03630574cdc7430a"
   },
   "source": [
    "It looks as if there are a number of loans that are unreasonably long. Reading through the discussions, other people had noticed this as well. At this point, we will just leave in the outliers. We also will drop the time offset columns."
   ]
  },
  {
   "cell_type": "markdown",
   "metadata": {
    "_uuid": "b1b0cc1801c4acc3779046c7979b694eb17bb432"
   },
   "source": [
    "#### Bureau Balance\n",
    "\n",
    "The bureau balance dataframe has a `MONTHS_BALANCE` column that we can use as a months offset. The resulting column of dates can be used as a `time_index`."
   ]
  },
  {
   "cell_type": "code",
   "execution_count": null,
   "metadata": {
    "_uuid": "1b52e6985388321f912bb44cbcf3c1e039a4283e"
   },
   "outputs": [],
   "source": [
    "# Convert to timedelta\n",
    "bureau_balance['MONTHS_BALANCE'] = pd.to_timedelta(bureau_balance['MONTHS_BALANCE'], 'M')\n",
    "\n",
    "# Make a date column\n",
    "bureau_balance['bureau_balance_date'] = start_date + bureau_balance['MONTHS_BALANCE']\n",
    "bureau_balance = bureau_balance.drop(columns = ['MONTHS_BALANCE'])\n",
    "\n",
    "# Select one loan and plot\n",
    "example_credit = bureau_balance[bureau_balance['SK_ID_BUREAU'] == 5001709]\n",
    "plt.plot(example_credit['bureau_balance_date'], example_credit['STATUS'], 'ro');\n",
    "plt.title('Loan 5001709 over Time'); plt.xlabel('Date'); plt.ylabel('Status');"
   ]
  },
  {
   "cell_type": "markdown",
   "metadata": {
    "_uuid": "4346e0936b3a9004f2923bcc8ead8aa876e41c24"
   },
   "source": [
    "#### Previous Applications\n",
    "\n",
    "The `previous` dataframe holds previous applications at Home Credit. There are a number of time offset columns in this dataset:\n",
    "\n",
    "* `DAYS_DECISION`: number of days before current application at Home Credit that decision was made about previous application. This will be the `time_index` of the data.\n",
    "* `DAYS_FIRST_DRAWING`: number of days before current application at Home Credit that first disbursement was made\n",
    "* `DAYS_FIRST_DUE`: number of days before current application at Home Credit that first due was suppoed to be\n",
    "* `DAYS_LAST_DUE_1ST_VERSION`: number of days before current application at Home Credit that first was??\n",
    "* `DAYS_LAST_DUE`: number of days before current application at Home Credit of last due date of previous application\n",
    "* `DAYS_TERMINATION`: number of days before current application at Home Credit of expected termination\n",
    "\n",
    "Let's convert all these into timedeltas in a loop and then make time columns."
   ]
  },
  {
   "cell_type": "code",
   "execution_count": null,
   "metadata": {
    "_uuid": "9e3d05b1f7ff822d38b0de243e1c69e560f0b65e"
   },
   "outputs": [],
   "source": [
    "# Convert to timedeltas in days\n",
    "for col in ['DAYS_DECISION', 'DAYS_FIRST_DRAWING', 'DAYS_FIRST_DUE', 'DAYS_LAST_DUE_1ST_VERSION', 'DAYS_LAST_DUE', 'DAYS_TERMINATION']:\n",
    "    previous[col] = pd.to_timedelta(previous[col], 'D')\n",
    "    \n",
    "# Make date columns\n",
    "previous['previous_decision_date'] = start_date + previous['DAYS_DECISION']\n",
    "previous['previous_drawing_date'] = start_date + previous['DAYS_FIRST_DRAWING']\n",
    "previous['previous_first_due_date'] = start_date + previous['DAYS_FIRST_DUE']\n",
    "previous['previous_last_duefirst_date'] = start_date + previous['DAYS_LAST_DUE_1ST_VERSION']\n",
    "previous['previous_last_due_date'] = start_date + previous['DAYS_LAST_DUE']\n",
    "previous['previous_termination_date'] = start_date + previous['DAYS_TERMINATION']\n",
    "\n",
    "# Drop the time offset columns\n",
    "previous = previous.drop(columns = ['DAYS_DECISION', 'DAYS_FIRST_DRAWING', 'DAYS_FIRST_DUE', 'DAYS_LAST_DUE_1ST_VERSION', 'DAYS_LAST_DUE', 'DAYS_TERMINATION'])\n",
    "\n",
    "plt.figure(figsize = (8, 6))\n",
    "example_client = previous[previous['SK_ID_CURR'] == 100007]\n",
    "plt.plot(example_client['previous_decision_date'], example_client['AMT_CREDIT'], 'ro')\n",
    "plt.title('Client 100007 Previous Loan Amounts'); plt.xlabel('Date'); plt.ylabel('Credit Amount');"
   ]
  },
  {
   "cell_type": "markdown",
   "metadata": {
    "_uuid": "1ace223fc690aaf7a8ded8d29bb934de0aaef06a"
   },
   "source": [
    "#### Previous Credit and Cash\n",
    "\n",
    "The `credit_card_balance` and `POS_CASH_balance` each have a `MONTHS_BALANCE` column with the month offset. This is the number of months before the current application at Home Credit of the previous application record. These will represent the `time_index` of the data. "
   ]
  },
  {
   "cell_type": "code",
   "execution_count": null,
   "metadata": {
    "_uuid": "62b9d330933fbe74016bbb7f4980f8fc5e192ace"
   },
   "outputs": [],
   "source": [
    "# Convert to timedelta objects\n",
    "credit['MONTHS_BALANCE'] = pd.to_timedelta(credit['MONTHS_BALANCE'], 'M')\n",
    "cash['MONTHS_BALANCE'] = pd.to_timedelta(cash['MONTHS_BALANCE'], 'M')\n",
    "\n",
    "# Make a date column\n",
    "credit['credit_balance_date'] = start_date + credit['MONTHS_BALANCE']\n",
    "credit = credit.drop(columns = ['MONTHS_BALANCE'])\n",
    "\n",
    "# Make a date column\n",
    "cash['cash_balance_date'] = start_date + cash['MONTHS_BALANCE']\n",
    "cash = cash.drop(columns = ['MONTHS_BALANCE'])\n",
    "\n",
    "# Select on loan and plot\n",
    "example_credit = cash[cash['SK_ID_PREV'] == 1369693]\n",
    "\n",
    "plt.plot(example_credit['cash_balance_date'], example_credit['NAME_CONTRACT_STATUS'], 'ro');\n",
    "plt.title('Loan 1369693 over Time'); plt.xlabel('Date'); plt.ylabel('Contract Status');"
   ]
  },
  {
   "cell_type": "markdown",
   "metadata": {
    "_uuid": "250f4cf48e1d8800c5f81b16a40042d707a8ccb5"
   },
   "source": [
    "#### Installments Payments \n",
    "\n",
    "The `installments_payments` data contains information on each payment made on the previous loans at Home Credit. It has two date offset columns:\n",
    "\n",
    "* `DAYS_INSTALMENT`: number of days before current application at Home Credit that previous installment was supposed to be paid\n",
    "* `DAYS_ENTRY_PAYMENT`: number of days before current application at Home Credit that previous installment was actually paid\n",
    "\n",
    "By now the process should be familiar: convert to timedeltas and then make time columns. The DAYS_INSTALMENT will serve as the `time_index`. "
   ]
  },
  {
   "cell_type": "code",
   "execution_count": null,
   "metadata": {
    "_uuid": "e5b716ca0aecb467c3c368dbafc0a1f970325033"
   },
   "outputs": [],
   "source": [
    "# Conver to time delta object\n",
    "installments['DAYS_INSTALMENT'] = pd.to_timedelta(installments['DAYS_INSTALMENT'], 'D')\n",
    "installments['DAYS_ENTRY_PAYMENT'] = pd.to_timedelta(installments['DAYS_ENTRY_PAYMENT'], 'D')\n",
    "\n",
    "# Create time column and drop\n",
    "installments['installments_due_date'] = start_date + installments['DAYS_INSTALMENT']\n",
    "installments = installments.drop(columns = ['DAYS_INSTALMENT'])\n",
    "\n",
    "installments['installments_paid_date'] = start_date + installments['DAYS_ENTRY_PAYMENT']\n",
    "installments = installments.drop(columns = ['DAYS_ENTRY_PAYMENT'])\n",
    "\n",
    "# Select one loan and plot\n",
    "example_credit = installments[installments['SK_ID_PREV'] == 1369693]\n",
    "plt.plot((example_credit['installments_due_date'] - example_credit['installments_paid_date']).dt.days, example_credit['AMT_INSTALMENT'], 'ro');\n",
    "plt.title('Loan 1369693'); plt.xlabel('Days Paid Early'); plt.ylabel('Installment Amount');"
   ]
  },
  {
   "cell_type": "markdown",
   "metadata": {
    "_uuid": "c250795cb7eb0cbd2de893656e3054525ae96990"
   },
   "source": [
    "# Applying Featuretools\n",
    "\n",
    "We can now start making features using the time columns. We will create an entityset named clients much as before, but now we have time variables that we can use. "
   ]
  },
  {
   "cell_type": "code",
   "execution_count": null,
   "metadata": {
    "_uuid": "968ea4e675db3f7066b275fd688f2cba536c7d73",
    "collapsed": true
   },
   "outputs": [],
   "source": [
    "# Make an entityset\n",
    "es = ft.EntitySet(id = 'clients')"
   ]
  },
  {
   "cell_type": "markdown",
   "metadata": {
    "_uuid": "32f71a698aaab58c60e530a9ad935525a20887df"
   },
   "source": [
    "### Entities\n",
    "\n",
    "When creating the entities, we specify the `index`, the `time_index` (if present), and the `variable_types` (if they need to be specified). "
   ]
  },
  {
   "cell_type": "code",
   "execution_count": null,
   "metadata": {
    "_uuid": "6e31e8014ffc780c83ff3d9aaf8644bef35157c5",
    "collapsed": true
   },
   "outputs": [],
   "source": [
    "# Entities with a unique index\n",
    "es = es.entity_from_dataframe(entity_id = 'app_train', dataframe = app_train, \n",
    "                              index = 'SK_ID_CURR', variable_types = app_types)\n",
    "\n",
    "es = es.entity_from_dataframe(entity_id = 'app_test', dataframe = app_test, \n",
    "                              index = 'SK_ID_CURR', variable_types = app_test_types)\n",
    "\n",
    "es = es.entity_from_dataframe(entity_id = 'bureau', dataframe = bureau, \n",
    "                              index = 'SK_ID_BUREAU', time_index='bureau_credit_application_date')\n",
    "\n",
    "es = es.entity_from_dataframe(entity_id = 'previous', dataframe = previous, \n",
    "                              index = 'SK_ID_PREV', time_index = 'previous_decision_date',\n",
    "                              variable_types = previous_types)\n",
    "\n",
    "# Entities that do not have a unique index\n",
    "es = es.entity_from_dataframe(entity_id = 'bureau_balance', dataframe = bureau_balance, \n",
    "                              make_index = True, index = 'bb_index',\n",
    "                              time_index = 'bureau_balance_date')\n",
    "\n",
    "es = es.entity_from_dataframe(entity_id = 'cash', dataframe = cash, \n",
    "                              make_index = True, index = 'cash_index',\n",
    "                              time_index = 'cash_balance_date')\n",
    "\n",
    "es = es.entity_from_dataframe(entity_id = 'installments', dataframe = installments,\n",
    "                              make_index = True, index = 'installments_index',\n",
    "                              time_index = 'installments_paid_date')\n",
    "\n",
    "es = es.entity_from_dataframe(entity_id = 'credit', dataframe = credit,\n",
    "                              make_index = True, index = 'credit_index',\n",
    "                              time_index = 'credit_balance_date')"
   ]
  },
  {
   "cell_type": "markdown",
   "metadata": {
    "_uuid": "30837973b13ee7c659b7bba2730c279cc95a7d28"
   },
   "source": [
    "### Relationships\n",
    "\n",
    "Not surprisingly, the relationships between tables has not changed since the previous implementation. "
   ]
  },
  {
   "cell_type": "code",
   "execution_count": null,
   "metadata": {
    "_uuid": "2d793ffcb05bd6c20ef098fc78437e00859d3d3f",
    "collapsed": true
   },
   "outputs": [],
   "source": [
    "# Relationship between app and bureau\n",
    "r_app_bureau = ft.Relationship(es['app_train']['SK_ID_CURR'], es['bureau']['SK_ID_CURR'])\n",
    "\n",
    "# Test Relationship between app and bureau\n",
    "r_test_app_bureau = ft.Relationship(es['app_test']['SK_ID_CURR'], es['bureau']['SK_ID_CURR'])\n",
    "\n",
    "# Relationship between bureau and bureau balance\n",
    "r_bureau_balance = ft.Relationship(es['bureau']['SK_ID_BUREAU'], es['bureau_balance']['SK_ID_BUREAU'])\n",
    "\n",
    "# Relationship between current app and previous apps\n",
    "r_app_previous = ft.Relationship(es['app_train']['SK_ID_CURR'], es['previous']['SK_ID_CURR'])\n",
    "\n",
    "# Test Relationship between current app and previous apps\n",
    "r_test_app_previous = ft.Relationship(es['app_test']['SK_ID_CURR'], es['previous']['SK_ID_CURR'])\n",
    "\n",
    "# Relationships between previous apps and cash, installments, and credit\n",
    "r_previous_cash = ft.Relationship(es['previous']['SK_ID_PREV'], es['cash']['SK_ID_PREV'])\n",
    "r_previous_installments = ft.Relationship(es['previous']['SK_ID_PREV'], es['installments']['SK_ID_PREV'])\n",
    "r_previous_credit = ft.Relationship(es['previous']['SK_ID_PREV'], es['credit']['SK_ID_PREV'])\n",
    "\n",
    "# Add in the defined relationships\n",
    "es = es.add_relationships([r_app_bureau, r_test_app_bureau, r_bureau_balance, r_app_previous, r_test_app_previous,\n",
    "                           r_previous_cash, r_previous_installments, r_previous_credit])\n",
    "# Print out the EntitySet\n",
    "es"
   ]
  },
  {
   "cell_type": "markdown",
   "metadata": {
    "_uuid": "34b386ed072189f23e5824d608364a1b0c18b5c4"
   },
   "source": [
    "## Time Features\n",
    "\n",
    "Let's look at some of the time features we can make from the new time variables. Because these times are relative and not absolute, we are only interested in values that show change over time, such as trend or cumulative sum. We would not want to calculate values like the year or month since we choose an arbitrary starting date. \n",
    "\n",
    "Throughout this notebook, we will pass in a `chunk_size` to the `dfs` call which specifies the number of rows (if an integer) or the fraction or rows to use in each chunk (if a float). This can help to optimize the `dfs` procedure, and the `chunk_size` can have a [significant effect on the run time](https://docs.featuretools.com/guides/performance.html). Here we will use a chunk size equal to the number of rows in the data so all the results will be calculated in one pass. We also want to avoid making any features with the testing data, so we pass in `ignore_entities = [app_test]`."
   ]
  },
  {
   "cell_type": "code",
   "execution_count": null,
   "metadata": {
    "_uuid": "a66fc6efe5ad82c84b8ebb30a7e2552f90b75a2b",
    "collapsed": true
   },
   "outputs": [],
   "source": [
    "time_features, time_feature_names = ft.dfs(entityset = es, target_entity = 'app_train', \n",
    "                                           trans_primitives = ['cum_sum', 'time_since_previous'], max_depth = 2,\n",
    "                                           agg_primitives = ['trend'] ,\n",
    "                                           features_only = False, verbose = True,\n",
    "                                           chunk_size = len(app_train),\n",
    "                                           ignore_entities = ['app_test'])"
   ]
  },
  {
   "cell_type": "code",
   "execution_count": null,
   "metadata": {
    "_uuid": "d1e856e2d5069b7536337096ca281d70a1aecbcf",
    "collapsed": true
   },
   "outputs": [],
   "source": [
    "time_features.iloc[:, -10:].head()"
   ]
  },
  {
   "cell_type": "markdown",
   "metadata": {
    "_uuid": "87983c730852404bd90ad5841c1e9a0b3cd2e132"
   },
   "source": [
    "Let's visualize one of these new variables. We can look at the trend in credit size over time. A positive value indicates that the loan size for the client is increasing over time. "
   ]
  },
  {
   "cell_type": "code",
   "execution_count": null,
   "metadata": {
    "_uuid": "5675ebebc6ae1bba9c0fddf2422f69d1176148f4",
    "collapsed": true
   },
   "outputs": [],
   "source": [
    "plt.figure(figsize = (8, 6))\n",
    "plt.hist(time_features['TREND(bureau.AMT_CREDIT_SUM, bureau_credit_application_date)'].dropna(), edgecolor = 'k');\n",
    "plt.xlabel('TREND(bureau.AMT_CREDIT_SUM, bureau_credit_application_date)'); plt.ylabel('Counts'); plt.title('Distribution of Trends in Credit Sum');"
   ]
  },
  {
   "cell_type": "code",
   "execution_count": null,
   "metadata": {
    "_uuid": "a70f6f3ce82ebbd3e1595123359f7b2d76622b8a",
    "collapsed": true
   },
   "outputs": [],
   "source": [
    "plt.figure(figsize = (8, 6))\n",
    "plt.hist(time_features['TREND(previous.AMT_APPLICATION, previous_decision_date)'].dropna(), edgecolor = 'k');\n",
    "plt.xlabel('TREND(previous.AMT_APPLICATION, previous_decision_date)'); plt.ylabel('Counts'); plt.title('Distribution of Trends in Amount of Application');"
   ]
  },
  {
   "cell_type": "code",
   "execution_count": null,
   "metadata": {
    "_uuid": "09743addd4fe66a1fb37f86178bf471a98c40b4b",
    "collapsed": true
   },
   "outputs": [],
   "source": [
    "time_feature_names[-10:]"
   ]
  },
  {
   "cell_type": "markdown",
   "metadata": {
    "_uuid": "ba9a9ac7428dc14f75b8c03bb4d3f06f91d7228c"
   },
   "source": [
    "# Interesting Values\n",
    "\n",
    "Another method we can use in featuretools is \"interesting values.\" Specifying interesting values will calculate new features conditioned on values of existing features. For example, we can create new features that are conditioned on the value of `NAME_CONTRACT_STATUS` in the `previous` dataframe. Each stat will be calculated for the specified interesting values which can be useful when we know that there are certain indicators that are of greater importance in the data.  "
   ]
  },
  {
   "cell_type": "code",
   "execution_count": null,
   "metadata": {
    "_uuid": "4c68349dee9dadccb7b4e2c6249769fad2061949",
    "collapsed": true
   },
   "outputs": [],
   "source": [
    "previous['NAME_CONTRACT_STATUS'].value_counts()"
   ]
  },
  {
   "cell_type": "markdown",
   "metadata": {
    "_uuid": "dcdee9616c2c011aeecb7636fdab76b5a96cbece"
   },
   "source": [
    "To use interesting values, we assign them to the variable and then specify the `where_primitives` in the `dfs` call. "
   ]
  },
  {
   "cell_type": "code",
   "execution_count": null,
   "metadata": {
    "_uuid": "34a29865f9a535e618699f67848560d53202bc04",
    "collapsed": true
   },
   "outputs": [],
   "source": [
    "# Assign interesting values\n",
    "es['previous']['NAME_CONTRACT_STATUS'].interesting_values = ['Approved', 'Refused', 'Canceled']\n",
    "\n",
    "# Calculate the features with intereseting values\n",
    "interesting_features, interesting_feature_names = ft.dfs(entityset=es, target_entity='app_train', max_depth = 1, \n",
    "                                                         where_primitives = ['mean', 'mode'], \n",
    "                                                         trans_primitives=[], features_only = False, verbose = True,\n",
    "                                                         chunk_size = len(app_train),\n",
    "                                                         ignore_entities = ['app_test'])"
   ]
  },
  {
   "cell_type": "code",
   "execution_count": null,
   "metadata": {
    "_uuid": "fa9c22d154a9d6e51c644e6d4fe7cd3c8bf92297",
    "collapsed": true
   },
   "outputs": [],
   "source": [
    "interesting_features.iloc[:, -6:, ].head()"
   ]
  },
  {
   "cell_type": "markdown",
   "metadata": {
    "_uuid": "2095a38b074bdc87c4580f6b1452a2ebca7a7da2"
   },
   "source": [
    "One of the features is `MEAN(previous.CNT_PAYMENT WHERE NAME_CONTRACT_STATUS = Approved)`. This shows the average \"term of previous credit\" on previous loans conditioned on the previous loan being approved. We can compare the distribution of this feature to the `MEAN(previous.CNT_PAYMENT WHERE NAME_CONTRACT_STATUS = Canceled)` to see how these loans differ."
   ]
  },
  {
   "cell_type": "code",
   "execution_count": null,
   "metadata": {
    "_uuid": "95c7073ad8a4b239b557cc4a4ac85ff86dc9ed67",
    "collapsed": true
   },
   "outputs": [],
   "source": [
    "plt.figure(figsize = (10, 8))\n",
    "sns.kdeplot(interesting_features['MEAN(previous.CNT_PAYMENT WHERE NAME_CONTRACT_STATUS = Approved)'].dropna(), label = 'Approved')\n",
    "sns.kdeplot(interesting_features['MEAN(previous.CNT_PAYMENT WHERE NAME_CONTRACT_STATUS = Canceled)'].dropna(), label = 'Canceled')\n",
    "plt.xlabel('MEAN(previous.CNT_PAYMENT)'); plt.ylabel('Density'); plt.title('Average Term of Previous Credit');"
   ]
  },
  {
   "cell_type": "code",
   "execution_count": null,
   "metadata": {
    "_uuid": "7654d838f5e9188f951f4034dc7c86ca676813b3",
    "collapsed": true
   },
   "outputs": [],
   "source": [
    "# Plot of client type when contract was approved\n",
    "plt.figure(figsize = (20, 6))\n",
    "plt.subplot(1, 2, 1)\n",
    "plt.bar(list(range(3)), interesting_features['MODE(previous.NAME_CLIENT_TYPE WHERE NAME_CONTRACT_STATUS = Approved)'].value_counts())\n",
    "plt.xticks(list(range(3)), interesting_features['MODE(previous.NAME_CLIENT_TYPE WHERE NAME_CONTRACT_STATUS = Approved)'].value_counts().index);\n",
    "plt.xlabel(\"Client Type\"); plt.ylabel(\"Counts\");\n",
    "plt.title(\"Most Common Client Type where Contract was Approved\");\n",
    "\n",
    "# Plot of client type where contract was refused\n",
    "plt.subplot(1, 2, 2)\n",
    "plt.bar(list(range(4)), interesting_features['MODE(previous.NAME_CLIENT_TYPE WHERE NAME_CONTRACT_STATUS = Refused)'].value_counts())\n",
    "plt.xticks(list(range(4)), interesting_features['MODE(previous.NAME_CLIENT_TYPE WHERE NAME_CONTRACT_STATUS = Refused)'].value_counts().index);\n",
    "plt.xlabel(\"Client Type\"); plt.ylabel(\"Counts\");\n",
    "plt.title(\"Most Common Client Type where Contract was Refused\");"
   ]
  },
  {
   "cell_type": "markdown",
   "metadata": {
    "_uuid": "fdde55a686bd75eba21ca2d954ed4a008a9e562f"
   },
   "source": [
    "Based on the most important features returned by a model, we can create new interesting features. This is one area where we can apply domain knowledge to feature creation."
   ]
  },
  {
   "cell_type": "markdown",
   "metadata": {
    "_uuid": "2883e2a5f43cd95c583a665286201f8adba9f50f"
   },
   "source": [
    "# Seed Features\n",
    "\n",
    "An additional extension to the default aggregations and transformations is to use [seed features](https://docs.featuretools.com/automated_feature_engineering/dfs_usage_tips.html#specifying-list-of-aggregation-functions). These are user defined features that we provide to deep feature synthesis that can then be built on top of where possible. \n",
    "\n",
    "As an example, we can create a seed feature that determines whether or not a payment was late. This time when we make the `dfs` function call, we need to pass in the `seed_features` argument."
   ]
  },
  {
   "cell_type": "code",
   "execution_count": null,
   "metadata": {
    "_uuid": "4fd988c21303fe69f4c1600e25a405c2710c8feb",
    "collapsed": true
   },
   "outputs": [],
   "source": [
    "# Late Payment seed feature\n",
    "late_payment = ft.Feature(es['installments']['installments_due_date']) < ft.Feature(es['installments']['installments_paid_date'])\n",
    "\n",
    "# Rename the feature\n",
    "late_payment = late_payment.rename(\"late_payment\")\n",
    "\n",
    "# DFS with seed features\n",
    "seed_features, seed_feature_names = ft.dfs(entityset = es,\n",
    "                                           target_entity = 'app_train',\n",
    "                                           agg_primitives = ['percent_true', 'mean'],\n",
    "                                           trans_primitives = [], \n",
    "                                           seed_features = [late_payment],\n",
    "                                           features_only = False, verbose = True,\n",
    "                                           chunk_size = len(app_train),\n",
    "                                           ignore_entities = ['app_test'])"
   ]
  },
  {
   "cell_type": "code",
   "execution_count": null,
   "metadata": {
    "_uuid": "760ccd4de173c335d8e84ab08dc0c8368a0fa6aa",
    "collapsed": true
   },
   "outputs": [],
   "source": [
    "seed_features.iloc[:, -2:].head(10)"
   ]
  },
  {
   "cell_type": "code",
   "execution_count": null,
   "metadata": {
    "_uuid": "ae77ed3b097b2bf5d836ee639e05175104d759ed",
    "collapsed": true
   },
   "outputs": [],
   "source": [
    "sns.kdeplot(seed_features['PERCENT_TRUE(installments.late_payment)'].dropna(), label = '')\n",
    "plt.xlabel('Late Installments'); plt.ylabel('Density'); plt.title('Late Installment Fraction by Client');"
   ]
  },
  {
   "cell_type": "markdown",
   "metadata": {
    "_uuid": "439c977b2f542d46def4f7bb3032dcc96a20b540"
   },
   "source": [
    "Another seed feature we can use is whether or not a previous loan at another institution was past due. "
   ]
  },
  {
   "cell_type": "code",
   "execution_count": null,
   "metadata": {
    "_uuid": "fff2cdf330468b9f4e7511f25b3c07df301be3c0",
    "collapsed": true
   },
   "outputs": [],
   "source": [
    "# Create a feed representing whether the loan is past due\n",
    "past_due = ft.Feature(es['bureau_balance']['STATUS']).isin(['1', '2', '3', '4', '5'])\n",
    "past_due = past_due.rename(\"past_due\")"
   ]
  },
  {
   "cell_type": "code",
   "execution_count": null,
   "metadata": {
    "_uuid": "60367618d98a813537712c806fae7b328cffc066",
    "collapsed": true
   },
   "outputs": [],
   "source": [
    "# DFS with specified seed feature\n",
    "seed_features, seed_feature_names = ft.dfs(entityset = es,\n",
    "                                           target_entity = 'app_train',\n",
    "                                           agg_primitives = ['percent_true', 'mean'],\n",
    "                                           trans_primitives = [], \n",
    "                                           seed_features = [past_due],\n",
    "                                           features_only = False, verbose = True,\n",
    "                                           chunk_size = len(app_train),\n",
    "                                           ignore_entities = ['app_test'])"
   ]
  },
  {
   "cell_type": "markdown",
   "metadata": {
    "_uuid": "b1ee79fa330f22fefad7ff4cd4c2a6c32883ad5b"
   },
   "source": [
    "# Create Custom Feature Primitives\n",
    "\n",
    "If we are not satisfied with the existing primitives in featuretools, we [can write our own](https://docs.featuretools.com/automated_feature_engineering/primitives.html#defining-custom-primitives). This is an extremely powerful method that lets us expand the capabilities of featuretools. \n",
    "\n",
    "### NormalizedModeCount and LongestSeq\n",
    "\n",
    "As an example, we will make three features, building on code from the [featuretools GitHub](https://github.com/Featuretools/featuretools). These will be aggregation primitives, where the function takes in an array of values and returns a single value.  The first, `NormalizedModeCount`, builds upon the `Mode` function by returning the fraction of total observations in a categorical feature that the model makes up. In other words, for a client with 5 total `bureau_balance` observations where 4 of the `STATUS` were `X`, the value of the `NormalizedModeCount` would be 0.8. The idea is to record not only the most common value, but also the relative frequency of the most common value compared to all observations.  \n",
    "\n",
    "The second custom feature will record the longest consecutive run of a discrete variable. `LongestSeq` takes in an array of discrete values and returns the element that appears the most consecutive times. Because entities in the entityset are sorted by the `time_index`, this will return the value that occurs the most number of times in a row with respect to time. \n",
    "\n",
    "\n",
    "\n"
   ]
  },
  {
   "cell_type": "code",
   "execution_count": null,
   "metadata": {
    "_uuid": "2a009fb59aa0c5f262830f1c03407615a9179ba0",
    "collapsed": true
   },
   "outputs": [],
   "source": [
    "from featuretools.variable_types import (\n",
    "    Boolean, Datetime,\n",
    "    DatetimeTimeIndex,\n",
    "    Discrete,\n",
    "    Index,\n",
    "    Numeric,\n",
    "    Variable,\n",
    "    Id\n",
    ")\n",
    "\n",
    "from featuretools.primitives import AggregationPrimitive, make_agg_primitive\n",
    "from datetime import datetime, timedelta\n",
    "\n",
    "from collections import Counter\n",
    "\n",
    "\n",
    "def normalized_mode_count(x):\n",
    "    \"\"\"\n",
    "    Return the fraction of total observations that \n",
    "    are the most common observation. For example, \n",
    "    in an array of ['A', 'A', 'A', 'B', 'B'], the \n",
    "    function will return 0.6.\"\"\"\n",
    "    \n",
    "    if x.mode().shape[0] == 0:\n",
    "        return np.nan\n",
    "            \n",
    "    # Count occurence of each value\n",
    "    counts = dict(Counter(x.values))\n",
    "    # Find the mode\n",
    "    mode = x.mode().iloc[0]\n",
    "    # Divide the occurences of mode by the total occurrences\n",
    "    return counts[mode] / np.sum(list(counts.values()))\n",
    "    \n",
    "\n",
    "NormalizedModeCount = make_agg_primitive(function = normalized_mode_count, \n",
    "                                         input_types = [Discrete],\n",
    "                                         return_type = Numeric)\n",
    "\n",
    "# Function from https://codereview.stackexchange.com/a/15095\n",
    "def longest_repetition(x):\n",
    "    \"\"\"\n",
    "    Returns the item with most consecutive occurrences in `x`. \n",
    "    If there are multiple items with the same number of conseqcutive occurrences,\n",
    "    it will return the first one. If `x` is empty, returns None. \n",
    "    \"\"\"\n",
    "    \n",
    "    x = x.dropna()\n",
    "    \n",
    "    if x.shape[0] < 1:\n",
    "        return None\n",
    "    \n",
    "    # Set the longest element\n",
    "    longest_element = current_element = None\n",
    "    longest_repeats = current_repeats = 0\n",
    "    \n",
    "    # Iterate through the iterable\n",
    "    for element in x:\n",
    "        if current_element == element:\n",
    "            current_repeats += 1\n",
    "        else:\n",
    "            current_element = element\n",
    "            current_repeats = 1\n",
    "        if current_repeats > longest_repeats:\n",
    "            longest_repeats = current_repeats\n",
    "            longest_element = current_element\n",
    "            \n",
    "    return longest_element\n",
    "\n",
    "LongestSeq = make_agg_primitive(function = longest_repetition,\n",
    "                                     input_types = [Discrete],\n",
    "                                     return_type = Discrete)    "
   ]
  },
  {
   "cell_type": "code",
   "execution_count": null,
   "metadata": {
    "_uuid": "46e43561ec800ccdedb6247a8f11abe57a1db8c4",
    "collapsed": true
   },
   "outputs": [],
   "source": [
    "# DFS with custom features\n",
    "custom_features, custom_feature_names = ft.dfs(entityset = es,\n",
    "                                              target_entity = 'app_train',\n",
    "                                              agg_primitives = [NormalizedModeCount, LongestSeq],\n",
    "                                              max_depth = 2,\n",
    "                                              trans_primitives = [],\n",
    "                                              features_only = False, verbose = True,\n",
    "                                              chunk_size = len(app_train),\n",
    "                                              ignore_entities = ['app_test'])\n",
    "\n",
    "custom_features.iloc[:, -40:].head()"
   ]
  },
  {
   "cell_type": "code",
   "execution_count": null,
   "metadata": {
    "_uuid": "0a6afb90b7fc15165e3e04ad570b19f975cb505c",
    "collapsed": true
   },
   "outputs": [],
   "source": [
    "plt.figure(figsize = (8, 6))\n",
    "plt.bar(custom_features['LONGEST_REPETITION(previous.NAME_YIELD_GROUP)'].value_counts().index, custom_features['LONGEST_REPETITION(previous.NAME_YIELD_GROUP)'].value_counts(), edgecolor = 'k')\n",
    "plt.xlabel('NAME_YIELD_GROUP'); plt.ylabel('Counts'); plt.title('Longest Repetition of Previous Name Yield Group');"
   ]
  },
  {
   "cell_type": "code",
   "execution_count": null,
   "metadata": {
    "_uuid": "09ddb054fc5dcac31e0609bb8711c2d11e58f676",
    "collapsed": true
   },
   "outputs": [],
   "source": [
    "plt.figure(figsize = (8, 6))\n",
    "sns.kdeplot(custom_features['NORMALIZED_MODE_COUNT(previous.NAME_PRODUCT_TYPE)'], label = 'NORMALIZED_MODE_COUNT(previous.NAME_PRODUCT_TYPE)')\n",
    "sns.kdeplot(custom_features['NORMALIZED_MODE_COUNT(bureau.CREDIT_ACTIVE)'], label = 'NORMALIZED_MODE_COUNT(bureau.CREDIT_ACTIVE)')"
   ]
  },
  {
   "cell_type": "markdown",
   "metadata": {
    "_uuid": "b9f41c5f713306d54af22fdfb5a7e73a1e9c3e51"
   },
   "source": [
    "These features could be completely useless, or they may be helpful. Only building a model and training it with the features will help us determine the answer. \n",
    "\n",
    "### MostRecent\n",
    "\n",
    "The final custom feature will be `MOSTRECENT`. This simply returns the most recent value of a discrete variable with respect to time columns in a dataframe. When we create an entity, featuretools will [sort the entity](https://github.com/Featuretools/featuretools/blob/master/featuretools/entityset/entity.py) by the `time_index`. Therefore, the built-in aggregation primitive `LAST` calculates the most recent value based on the time index. However, in cases where there are multiple different time columns, it might be useful to know the most recent value with respect to all of the times. To build the custom feature primitive, I adapted the existing `TREND` primitive ([code here](https://github.com/Featuretools/featuretools/blob/master/featuretools/primitives/aggregation_primitives.py)). "
   ]
  },
  {
   "cell_type": "code",
   "execution_count": null,
   "metadata": {
    "_uuid": "2ac5ba95df7df570d19cf7ad252dfd519864839c",
    "collapsed": true
   },
   "outputs": [],
   "source": [
    "# Building on the Trend Aggregation Primitive\n",
    "# Copied from https://github.com/Featuretools/featuretools/blob/master/featuretools/primitives/aggregation_primitives.py\n",
    "\n",
    "def most_recent(y, x):\n",
    "    df = pd.DataFrame({\"x\": x, \"y\": y}).dropna()\n",
    "            \n",
    "    if df.shape[0] < 1:\n",
    "        return np.nan\n",
    "\n",
    "    # Sort the values by timestamps reversed\n",
    "    df = df.sort_values('x', ascending = False).reset_index()\n",
    "\n",
    "    # Return the most recent occurence\n",
    "    return df.iloc[0]['y']\n",
    "\n",
    "MostRecent = make_agg_primitive(function = most_recent,\n",
    "                                input_types = [Discrete, Datetime],\n",
    "                                return_type = Discrete)"
   ]
  },
  {
   "cell_type": "code",
   "execution_count": null,
   "metadata": {
    "_uuid": "e4756022bd4b85a1151afd0435ca0331ed2ef33d",
    "collapsed": true
   },
   "outputs": [],
   "source": [
    "# DFS with custom feature\n",
    "custom_features, custom_feature_names = ft.dfs(entityset = es,\n",
    "                                              target_entity = 'app_train',\n",
    "                                              agg_primitives = ['last', MostRecent],\n",
    "                                               max_depth = 1,\n",
    "                                              trans_primitives = [],\n",
    "                                              features_only = False, verbose = True,\n",
    "                                              chunk_size = len(app_train),\n",
    "                                              ignore_entities = ['app_test'])"
   ]
  },
  {
   "cell_type": "markdown",
   "metadata": {
    "_uuid": "8e48d26e80a4eae4baf629d10e7ce028a8c5355c"
   },
   "source": [
    "To test whether this function works as intended, we can compare the most recent variable of `CREDIT_TYPE` ordered by two different dates. "
   ]
  },
  {
   "cell_type": "code",
   "execution_count": null,
   "metadata": {
    "_uuid": "c637391cbc2056d352ec2e8a5a02ecee878818dd",
    "collapsed": true
   },
   "outputs": [],
   "source": [
    "custom_features[['MOST_RECENT(bureau.CREDIT_TYPE, bureau_credit_end_date)', 'MOST_RECENT(bureau.CREDIT_TYPE, bureau_credit_application_date)']].head(10)"
   ]
  },
  {
   "cell_type": "markdown",
   "metadata": {
    "_uuid": "81450561f5d84761e6a474cec81c7b183a95602e"
   },
   "source": [
    "For client 100002, the most recent type of credit was `Credit card` if we order by the application date, but `Consumer credit` if we order by the end date of the loan. Whether this is actually useful knowledge is hard to say! \n",
    "\n"
   ]
  },
  {
   "cell_type": "markdown",
   "metadata": {
    "_uuid": "69064403354deb688374542e3525aa5d32b2ac5c"
   },
   "source": [
    "# Putting it all Together\n",
    "\n",
    "Finally, we can run deep feature synthesis with the time variables, with the correct specified categorical variables, with the interesting features, with the seed features, and with the custom features. To actually run this on the entire dataset, we can take the code here, put it in a script, and then use more computational resources. "
   ]
  },
  {
   "cell_type": "code",
   "execution_count": null,
   "metadata": {
    "_uuid": "f4edb8a7c70aba9323019bea6a255d158045c067",
    "collapsed": true
   },
   "outputs": [],
   "source": [
    "# Run and create the features\n",
    "feature_matrix, feature_names = ft.dfs(entityset = es, target_entity = 'app_train',\n",
    "                                       agg_primitives = ['mean', 'max', 'min', 'trend', 'mode', 'count', \n",
    "                                                         'sum', 'percent_true', NormalizedModeCount, MostRecent, LongestSeq],\n",
    "                                       trans_primitives = ['diff', 'cum_sum', 'cum_mean', 'percentile'], \n",
    "                                       where_primitives = ['mean', 'sum'],\n",
    "                                       seed_features = [late_payment, past_due],\n",
    "                                       max_depth = 2, features_only = False, verbose = True,\n",
    "                                       chunk_size = len(app_train),\n",
    "                                       ignore_entities = ['app_test'])"
   ]
  },
  {
   "cell_type": "markdown",
   "metadata": {
    "_uuid": "caddea8413f741a0041da5a001224bfba47a3469"
   },
   "source": [
    "We will now do the same operation applied to the test set. Doing the calculations separately should prevent leakage from the testing data into the training data."
   ]
  },
  {
   "cell_type": "code",
   "execution_count": null,
   "metadata": {
    "_uuid": "2b51c4617e9009358798ecfe13bf95cf0387d1f1",
    "collapsed": true
   },
   "outputs": [],
   "source": [
    "# Run and create the features\n",
    "feature_matrix_test, feature_names_test = ft.dfs(entityset = es, target_entity = 'app_test',\n",
    "                                                   agg_primitives = ['mean', 'max', 'min', 'trend', 'mode', 'count', \n",
    "                                                                     'sum', 'percent_true', NormalizedModeCount, MostRecent, LongestSeq],\n",
    "                                                   trans_primitives = ['diff', 'cum_sum', 'cum_mean', 'percentile'], \n",
    "                                                   where_primitives = ['mean', 'sum'],\n",
    "                                                   seed_features = [late_payment, past_due],\n",
    "                                                   max_depth = 2, features_only = False, verbose = True,\n",
    "                                                   chunk_size = len(app_test),\n",
    "                                                   ignore_entities = ['app_train'])"
   ]
  },
  {
   "cell_type": "code",
   "execution_count": null,
   "metadata": {
    "_uuid": "8a16d772dcc6d9e4481fcc219ccc3998d22c9818",
    "collapsed": true
   },
   "outputs": [],
   "source": [
    "import random\n",
    "random.sample(feature_names, 10)"
   ]
  },
  {
   "cell_type": "markdown",
   "metadata": {
    "_uuid": "2a7fdf1a674bad3c7af5ea101a213486b2e0b75b"
   },
   "source": [
    "## Remove Features\n",
    "\n",
    "[Feature selection](https://en.wikipedia.org/wiki/Feature_selection) is an entire topic to itself. However, one thing we can do is use the built-in featuretools [selection function to remove](https://docs.featuretools.com/generated/featuretools.selection.remove_low_information_features.html) columns that only have one unique value or have all null values. "
   ]
  },
  {
   "cell_type": "code",
   "execution_count": null,
   "metadata": {
    "_uuid": "0a90aacdfad1fed581583ad5fb8d08d0a90fd56b",
    "collapsed": true
   },
   "outputs": [],
   "source": [
    "from featuretools import selection\n",
    "\n",
    "# Remove low information features\n",
    "feature_matrix2 = selection.remove_low_information_features(feature_matrix)\n",
    "print('Removed %d features from training features'  % (feature_matrix.shape[1] - feature_matrix2.shape[1]))\n",
    "\n",
    "feature_matrix_test2 = selection.remove_low_information_features(feature_matrix_test)\n",
    "print('Removed %d features from testing features' % (feature_matrix_test.shape[1] - feature_matrix_test2.shape[1]))"
   ]
  },
  {
   "cell_type": "markdown",
   "metadata": {
    "_uuid": "0abf0a1bf5aa20ed539d03109f50c249c63e1aec"
   },
   "source": [
    "When we're done, we probably want to save the results to a csv. We want to be careful because the index of the dataframe is the identifying column, so we should keep the index. We also should align the training and testing dataframes to make sure they have the same columns."
   ]
  },
  {
   "cell_type": "code",
   "execution_count": null,
   "metadata": {
    "_uuid": "5baa26e49ad61ff3b534fc35cda8f936f9ebcce0",
    "collapsed": true
   },
   "outputs": [],
   "source": [
    "train_labels = feature_matrix['TARGET']\n",
    "feature_matrix, feature_matrix_test = feature_matrix2.align(feature_matrix_test2, join = 'inner', axis = 1)\n",
    "feature_matrix['TARGET'] = train_labels\n",
    "\n",
    "print('Final training shape: ', feature_matrix.shape)\n",
    "print('Final testing shape: ', feature_matrix_test.shape)"
   ]
  },
  {
   "cell_type": "code",
   "execution_count": null,
   "metadata": {
    "_uuid": "924b3135a6c0e3b3b0874725bfe14584f8b5323d",
    "collapsed": true
   },
   "outputs": [],
   "source": [
    "# Save the feature matrix to a csv\n",
    "feature_matrix.to_csv('feature_matrix.csv')\n",
    "feature_matrix_test.to_csv('feature_matrix_test.csv')"
   ]
  },
  {
   "cell_type": "markdown",
   "metadata": {
    "_uuid": "d100ea754e4f21b4c5122a9994c5e2314ecd9bcf"
   },
   "source": [
    "# Conclusions \n",
    "\n",
    "In this notebook we explored some of the advanced functionality in featuretools including:\n",
    "\n",
    "* Time Variables: allow us to track trends over time \n",
    "* Interesting Variables: condition new features on values of existing features\n",
    "* Seed Features: define new features manually that featuretools will then build on top of\n",
    "* Custom feature primitives: design any transformation or aggregation feature that can incorporate domain knowledge\n",
    "\n",
    "We can use these methods to encode domain knowledge about a problem into our features or create features based on what others have found useful. The next step from here would be to run the script on the entire dataset, then use the features for modeling. We could use the feature importances from the model to determine the most relevant features, perform feature selection, and then go through another round of feature synthesis with a new set of of primitives, seed features, and interesting features. As with many aspects of machine learning, feature creation is largely an empirical and iterative procedure. "
   ]
  },
  {
   "cell_type": "code",
   "execution_count": null,
   "metadata": {
    "_uuid": "c0a48944d1f7190624269aca3ce76f9132057df8",
    "collapsed": true
   },
   "outputs": [],
   "source": []
  }
 ],
 "metadata": {
  "kernelspec": {
   "display_name": "Python 3",
   "language": "python",
   "name": "python3"
  },
  "language_info": {
   "codemirror_mode": {
    "name": "ipython",
    "version": 3
   },
   "file_extension": ".py",
   "mimetype": "text/x-python",
   "name": "python",
   "nbconvert_exporter": "python",
   "pygments_lexer": "ipython3",
   "version": "3.5.5"
  }
 },
 "nbformat": 4,
 "nbformat_minor": 1
}
