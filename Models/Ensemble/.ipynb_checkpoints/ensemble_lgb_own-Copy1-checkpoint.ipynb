{
 "cells": [
  {
   "cell_type": "code",
   "execution_count": 2,
   "metadata": {
    "collapsed": true
   },
   "outputs": [],
   "source": [
    "import numpy as np # linear algebra\n",
    "import pandas as pd # data processing, CSV file I/O (e.g. pd.read_csv)\n",
    "from sklearn.metrics import roc_auc_score\n",
    "from sklearn.preprocessing import LabelEncoder\n",
    "from skopt.space import Real, Categorical, Integer\n",
    "import xgboost as xgb\n",
    "from xgboost import XGBClassifier\n",
    "import os\n",
    "import gc\n",
    "from matplotlib import pyplot as plt\n",
    "%matplotlib inline\n",
    "from sklearn.model_selection import GridSearchCV\n",
    "from skopt import BayesSearchCV\n",
    "import lightgbm as lgb\n",
    "from sklearn.svm import LinearSVC, SVC\n",
    "import seaborn as sns\n",
    "from sklearn.model_selection import train_test_split, KFold, StratifiedKFold\n",
    "from sklearn.metrics import accuracy_score, confusion_matrix\n",
    "from sklearn.feature_selection import VarianceThreshold\n",
    "from sklearn.model_selection import train_test_split\n",
    "from sklearn.preprocessing import LabelEncoder, MinMaxScaler\n",
    "import warnings\n",
    "warnings.simplefilter('ignore')\n",
    "OriginDataDir = '../../Data/OriginData'\n",
    "CleanDataDir = '../../Data/CleanData'\n",
    "TrainTestDataDir = '../../Data/TrainTestData'\n",
    "ModelSaveDir = 'models'\n",
    "ResultSaveDir = 'result2'\n",
    "ResultSaveDir_open = 'result_open'"
   ]
  },
  {
   "cell_type": "code",
   "execution_count": 10,
   "metadata": {
    "collapsed": true
   },
   "outputs": [],
   "source": [
    "def loadData(DataName):\n",
    "    DataPath = os.path.join(CleanDataDir, DataName)\n",
    "    if not os.path.exists(DataPath):\n",
    "        print('%s does not exist!' % DataPath)\n",
    "        return\n",
    "    OriginData = pd.read_csv(DataPath)\n",
    "    #OriginData = OriginData.sample(frac=1)  # 打乱顺序后返回\n",
    "    return OriginData"
   ]
  },
  {
   "cell_type": "code",
   "execution_count": 5,
   "metadata": {
    "collapsed": true
   },
   "outputs": [],
   "source": [
    "# Display/plot feature importance\n",
    "def display_importances(feature_importance_df_):\n",
    "    cols = feature_importance_df_[[\"feature\", \"importance\"]].groupby(\"feature\").mean().sort_values(by=\"importance\", ascending=False)[:50].index\n",
    "    best_features = feature_importance_df_.loc[feature_importance_df_.feature.isin(cols)]\n",
    "    plt.figure(figsize=(8, 10))\n",
    "    sns.barplot(x=\"importance\", y=\"feature\", data=best_features.sort_values(by=\"importance\", ascending=False))\n",
    "    plt.title('XGBOOST Features (avg over folds)')\n",
    "    plt.tight_layout()"
   ]
  },
  {
   "cell_type": "markdown",
   "metadata": {},
   "source": [
    "## 1.加载保存好的数据，并做一些处理"
   ]
  },
  {
   "cell_type": "code",
   "execution_count": 11,
   "metadata": {
    "collapsed": true
   },
   "outputs": [],
   "source": [
    "X = loadData('MyTrain.csv')"
   ]
  },
  {
   "cell_type": "code",
   "execution_count": 12,
   "metadata": {},
   "outputs": [
    {
     "name": "stdout",
     "output_type": "stream",
     "text": [
      "<class 'pandas.core.frame.DataFrame'>\n",
      "RangeIndex: 356255 entries, 0 to 356254\n",
      "Columns: 1359 entries, 100_period_trend_instalment_paid_late_in_days to last_5_instalment_paid_late_in_days_skew_x\n",
      "dtypes: float64(1201), int64(158)\n",
      "memory usage: 3.6 GB\n"
     ]
    }
   ],
   "source": [
    "X.info()"
   ]
  },
  {
   "cell_type": "code",
   "execution_count": 13,
   "metadata": {},
   "outputs": [
    {
     "data": {
      "text/html": [
       "<div>\n",
       "<style scoped>\n",
       "    .dataframe tbody tr th:only-of-type {\n",
       "        vertical-align: middle;\n",
       "    }\n",
       "\n",
       "    .dataframe tbody tr th {\n",
       "        vertical-align: top;\n",
       "    }\n",
       "\n",
       "    .dataframe thead th {\n",
       "        text-align: right;\n",
       "    }\n",
       "</style>\n",
       "<table border=\"1\" class=\"dataframe\">\n",
       "  <thead>\n",
       "    <tr style=\"text-align: right;\">\n",
       "      <th></th>\n",
       "      <th>100_period_trend_instalment_paid_late_in_days</th>\n",
       "      <th>100_period_trend_instalment_paid_over_amount</th>\n",
       "      <th>10_period_trend_instalment_paid_late_in_days</th>\n",
       "      <th>10_period_trend_instalment_paid_over_amount</th>\n",
       "      <th>12_period_trend_SK_DPD</th>\n",
       "      <th>12_period_trend_SK_DPD_DEF</th>\n",
       "      <th>180_period_trend_days_credit_diff</th>\n",
       "      <th>1_period_trend_SK_DPD</th>\n",
       "      <th>1_period_trend_SK_DPD_DEF</th>\n",
       "      <th>30_period_trend_SK_DPD</th>\n",
       "      <th>...</th>\n",
       "      <th>last_10_instalment_paid_late_in_days_skew_x</th>\n",
       "      <th>NAME_FAMILY_STATUS_CODE_GENDER_mean_DAYS_BIRTH_abs_diff</th>\n",
       "      <th>last_20_instalment_paid_late_in_days_kurt_y</th>\n",
       "      <th>NAME_FAMILY_STATUS_NAME_EDUCATION_TYPE_mean_AMT_INCOME_TOTAL_abs_diff</th>\n",
       "      <th>last_5by20_fraction_instalment_paid_late_in_days_skew</th>\n",
       "      <th>last_5by20_fraction_instalment_paid_late_in_days_kurt</th>\n",
       "      <th>last_5_instalment_paid_late_in_days_max_y</th>\n",
       "      <th>NAME_FAMILY_STATUS_CODE_GENDER_mean_REGION_POPULATION_RELATIVE_abs_diff</th>\n",
       "      <th>NAME_EDUCATION_TYPE_CODE_GENDER_max_AMT_ANNUITY_abs_diff</th>\n",
       "      <th>last_5_instalment_paid_late_in_days_skew_x</th>\n",
       "    </tr>\n",
       "  </thead>\n",
       "  <tbody>\n",
       "    <tr>\n",
       "      <th>0</th>\n",
       "      <td>-0.568421</td>\n",
       "      <td>0.000000</td>\n",
       "      <td>0.012121</td>\n",
       "      <td>0.0</td>\n",
       "      <td>0.0</td>\n",
       "      <td>0.0</td>\n",
       "      <td>0.0</td>\n",
       "      <td>0.0</td>\n",
       "      <td>0.0</td>\n",
       "      <td>0.0</td>\n",
       "      <td>...</td>\n",
       "      <td>-0.413127</td>\n",
       "      <td>2972.362433</td>\n",
       "      <td>-0.474798</td>\n",
       "      <td>48118.423977</td>\n",
       "      <td>2.607188</td>\n",
       "      <td>1.467762</td>\n",
       "      <td>-12.0</td>\n",
       "      <td>0.002460</td>\n",
       "      <td>152995.5</td>\n",
       "      <td>-0.793502</td>\n",
       "    </tr>\n",
       "    <tr>\n",
       "      <th>1</th>\n",
       "      <td>-0.085385</td>\n",
       "      <td>0.000000</td>\n",
       "      <td>-0.193939</td>\n",
       "      <td>0.0</td>\n",
       "      <td>0.0</td>\n",
       "      <td>0.0</td>\n",
       "      <td>NaN</td>\n",
       "      <td>0.0</td>\n",
       "      <td>0.0</td>\n",
       "      <td>0.0</td>\n",
       "      <td>...</td>\n",
       "      <td>-0.644795</td>\n",
       "      <td>450.277916</td>\n",
       "      <td>-0.686793</td>\n",
       "      <td>58090.823702</td>\n",
       "      <td>1.537067</td>\n",
       "      <td>0.937590</td>\n",
       "      <td>-3.0</td>\n",
       "      <td>0.017104</td>\n",
       "      <td>194463.0</td>\n",
       "      <td>-0.961016</td>\n",
       "    </tr>\n",
       "    <tr>\n",
       "      <th>2</th>\n",
       "      <td>-4.000000</td>\n",
       "      <td>0.000000</td>\n",
       "      <td>-4.000000</td>\n",
       "      <td>0.0</td>\n",
       "      <td>0.0</td>\n",
       "      <td>0.0</td>\n",
       "      <td>NaN</td>\n",
       "      <td>0.0</td>\n",
       "      <td>0.0</td>\n",
       "      <td>0.0</td>\n",
       "      <td>...</td>\n",
       "      <td>0.528005</td>\n",
       "      <td>6612.637567</td>\n",
       "      <td>-1.500000</td>\n",
       "      <td>86881.576023</td>\n",
       "      <td>1.000000</td>\n",
       "      <td>1.000000</td>\n",
       "      <td>-3.0</td>\n",
       "      <td>0.011229</td>\n",
       "      <td>170946.0</td>\n",
       "      <td>0.528005</td>\n",
       "    </tr>\n",
       "    <tr>\n",
       "      <th>3</th>\n",
       "      <td>-3.588235</td>\n",
       "      <td>0.000000</td>\n",
       "      <td>-0.787879</td>\n",
       "      <td>0.0</td>\n",
       "      <td>0.0</td>\n",
       "      <td>0.0</td>\n",
       "      <td>NaN</td>\n",
       "      <td>0.0</td>\n",
       "      <td>0.0</td>\n",
       "      <td>0.0</td>\n",
       "      <td>...</td>\n",
       "      <td>-1.570488</td>\n",
       "      <td>3664.948158</td>\n",
       "      <td>0.729164</td>\n",
       "      <td>22719.615717</td>\n",
       "      <td>0.786713</td>\n",
       "      <td>-0.457936</td>\n",
       "      <td>-1.0</td>\n",
       "      <td>0.012803</td>\n",
       "      <td>186903.0</td>\n",
       "      <td>-1.150049</td>\n",
       "    </tr>\n",
       "    <tr>\n",
       "      <th>4</th>\n",
       "      <td>0.114560</td>\n",
       "      <td>-10.699939</td>\n",
       "      <td>-0.400000</td>\n",
       "      <td>0.0</td>\n",
       "      <td>0.0</td>\n",
       "      <td>0.0</td>\n",
       "      <td>NaN</td>\n",
       "      <td>0.0</td>\n",
       "      <td>0.0</td>\n",
       "      <td>0.0</td>\n",
       "      <td>...</td>\n",
       "      <td>0.000000</td>\n",
       "      <td>7498.637567</td>\n",
       "      <td>2.414040</td>\n",
       "      <td>32881.576023</td>\n",
       "      <td>-0.000000</td>\n",
       "      <td>-0.724926</td>\n",
       "      <td>0.0</td>\n",
       "      <td>0.007402</td>\n",
       "      <td>155830.5</td>\n",
       "      <td>0.000000</td>\n",
       "    </tr>\n",
       "  </tbody>\n",
       "</table>\n",
       "<p>5 rows × 1359 columns</p>\n",
       "</div>"
      ],
      "text/plain": [
       "   100_period_trend_instalment_paid_late_in_days  \\\n",
       "0                                      -0.568421   \n",
       "1                                      -0.085385   \n",
       "2                                      -4.000000   \n",
       "3                                      -3.588235   \n",
       "4                                       0.114560   \n",
       "\n",
       "   100_period_trend_instalment_paid_over_amount  \\\n",
       "0                                      0.000000   \n",
       "1                                      0.000000   \n",
       "2                                      0.000000   \n",
       "3                                      0.000000   \n",
       "4                                    -10.699939   \n",
       "\n",
       "   10_period_trend_instalment_paid_late_in_days  \\\n",
       "0                                      0.012121   \n",
       "1                                     -0.193939   \n",
       "2                                     -4.000000   \n",
       "3                                     -0.787879   \n",
       "4                                     -0.400000   \n",
       "\n",
       "   10_period_trend_instalment_paid_over_amount  12_period_trend_SK_DPD  \\\n",
       "0                                          0.0                     0.0   \n",
       "1                                          0.0                     0.0   \n",
       "2                                          0.0                     0.0   \n",
       "3                                          0.0                     0.0   \n",
       "4                                          0.0                     0.0   \n",
       "\n",
       "   12_period_trend_SK_DPD_DEF  180_period_trend_days_credit_diff  \\\n",
       "0                         0.0                                0.0   \n",
       "1                         0.0                                NaN   \n",
       "2                         0.0                                NaN   \n",
       "3                         0.0                                NaN   \n",
       "4                         0.0                                NaN   \n",
       "\n",
       "   1_period_trend_SK_DPD  1_period_trend_SK_DPD_DEF  30_period_trend_SK_DPD  \\\n",
       "0                    0.0                        0.0                     0.0   \n",
       "1                    0.0                        0.0                     0.0   \n",
       "2                    0.0                        0.0                     0.0   \n",
       "3                    0.0                        0.0                     0.0   \n",
       "4                    0.0                        0.0                     0.0   \n",
       "\n",
       "                      ...                      \\\n",
       "0                     ...                       \n",
       "1                     ...                       \n",
       "2                     ...                       \n",
       "3                     ...                       \n",
       "4                     ...                       \n",
       "\n",
       "   last_10_instalment_paid_late_in_days_skew_x  \\\n",
       "0                                    -0.413127   \n",
       "1                                    -0.644795   \n",
       "2                                     0.528005   \n",
       "3                                    -1.570488   \n",
       "4                                     0.000000   \n",
       "\n",
       "   NAME_FAMILY_STATUS_CODE_GENDER_mean_DAYS_BIRTH_abs_diff  \\\n",
       "0                                        2972.362433         \n",
       "1                                         450.277916         \n",
       "2                                        6612.637567         \n",
       "3                                        3664.948158         \n",
       "4                                        7498.637567         \n",
       "\n",
       "   last_20_instalment_paid_late_in_days_kurt_y  \\\n",
       "0                                    -0.474798   \n",
       "1                                    -0.686793   \n",
       "2                                    -1.500000   \n",
       "3                                     0.729164   \n",
       "4                                     2.414040   \n",
       "\n",
       "   NAME_FAMILY_STATUS_NAME_EDUCATION_TYPE_mean_AMT_INCOME_TOTAL_abs_diff  \\\n",
       "0                                       48118.423977                       \n",
       "1                                       58090.823702                       \n",
       "2                                       86881.576023                       \n",
       "3                                       22719.615717                       \n",
       "4                                       32881.576023                       \n",
       "\n",
       "   last_5by20_fraction_instalment_paid_late_in_days_skew  \\\n",
       "0                                           2.607188       \n",
       "1                                           1.537067       \n",
       "2                                           1.000000       \n",
       "3                                           0.786713       \n",
       "4                                          -0.000000       \n",
       "\n",
       "   last_5by20_fraction_instalment_paid_late_in_days_kurt  \\\n",
       "0                                           1.467762       \n",
       "1                                           0.937590       \n",
       "2                                           1.000000       \n",
       "3                                          -0.457936       \n",
       "4                                          -0.724926       \n",
       "\n",
       "   last_5_instalment_paid_late_in_days_max_y  \\\n",
       "0                                      -12.0   \n",
       "1                                       -3.0   \n",
       "2                                       -3.0   \n",
       "3                                       -1.0   \n",
       "4                                        0.0   \n",
       "\n",
       "   NAME_FAMILY_STATUS_CODE_GENDER_mean_REGION_POPULATION_RELATIVE_abs_diff  \\\n",
       "0                                           0.002460                         \n",
       "1                                           0.017104                         \n",
       "2                                           0.011229                         \n",
       "3                                           0.012803                         \n",
       "4                                           0.007402                         \n",
       "\n",
       "   NAME_EDUCATION_TYPE_CODE_GENDER_max_AMT_ANNUITY_abs_diff  \\\n",
       "0                                           152995.5          \n",
       "1                                           194463.0          \n",
       "2                                           170946.0          \n",
       "3                                           186903.0          \n",
       "4                                           155830.5          \n",
       "\n",
       "   last_5_instalment_paid_late_in_days_skew_x  \n",
       "0                                   -0.793502  \n",
       "1                                   -0.961016  \n",
       "2                                    0.528005  \n",
       "3                                   -1.150049  \n",
       "4                                    0.000000  \n",
       "\n",
       "[5 rows x 1359 columns]"
      ]
     },
     "execution_count": 13,
     "metadata": {},
     "output_type": "execute_result"
    }
   ],
   "source": [
    "X.head()"
   ]
  },
  {
   "cell_type": "code",
   "execution_count": 14,
   "metadata": {
    "collapsed": true
   },
   "outputs": [],
   "source": [
    "X_null = X.isnull().sum().sort_values(ascending=False)/len(X)"
   ]
  },
  {
   "cell_type": "code",
   "execution_count": 15,
   "metadata": {},
   "outputs": [
    {
     "data": {
      "text/plain": [
       "AMT_PAYMENT_minus_Total_std_min      0.799015\n",
       "AMT_PAYMENT_minus_Total_std_max      0.799015\n",
       "AMT_PAYMENT_CURRENT_std_max          0.799015\n",
       "AMT_PAYMENT_CURRENT_std_mean         0.799015\n",
       "AMT_PAYMENT_minus_Total_std_mean     0.799015\n",
       "AMT_DRAWINGS_ATM_CURRENT_std_max     0.798762\n",
       "AMT_DRAWINGS_ATM_CURRENT_std_mean    0.798762\n",
       "AMT_PAYMENT_minus_Total_mean_min     0.797561\n",
       "AMT_PAYMENT_minus_Total_mean_mean    0.797561\n",
       "AMT_PAYMENT_minus_Total_mean_max     0.797561\n",
       "dtype: float64"
      ]
     },
     "execution_count": 15,
     "metadata": {},
     "output_type": "execute_result"
    }
   ],
   "source": [
    "X_null.head(10)"
   ]
  },
  {
   "cell_type": "code",
   "execution_count": 16,
   "metadata": {},
   "outputs": [
    {
     "data": {
      "text/plain": [
       "[]"
      ]
     },
     "execution_count": 16,
     "metadata": {},
     "output_type": "execute_result"
    }
   ],
   "source": [
    "X_null_col = list(X_null[X_null == 1].index)\n",
    "X_null_col"
   ]
  },
  {
   "cell_type": "code",
   "execution_count": 11,
   "metadata": {
    "collapsed": true
   },
   "outputs": [],
   "source": [
    "#把缺失太多的去掉\n",
    "X.drop(X_null_col,axis=1,inplace=True)"
   ]
  },
  {
   "cell_type": "code",
   "execution_count": 17,
   "metadata": {
    "collapsed": true
   },
   "outputs": [],
   "source": [
    "features = [x for x in X.columns if x != 'TARGET' and x != 'SK_ID_CURR']"
   ]
  },
  {
   "cell_type": "code",
   "execution_count": 18,
   "metadata": {},
   "outputs": [
    {
     "data": {
      "text/plain": [
       "1357"
      ]
     },
     "execution_count": 18,
     "metadata": {},
     "output_type": "execute_result"
    }
   ],
   "source": [
    "len(features)"
   ]
  },
  {
   "cell_type": "code",
   "execution_count": 19,
   "metadata": {
    "collapsed": true
   },
   "outputs": [],
   "source": [
    "TestData = X[X.TARGET.isnull()]\n",
    "TestData.reset_index(drop=True, inplace=True)\n",
    "TestID = TestData.SK_ID_CURR.values\n",
    "AllTrainData = X[~X.TARGET.isnull()]\n",
    "AllTrainData.reset_index(drop=True, inplace=True)"
   ]
  },
  {
   "cell_type": "code",
   "execution_count": 20,
   "metadata": {},
   "outputs": [
    {
     "data": {
      "text/plain": [
       "28"
      ]
     },
     "execution_count": 20,
     "metadata": {},
     "output_type": "execute_result"
    }
   ],
   "source": [
    "df_train = AllTrainData\n",
    "df_test = TestData\n",
    "num_folds = 5\n",
    "stratified = True\n",
    "debug= False\n",
    "del AllTrainData\n",
    "del TestData\n",
    "del X\n",
    "del X_null\n",
    "gc.collect()"
   ]
  },
  {
   "cell_type": "code",
   "execution_count": 21,
   "metadata": {
    "collapsed": true
   },
   "outputs": [],
   "source": [
    "#用于提交test的函数\n",
    "def calculate_rank(predictions):\n",
    "    rank = (1 + predictions.rank().values) / (predictions.shape[0] + 1)\n",
    "    return rank\n",
    "def subtest(sub_preds_):\n",
    "    subtmp = pd.DataFrame({'fold%d'%i:sub_preds_[:,i] for i in range(sub_preds_.shape[1])})\n",
    "    pred = []\n",
    "    for i in range(subtmp.shape[1]):\n",
    "        pred.append(calculate_rank(subtmp['fold%d'%i]))\n",
    "    submission = pd.DataFrame({'SK_ID_CURR': TestID, 'TARGET': np.mean(pred,axis=0)})\n",
    "    subtmp['SK_ID_CURR'] = TestID\n",
    "    return subtmp,submission"
   ]
  },
  {
   "cell_type": "code",
   "execution_count": 22,
   "metadata": {
    "collapsed": true
   },
   "outputs": [],
   "source": [
    "#获取特征重要度的函数\n",
    "def get_importances(feature_importance_df_):\n",
    "    importances = feature_importance_df_[[\"feature\", \"importance\"]].groupby(\"feature\").mean().sort_values(by=\"importance\", ascending=False)\n",
    "    return importances"
   ]
  },
  {
   "cell_type": "markdown",
   "metadata": {},
   "source": [
    "## 2. Lightgbm"
   ]
  },
  {
   "cell_type": "markdown",
   "metadata": {},
   "source": [
    "### 2.1 lgb1_0803"
   ]
  },
  {
   "cell_type": "code",
   "execution_count": 23,
   "metadata": {
    "collapsed": true
   },
   "outputs": [],
   "source": [
    "stratified = False"
   ]
  },
  {
   "cell_type": "code",
   "execution_count": 25,
   "metadata": {
    "scrolled": true
   },
   "outputs": [
    {
     "name": "stdout",
     "output_type": "stream",
     "text": [
      "Starting LGBM. Train shape: (307511, 1359), test shape: (48744, 1359)\n",
      "Num of Feature: 1357\n",
      "Training until validation scores don't improve for 100 rounds.\n",
      "[200]\tdata_train's auc: 0.780501\tdata_valid's auc: 0.768095\n",
      "[400]\tdata_train's auc: 0.801564\tdata_valid's auc: 0.781049\n",
      "[600]\tdata_train's auc: 0.815138\tdata_valid's auc: 0.78692\n",
      "[800]\tdata_train's auc: 0.825648\tdata_valid's auc: 0.790012\n",
      "[1000]\tdata_train's auc: 0.834835\tdata_valid's auc: 0.791871\n",
      "[1200]\tdata_train's auc: 0.84317\tdata_valid's auc: 0.793202\n",
      "[1400]\tdata_train's auc: 0.850537\tdata_valid's auc: 0.793913\n",
      "[1600]\tdata_train's auc: 0.857157\tdata_valid's auc: 0.794303\n",
      "[1800]\tdata_train's auc: 0.86329\tdata_valid's auc: 0.79449\n",
      "[2000]\tdata_train's auc: 0.868993\tdata_valid's auc: 0.794507\n",
      "Early stopping, best iteration is:\n",
      "[1922]\tdata_train's auc: 0.866901\tdata_valid's auc: 0.794527\n",
      "Fold  1 AUC : 0.794528\n",
      "Training until validation scores don't improve for 100 rounds.\n",
      "[200]\tdata_train's auc: 0.780642\tdata_valid's auc: 0.769434\n",
      "[400]\tdata_train's auc: 0.800897\tdata_valid's auc: 0.782949\n",
      "[600]\tdata_train's auc: 0.814415\tdata_valid's auc: 0.789294\n",
      "[800]\tdata_train's auc: 0.825015\tdata_valid's auc: 0.79249\n",
      "[1000]\tdata_train's auc: 0.834119\tdata_valid's auc: 0.794644\n",
      "[1200]\tdata_train's auc: 0.842103\tdata_valid's auc: 0.795998\n",
      "[1400]\tdata_train's auc: 0.849321\tdata_valid's auc: 0.797131\n",
      "[1600]\tdata_train's auc: 0.855808\tdata_valid's auc: 0.797849\n",
      "[1800]\tdata_train's auc: 0.861878\tdata_valid's auc: 0.798242\n",
      "[2000]\tdata_train's auc: 0.867425\tdata_valid's auc: 0.798551\n",
      "[2200]\tdata_train's auc: 0.872634\tdata_valid's auc: 0.798693\n",
      "[2400]\tdata_train's auc: 0.877606\tdata_valid's auc: 0.798915\n",
      "[2600]\tdata_train's auc: 0.882173\tdata_valid's auc: 0.79905\n",
      "[2800]\tdata_train's auc: 0.88662\tdata_valid's auc: 0.799127\n",
      "[3000]\tdata_train's auc: 0.890748\tdata_valid's auc: 0.799178\n",
      "[3200]\tdata_train's auc: 0.894765\tdata_valid's auc: 0.799364\n",
      "[3400]\tdata_train's auc: 0.8986\tdata_valid's auc: 0.799393\n",
      "Early stopping, best iteration is:\n",
      "[3418]\tdata_train's auc: 0.898928\tdata_valid's auc: 0.799462\n",
      "Fold  2 AUC : 0.799462\n",
      "Training until validation scores don't improve for 100 rounds.\n",
      "[200]\tdata_train's auc: 0.780289\tdata_valid's auc: 0.77245\n",
      "[400]\tdata_train's auc: 0.80058\tdata_valid's auc: 0.78578\n",
      "[600]\tdata_train's auc: 0.814305\tdata_valid's auc: 0.79201\n",
      "[800]\tdata_train's auc: 0.825104\tdata_valid's auc: 0.795237\n",
      "[1000]\tdata_train's auc: 0.834213\tdata_valid's auc: 0.797154\n",
      "[1200]\tdata_train's auc: 0.84231\tdata_valid's auc: 0.798396\n",
      "[1400]\tdata_train's auc: 0.849683\tdata_valid's auc: 0.799095\n",
      "[1600]\tdata_train's auc: 0.856308\tdata_valid's auc: 0.799497\n",
      "[1800]\tdata_train's auc: 0.862447\tdata_valid's auc: 0.7997\n",
      "Early stopping, best iteration is:\n",
      "[1747]\tdata_train's auc: 0.860806\tdata_valid's auc: 0.799762\n",
      "Fold  3 AUC : 0.799763\n",
      "Training until validation scores don't improve for 100 rounds.\n",
      "[200]\tdata_train's auc: 0.7818\tdata_valid's auc: 0.765104\n",
      "[400]\tdata_train's auc: 0.802183\tdata_valid's auc: 0.776955\n",
      "[600]\tdata_train's auc: 0.815765\tdata_valid's auc: 0.783188\n",
      "[800]\tdata_train's auc: 0.826265\tdata_valid's auc: 0.786601\n",
      "[1000]\tdata_train's auc: 0.83524\tdata_valid's auc: 0.788718\n",
      "[1200]\tdata_train's auc: 0.843361\tdata_valid's auc: 0.790072\n",
      "[1400]\tdata_train's auc: 0.850622\tdata_valid's auc: 0.790973\n",
      "[1600]\tdata_train's auc: 0.857305\tdata_valid's auc: 0.791705\n",
      "[1800]\tdata_train's auc: 0.863398\tdata_valid's auc: 0.79203\n",
      "[2000]\tdata_train's auc: 0.868952\tdata_valid's auc: 0.792201\n",
      "[2200]\tdata_train's auc: 0.874184\tdata_valid's auc: 0.792373\n",
      "Early stopping, best iteration is:\n",
      "[2284]\tdata_train's auc: 0.876308\tdata_valid's auc: 0.792463\n",
      "Fold  4 AUC : 0.792462\n",
      "Training until validation scores don't improve for 100 rounds.\n",
      "[200]\tdata_train's auc: 0.781357\tdata_valid's auc: 0.765834\n",
      "[400]\tdata_train's auc: 0.801773\tdata_valid's auc: 0.77896\n",
      "[600]\tdata_train's auc: 0.815232\tdata_valid's auc: 0.785264\n",
      "[800]\tdata_train's auc: 0.825856\tdata_valid's auc: 0.788566\n",
      "[1000]\tdata_train's auc: 0.834921\tdata_valid's auc: 0.790751\n",
      "[1200]\tdata_train's auc: 0.843055\tdata_valid's auc: 0.79226\n",
      "[1400]\tdata_train's auc: 0.850353\tdata_valid's auc: 0.793253\n",
      "[1600]\tdata_train's auc: 0.857065\tdata_valid's auc: 0.7941\n",
      "[1800]\tdata_train's auc: 0.863172\tdata_valid's auc: 0.794372\n",
      "[2000]\tdata_train's auc: 0.868741\tdata_valid's auc: 0.794632\n",
      "[2200]\tdata_train's auc: 0.873907\tdata_valid's auc: 0.79483\n",
      "[2400]\tdata_train's auc: 0.878961\tdata_valid's auc: 0.79507\n",
      "[2600]\tdata_train's auc: 0.883667\tdata_valid's auc: 0.795145\n",
      "Early stopping, best iteration is:\n",
      "[2538]\tdata_train's auc: 0.882214\tdata_valid's auc: 0.795202\n",
      "Fold  5 AUC : 0.795203\n"
     ]
    }
   ],
   "source": [
    "# Divide in training/validation and test data\n",
    "print(\"Starting LGBM. Train shape: {}, test shape: {}\".format(df_train.shape, df_test.shape))\n",
    "print(\"Num of Feature:\",len(features))\n",
    "# Cross validation model\n",
    "if stratified:\n",
    "    folds = StratifiedKFold(n_splits= num_folds, shuffle=True, random_state=1054)\n",
    "else:\n",
    "    folds = KFold(n_splits= num_folds, shuffle=True, random_state=1054)\n",
    "# Create arrays and dataframes to store results\n",
    "oof_preds_lgb1 = np.zeros(df_train.shape[0])\n",
    "sub_preds_lgb1 = np.zeros([df_test.shape[0],num_folds])\n",
    "roc_score_list_lgb1 = []\n",
    "feature_importance_df_lgb1 = pd.DataFrame()\n",
    "    \n",
    "for n_fold, (train_idx, valid_idx) in enumerate(folds.split(df_train[features], df_train['TARGET'])):\n",
    "    train_x, train_y = df_train[features].iloc[train_idx], df_train['TARGET'].iloc[train_idx]\n",
    "    valid_x, valid_y = df_train[features].iloc[valid_idx], df_train['TARGET'].iloc[valid_idx]\n",
    "\n",
    "    model_config = {  #'random_search_runs': 0,\n",
    "                      'device': 'cpu', # gpu cpu\n",
    "                      'num_threads':-1,\n",
    "                      'boosting_type': 'gbdt',\n",
    "                      'objective': 'binary',\n",
    "                      'metric': 'auc',\n",
    "                      'learning_rate': 0.02,\n",
    "                      'max_bin': 300,\n",
    "                      'max_depth': -1,\n",
    "                      'num_leaves': 30,\n",
    "                      'min_child_samples': 70,\n",
    "                      'subsample': 1.0,\n",
    "                      'subsample_freq': 1,\n",
    "                      'colsample_bytree': 0.05,\n",
    "                      'min_gain_to_split': 0.5,\n",
    "                      'reg_lambda': 100,\n",
    "                      'reg_alpha': 0.0,\n",
    "                      'scale_pos_weight': 1,  \n",
    "                      'is_unbalance': False}\n",
    "    data_train = lgb.Dataset(data=train_x,label=train_y,feature_name='auto',categorical_feature='auto')\n",
    "    data_valid = lgb.Dataset(data=valid_x,label=valid_y,feature_name='auto',categorical_feature='auto')\n",
    "    clf = lgb.train( model_config,\n",
    "                     data_train,\n",
    "                     valid_sets=[data_train, data_valid],\n",
    "                     valid_names=['data_train', 'data_valid'],\n",
    "                     num_boost_round=10000,\n",
    "                     early_stopping_rounds=100,\n",
    "                     verbose_eval=200,\n",
    "                     feature_name='auto',\n",
    "                     categorical_feature='auto')\n",
    "    \n",
    "    oof_preds_lgb1[valid_idx] = clf.predict(valid_x, num_iteration=clf.best_iteration)\n",
    "    sub_preds_lgb1[:,n_fold]= clf.predict(df_test[features],num_iteration=clf.best_iteration)\n",
    "    roc_curr_lgb1 = roc_auc_score(valid_y, oof_preds_lgb1[valid_idx])\n",
    "    roc_score_list_lgb1.append(roc_curr_lgb1)\n",
    "    print('Fold %2d AUC : %.6f' % (n_fold + 1, roc_curr_lgb1))\n",
    "    \n",
    "    fold_importance_df_lgb1 = pd.DataFrame()\n",
    "    fold_importance_df_lgb1[\"feature\"] = features\n",
    "    fold_importance_df_lgb1[\"importance\"] = clf.feature_importance()\n",
    "    fold_importance_df_lgb1[\"fold\"] = n_fold + 1\n",
    "    feature_importance_df_lgb1 = pd.concat([feature_importance_df_lgb1, fold_importance_df_lgb1], axis=0)\n",
    "    del clf, train_x, train_y, valid_x, valid_y\n",
    "    gc.collect()"
   ]
  },
  {
   "cell_type": "code",
   "execution_count": 26,
   "metadata": {},
   "outputs": [
    {
     "data": {
      "text/plain": [
       "0.79628349031234"
      ]
     },
     "execution_count": 26,
     "metadata": {},
     "output_type": "execute_result"
    }
   ],
   "source": [
    "np.mean(roc_score_list_lgb1)                                                                                                                                                                                                                                                                                                                                                                                                                                                                                                                                                                                                                                                                                                                                                                                                                                                                                                                                                                                                                                                                                                                                                                                                                                                                                                                                                                                                                                                                                                                                                                                                                                                                                                                                                                                                                                                                                                                                                                                                                                                                                                                                                                                                                                                                                                                                                                                                                                                                                                                                                                                                                                                                                                                                                                                                                                                                                                                                                                                                                                                                                                                                                                                                                                                                                                                                                                                                                                                                                                                                                                                                                                                                                                                                                                                                                                                                                                                                                                                                                                                                                                                                                                                                                                                                                                                                                     "
   ]
  },
  {
   "cell_type": "code",
   "execution_count": 27,
   "metadata": {},
   "outputs": [
    {
     "data": {
      "image/png": "[encoded data removed]",
      "text/plain": [
       "<matplotlib.figure.Figure at 0x7f709714a588>"
      ]
     },
     "metadata": {},
     "output_type": "display_data"
    }
   ],
   "source": [
    "display_importances(fold_importance_df_lgb1)"
   ]
  },
  {
   "cell_type": "code",
   "execution_count": 28,
   "metadata": {
    "collapsed": true
   },
   "outputs": [],
   "source": [
    "subtmp_lgb1,sub_lgb1 = subtest(sub_preds_lgb1)\n",
    "importance_lgb1 = get_importances(fold_importance_df_lgb1)"
   ]
  },
  {
   "cell_type": "code",
   "execution_count": 29,
   "metadata": {
    "collapsed": true
   },
   "outputs": [],
   "source": [
    "#保存数据\n",
    "SaveDirPath = os.path.join(ResultSaveDir,'lgb1')\n",
    "if not os.path.exists(SaveDirPath):\n",
    "    os.mkdir(SaveDirPath)\n",
    "importance_lgb1.to_csv(os.path.join(SaveDirPath,\"importance_lgb1.csv\"))\n",
    "sub_lgb1.to_csv(os.path.join(SaveDirPath,\"sub_lgb1.csv\"), index=False)\n",
    "subtmp_lgb1.to_csv(os.path.join(SaveDirPath,\"oof_test_lgb1.csv\"), index=False)\n",
    "oof_train_lgb1 = pd.DataFrame({'SK_ID_CURR': df_train['SK_ID_CURR'], \n",
    "                               'pred': oof_preds_lgb1})\n",
    "oof_train_lgb1.to_csv(os.path.join(SaveDirPath,\"oof_train_lgb1.csv\"), index=False)"
   ]
  },
  {
   "cell_type": "code",
   "execution_count": 31,
   "metadata": {},
   "outputs": [
    {
     "data": {
      "text/html": [
       "<div>\n",
       "<style scoped>\n",
       "    .dataframe tbody tr th:only-of-type {\n",
       "        vertical-align: middle;\n",
       "    }\n",
       "\n",
       "    .dataframe tbody tr th {\n",
       "        vertical-align: top;\n",
       "    }\n",
       "\n",
       "    .dataframe thead th {\n",
       "        text-align: right;\n",
       "    }\n",
       "</style>\n",
       "<table border=\"1\" class=\"dataframe\">\n",
       "  <thead>\n",
       "    <tr style=\"text-align: right;\">\n",
       "      <th></th>\n",
       "      <th>importance</th>\n",
       "    </tr>\n",
       "    <tr>\n",
       "      <th>feature</th>\n",
       "      <th></th>\n",
       "    </tr>\n",
       "  </thead>\n",
       "  <tbody>\n",
       "    <tr>\n",
       "      <th>CREDIT_TERM_INV_sy</th>\n",
       "      <td>511</td>\n",
       "    </tr>\n",
       "    <tr>\n",
       "      <th>NEW_CREDIT_TO_ANNUITY_RATIO</th>\n",
       "      <td>415</td>\n",
       "    </tr>\n",
       "    <tr>\n",
       "      <th>CREDIT_TERM_sy</th>\n",
       "      <td>361</td>\n",
       "    </tr>\n",
       "    <tr>\n",
       "      <th>DAYS_BIRTH</th>\n",
       "      <td>353</td>\n",
       "    </tr>\n",
       "    <tr>\n",
       "      <th>EXT_SOURCE_3</th>\n",
       "      <td>333</td>\n",
       "    </tr>\n",
       "  </tbody>\n",
       "</table>\n",
       "</div>"
      ],
      "text/plain": [
       "                             importance\n",
       "feature                                \n",
       "CREDIT_TERM_INV_sy                  511\n",
       "NEW_CREDIT_TO_ANNUITY_RATIO         415\n",
       "CREDIT_TERM_sy                      361\n",
       "DAYS_BIRTH                          353\n",
       "EXT_SOURCE_3                        333"
      ]
     },
     "execution_count": 31,
     "metadata": {},
     "output_type": "execute_result"
    }
   ],
   "source": [
    "importance_lgb1.head()"
   ]
  },
  {
   "cell_type": "markdown",
   "metadata": {},
   "source": [
    "### 2.2 lgbm"
   ]
  },
  {
   "cell_type": "code",
   "execution_count": 33,
   "metadata": {
    "collapsed": true
   },
   "outputs": [],
   "source": [
    "df_train.drop('NEW_CREDIT_TO_ANNUITY_RATIO',inplace=True,axis=1)\n",
    "df_test.drop('NEW_CREDIT_TO_ANNUITY_RATIO',inplace=True,axis=1)"
   ]
  },
  {
   "cell_type": "code",
   "execution_count": null,
   "metadata": {
    "collapsed": true
   },
   "outputs": [],
   "source": [
    "# Divide in training/validation and test data\n",
    "print(\"Starting LGBM. Train shape: {}, test shape: {}\".format(df_train.shape, df_test.shape))\n",
    "print(\"Num of Feature:\",len(features))\n",
    "# Cross validation model\n",
    "if stratified:\n",
    "    folds = StratifiedKFold(n_splits= num_folds, shuffle=True, random_state=1054)\n",
    "else:\n",
    "    folds = KFold(n_splits= num_folds, shuffle=True, random_state=1054)\n",
    "# Create arrays and dataframes to store results\n",
    "oof_preds_lgb1 = np.zeros(df_train.shape[0])\n",
    "sub_preds_lgb1 = np.zeros([df_test.shape[0],num_folds])\n",
    "roc_score_list_lgb1 = []\n",
    "feature_importance_df_lgb1 = pd.DataFrame()\n",
    "    \n",
    "for n_fold, (train_idx, valid_idx) in enumerate(folds.split(df_train[features], df_train['TARGET'])):\n",
    "    train_x, train_y = df_train[features].iloc[train_idx], df_train['TARGET'].iloc[train_idx]\n",
    "    valid_x, valid_y = df_train[features].iloc[valid_idx], df_train['TARGET'].iloc[valid_idx]\n",
    "\n",
    "    model_config = {  #'random_search_runs': 0,\n",
    "                      'device': 'cpu', # gpu cpu\n",
    "                      'num_threads':-1,\n",
    "                      'boosting_type': 'gbdt',\n",
    "                      'objective': 'binary',\n",
    "                      'metric': 'auc',\n",
    "                      'learning_rate': 0.02,\n",
    "                      'max_bin': 300,\n",
    "                      'max_depth': -1,\n",
    "                      'num_leaves': 30,\n",
    "                      'min_child_samples': 70,\n",
    "                      'subsample': 1.0,\n",
    "                      'subsample_freq': 1,\n",
    "                      'colsample_bytree': 0.05,\n",
    "                      'min_gain_to_split': 1,\n",
    "                      'reg_lambda': 100,\n",
    "                      'reg_alpha': 0.0,\n",
    "                      'scale_pos_weight': 1,  \n",
    "                      'is_unbalance': False}\n",
    "    data_train = lgb.Dataset(data=train_x,label=train_y,feature_name='auto',categorical_feature='auto')\n",
    "    data_valid = lgb.Dataset(data=valid_x,label=valid_y,feature_name='auto',categorical_feature='auto')\n",
    "    clf = lgb.train( model_config,\n",
    "                     data_train,\n",
    "                     valid_sets=[data_train, data_valid],\n",
    "                     valid_names=['data_train', 'data_valid'],\n",
    "                     num_boost_round=10000,\n",
    "                     early_stopping_rounds=200,\n",
    "                     verbose_eval=200,\n",
    "                     feature_name='auto',\n",
    "                     categorical_feature='auto')\n",
    "    \n",
    "    oof_preds_lgb1[valid_idx] = clf.predict(valid_x, num_iteration=clf.best_iteration)\n",
    "    sub_preds_lgb1[:,n_fold]= clf.predict(df_test[features],num_iteration=clf.best_iteration)\n",
    "    roc_curr_lgb1 = roc_auc_score(valid_y, oof_preds_lgb1[valid_idx])\n",
    "    roc_score_list_lgb1.append(roc_curr_lgb1)\n",
    "    print('Fold %2d AUC : %.6f' % (n_fold + 1, roc_curr_lgb1))\n",
    "    \n",
    "    fold_importance_df_lgb1 = pd.DataFrame()\n",
    "    fold_importance_df_lgb1[\"feature\"] = features\n",
    "    fold_importance_df_lgb1[\"importance\"] = clf.feature_importance()\n",
    "    fold_importance_df_lgb1[\"fold\"] = n_fold + 1\n",
    "    feature_importance_df_lgb1 = pd.concat([feature_importance_df_lgb1, fold_importance_df_lgb1], axis=0)\n",
    "    del clf, train_x, train_y, valid_x, valid_y\n",
    "    gc.collect()"
   ]
  }
 ],
 "metadata": {
  "kernelspec": {
   "display_name": "Python 3",
   "language": "python",
   "name": "python3"
  },
  "language_info": {
   "codemirror_mode": {
    "name": "ipython",
    "version": 3
   },
   "file_extension": ".py",
   "mimetype": "text/x-python",
   "name": "python",
   "nbconvert_exporter": "python",
   "pygments_lexer": "ipython3",
   "version": "3.5.4"
  }
 },
 "nbformat": 4,
 "nbformat_minor": 2
}
