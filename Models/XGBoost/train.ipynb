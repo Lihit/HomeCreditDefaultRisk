{
 "cells": [
  {
   "cell_type": "code",
   "execution_count": 1,
   "metadata": {},
   "outputs": [
    {
     "name": "stderr",
     "output_type": "stream",
     "text": [
      "/usr/share/anaconda2/envs/py3/lib/python3.5/importlib/_bootstrap.py:222: RuntimeWarning: numpy.dtype size changed, may indicate binary incompatibility. Expected 96, got 88\n",
      "  return f(*args, **kwds)\n",
      "/usr/share/anaconda2/envs/py3/lib/python3.5/importlib/_bootstrap.py:222: RuntimeWarning: numpy.dtype size changed, may indicate binary incompatibility. Expected 96, got 88\n",
      "  return f(*args, **kwds)\n",
      "/usr/share/anaconda2/envs/py3/lib/python3.5/importlib/_bootstrap.py:222: RuntimeWarning: numpy.dtype size changed, may indicate binary incompatibility. Expected 96, got 88\n",
      "  return f(*args, **kwds)\n",
      "/usr/share/anaconda2/envs/py3/lib/python3.5/importlib/_bootstrap.py:222: RuntimeWarning: numpy.dtype size changed, may indicate binary incompatibility. Expected 96, got 88\n",
      "  return f(*args, **kwds)\n",
      "/usr/share/anaconda2/envs/py3/lib/python3.5/importlib/_bootstrap.py:222: RuntimeWarning: numpy.dtype size changed, may indicate binary incompatibility. Expected 96, got 88\n",
      "  return f(*args, **kwds)\n",
      "/usr/share/anaconda2/envs/py3/lib/python3.5/importlib/_bootstrap.py:222: RuntimeWarning: numpy.dtype size changed, may indicate binary incompatibility. Expected 96, got 88\n",
      "  return f(*args, **kwds)\n",
      "/usr/share/anaconda2/envs/py3/lib/python3.5/site-packages/sklearn/cross_validation.py:41: DeprecationWarning: This module was deprecated in version 0.18 in favor of the model_selection module into which all the refactored classes and functions are moved. Also note that the interface of the new CV iterators are different from that of this module. This module will be removed in 0.20.\n",
      "  \"This module will be removed in 0.20.\", DeprecationWarning)\n",
      "/usr/share/anaconda2/envs/py3/lib/python3.5/importlib/_bootstrap.py:222: RuntimeWarning: numpy.dtype size changed, may indicate binary incompatibility. Expected 96, got 88\n",
      "  return f(*args, **kwds)\n"
     ]
    }
   ],
   "source": [
    "import pandas as pd\n",
    "import numpy as np\n",
    "import time\n",
    "import xgboost as xgb\n",
    "from xgboost import XGBClassifier,plot_importance\n",
    "from sklearn import cross_validation, metrics\n",
    "from sklearn.model_selection import GridSearchCV\n",
    "from sklearn.model_selection import StratifiedKFold,KFold\n",
    "from sklearn.cross_validation import train_test_split\n",
    "from sklearn.metrics import roc_auc_score\n",
    "import matplotlib.pylab as plt\n",
    "import seaborn as sns\n",
    "from sklearn.preprocessing import LabelEncoder\n",
    "import gc\n",
    "import warnings\n",
    "%matplotlib inline\n",
    "from matplotlib.pylab import rcParams\n",
    "import os\n",
    "import warnings \n",
    "warnings.simplefilter('ignore')\n",
    "rcParams['figure.figsize'] = 12, 4\n",
    "warnings.simplefilter(\"ignore\")\n",
    "OriginDataDir = '../../Data/OriginData'\n",
    "TrainTestDataDir = '../../Data/TrainTestData'\n",
    "ModelSaveDir = 'models'\n",
    "ResultSaveDir = 'result'"
   ]
  },
  {
   "cell_type": "code",
   "execution_count": 2,
   "metadata": {},
   "outputs": [],
   "source": [
    "def loadData(DataName):\n",
    "    DataPath = os.path.join(TrainTestDataDir, DataName)\n",
    "    if not os.path.exists(DataPath):\n",
    "        print('%s does not exist!' % DataPath)\n",
    "        return\n",
    "    OriginData = pd.read_csv(DataPath, index_col=0)\n",
    "    #OriginData = OriginData.sample(frac=1)  # 打乱顺序后返回\n",
    "    return OriginData\n",
    "\n",
    "\n",
    "def NormalData(TrainData, TestData):\n",
    "    # 对一些列的均值大于100的进行归一化处理\n",
    "    AllData = TrainData.append(TestData)\n",
    "    for col in AllData.columns:\n",
    "        if abs(AllData[col].mean())>1:\n",
    "            scaler = StandardScaler().fit(np.atleast_2d(AllData[col]).T)\n",
    "            TrainData[col] = scaler.transform(np.atleast_2d(TrainData[col]).T)\n",
    "    return TrainData"
   ]
  },
  {
   "cell_type": "code",
   "execution_count": 3,
   "metadata": {},
   "outputs": [],
   "source": [
    "TestData = loadData('AllTest_withnull.csv')\n",
    "TestID = TestData.SK_ID_CURR.values\n",
    "TestData.drop('SK_ID_CURR', axis=1, inplace=True)\n",
    "AllTrainData = loadData('AllTrain_withnull.csv')\n",
    "AllTrainData.reset_index(drop=True, inplace=True)\n",
    "AllTrainData.drop('SK_ID_CURR', axis=1, inplace=True)"
   ]
  },
  {
   "cell_type": "code",
   "execution_count": 4,
   "metadata": {
    "scrolled": true
   },
   "outputs": [],
   "source": [
    "tmp = AllTrainData.isnull().sum().sort_values(ascending=False)/len(AllTrainData)"
   ]
  },
  {
   "cell_type": "code",
   "execution_count": 5,
   "metadata": {},
   "outputs": [
    {
     "data": {
      "text/plain": [
       "AMT_PAYMENT_CURRENT_std_max         0.802872\n",
       "AMT_PAYMENT_CURRENT_std_mean        0.802872\n",
       "AMT_PAYMENT_minus_Total_std_max     0.802872\n",
       "AMT_PAYMENT_minus_Total_std_mean    0.802872\n",
       "AMT_PAYMENT_minus_Total_std_min     0.802872\n",
       "dtype: float64"
      ]
     },
     "execution_count": 5,
     "metadata": {},
     "output_type": "execute_result"
    }
   ],
   "source": [
    "tmp.head()"
   ]
  },
  {
   "cell_type": "code",
   "execution_count": 6,
   "metadata": {
    "scrolled": true
   },
   "outputs": [
    {
     "name": "stdout",
     "output_type": "stream",
     "text": [
      "59\n"
     ]
    }
   ],
   "source": [
    "featureNO = list(tmp[tmp>0.8].index)\n",
    "print(len(featureNO))"
   ]
  },
  {
   "cell_type": "code",
   "execution_count": 7,
   "metadata": {},
   "outputs": [],
   "source": [
    "features = [x for x in AllTrainData.columns if x != 'TARGET' and x != 'SK_ID_CURR']"
   ]
  },
  {
   "cell_type": "code",
   "execution_count": 8,
   "metadata": {},
   "outputs": [
    {
     "data": {
      "text/plain": [
       "1339"
      ]
     },
     "execution_count": 8,
     "metadata": {},
     "output_type": "execute_result"
    }
   ],
   "source": [
    "len(features)"
   ]
  },
  {
   "cell_type": "code",
   "execution_count": 9,
   "metadata": {},
   "outputs": [],
   "source": [
    "# Display/plot feature importance\n",
    "def display_importances(feature_importance_df_):\n",
    "    cols = feature_importance_df_[[\"feature\", \"importance\"]].groupby(\"feature\").mean().sort_values(by=\"importance\", ascending=False)[:50].index\n",
    "    best_features = feature_importance_df_.loc[feature_importance_df_.feature.isin(cols)]\n",
    "    plt.figure(figsize=(8, 10))\n",
    "    sns.barplot(x=\"importance\", y=\"feature\", data=best_features.sort_values(by=\"importance\", ascending=False))\n",
    "    plt.title('XGBOOST Features (avg over folds)')\n",
    "    plt.tight_layout()\n",
    "    plt.savefig('XGBOOST_ImportantFeats.png')"
   ]
  },
  {
   "cell_type": "code",
   "execution_count": 10,
   "metadata": {},
   "outputs": [],
   "source": [
    "df_train = AllTrainData\n",
    "df_test = TestData\n",
    "num_folds = 5\n",
    "stratified = False\n",
    "debug= False"
   ]
  },
  {
   "cell_type": "code",
   "execution_count": 11,
   "metadata": {
    "scrolled": false
   },
   "outputs": [
    {
     "name": "stdout",
     "output_type": "stream",
     "text": [
      "Starting XGBoost. Train shape: (307511, 1340), test shape: (48744, 1339)\n",
      "Num of Feature: 1339\n",
      "[0]\tvalidation_0-auc:0.724227\tvalidation_1-auc:0.718033\n",
      "Multiple eval metrics have been passed: 'validation_1-auc' will be used for early stopping.\n",
      "\n",
      "Will train until validation_1-auc hasn't improved in 100 rounds.\n",
      "[200]\tvalidation_0-auc:0.755017\tvalidation_1-auc:0.744325\n",
      "[400]\tvalidation_0-auc:0.756929\tvalidation_1-auc:0.745709\n",
      "[600]\tvalidation_0-auc:0.758716\tvalidation_1-auc:0.746935\n",
      "[800]\tvalidation_0-auc:0.760038\tvalidation_1-auc:0.747741\n",
      "[1000]\tvalidation_0-auc:0.761478\tvalidation_1-auc:0.748663\n"
     ]
    },
    {
     "ename": "KeyboardInterrupt",
     "evalue": "",
     "output_type": "error",
     "traceback": [
      "\u001b[0;31m---------------------------------------------------------------------------\u001b[0m",
      "\u001b[0;31mKeyboardInterrupt\u001b[0m                         Traceback (most recent call last)",
      "\u001b[0;32m<ipython-input-11-afb86505efc1>\u001b[0m in \u001b[0;36m<module>\u001b[0;34m()\u001b[0m\n\u001b[1;32m     39\u001b[0m \u001b[0;34m\u001b[0m\u001b[0m\n\u001b[1;32m     40\u001b[0m     clf.fit(train_x, train_y, eval_set=[(train_x, train_y), (valid_x, valid_y)], \n\u001b[0;32m---> 41\u001b[0;31m                 eval_metric= 'auc', verbose= 200, early_stopping_rounds= 100)\n\u001b[0m\u001b[1;32m     42\u001b[0m \u001b[0;34m\u001b[0m\u001b[0m\n\u001b[1;32m     43\u001b[0m     \u001b[0moof_preds\u001b[0m\u001b[0;34m[\u001b[0m\u001b[0mvalid_idx\u001b[0m\u001b[0;34m]\u001b[0m \u001b[0;34m=\u001b[0m \u001b[0mclf\u001b[0m\u001b[0;34m.\u001b[0m\u001b[0mpredict_proba\u001b[0m\u001b[0;34m(\u001b[0m\u001b[0mvalid_x\u001b[0m\u001b[0;34m,\u001b[0m\u001b[0mntree_limit\u001b[0m\u001b[0;34m=\u001b[0m\u001b[0mclf\u001b[0m\u001b[0;34m.\u001b[0m\u001b[0mbest_ntree_limit\u001b[0m\u001b[0;34m)\u001b[0m\u001b[0;34m[\u001b[0m\u001b[0;34m:\u001b[0m\u001b[0;34m,\u001b[0m \u001b[0;36m1\u001b[0m\u001b[0;34m]\u001b[0m\u001b[0;34m\u001b[0m\u001b[0m\n",
      "\u001b[0;32m/usr/share/anaconda2/envs/py3/lib/python3.5/site-packages/xgboost-0.72-py3.5.egg/xgboost/sklearn.py\u001b[0m in \u001b[0;36mfit\u001b[0;34m(self, X, y, sample_weight, eval_set, eval_metric, early_stopping_rounds, verbose, xgb_model, sample_weight_eval_set)\u001b[0m\n\u001b[1;32m    545\u001b[0m                               \u001b[0mearly_stopping_rounds\u001b[0m\u001b[0;34m=\u001b[0m\u001b[0mearly_stopping_rounds\u001b[0m\u001b[0;34m,\u001b[0m\u001b[0;34m\u001b[0m\u001b[0m\n\u001b[1;32m    546\u001b[0m                               \u001b[0mevals_result\u001b[0m\u001b[0;34m=\u001b[0m\u001b[0mevals_result\u001b[0m\u001b[0;34m,\u001b[0m \u001b[0mobj\u001b[0m\u001b[0;34m=\u001b[0m\u001b[0mobj\u001b[0m\u001b[0;34m,\u001b[0m \u001b[0mfeval\u001b[0m\u001b[0;34m=\u001b[0m\u001b[0mfeval\u001b[0m\u001b[0;34m,\u001b[0m\u001b[0;34m\u001b[0m\u001b[0m\n\u001b[0;32m--> 547\u001b[0;31m                               verbose_eval=verbose, xgb_model=None)\n\u001b[0m\u001b[1;32m    548\u001b[0m \u001b[0;34m\u001b[0m\u001b[0m\n\u001b[1;32m    549\u001b[0m         \u001b[0mself\u001b[0m\u001b[0;34m.\u001b[0m\u001b[0mobjective\u001b[0m \u001b[0;34m=\u001b[0m \u001b[0mxgb_options\u001b[0m\u001b[0;34m[\u001b[0m\u001b[0;34m\"objective\"\u001b[0m\u001b[0;34m]\u001b[0m\u001b[0;34m\u001b[0m\u001b[0m\n",
      "\u001b[0;32m/usr/share/anaconda2/envs/py3/lib/python3.5/site-packages/xgboost-0.72-py3.5.egg/xgboost/training.py\u001b[0m in \u001b[0;36mtrain\u001b[0;34m(params, dtrain, num_boost_round, evals, obj, feval, maximize, early_stopping_rounds, evals_result, verbose_eval, xgb_model, callbacks, learning_rates)\u001b[0m\n\u001b[1;32m    202\u001b[0m                            \u001b[0mevals\u001b[0m\u001b[0;34m=\u001b[0m\u001b[0mevals\u001b[0m\u001b[0;34m,\u001b[0m\u001b[0;34m\u001b[0m\u001b[0m\n\u001b[1;32m    203\u001b[0m                            \u001b[0mobj\u001b[0m\u001b[0;34m=\u001b[0m\u001b[0mobj\u001b[0m\u001b[0;34m,\u001b[0m \u001b[0mfeval\u001b[0m\u001b[0;34m=\u001b[0m\u001b[0mfeval\u001b[0m\u001b[0;34m,\u001b[0m\u001b[0;34m\u001b[0m\u001b[0m\n\u001b[0;32m--> 204\u001b[0;31m                            xgb_model=xgb_model, callbacks=callbacks)\n\u001b[0m\u001b[1;32m    205\u001b[0m \u001b[0;34m\u001b[0m\u001b[0m\n\u001b[1;32m    206\u001b[0m \u001b[0;34m\u001b[0m\u001b[0m\n",
      "\u001b[0;32m/usr/share/anaconda2/envs/py3/lib/python3.5/site-packages/xgboost-0.72-py3.5.egg/xgboost/training.py\u001b[0m in \u001b[0;36m_train_internal\u001b[0;34m(params, dtrain, num_boost_round, evals, obj, feval, xgb_model, callbacks)\u001b[0m\n\u001b[1;32m     72\u001b[0m         \u001b[0;31m# Skip the first update if it is a recovery step.\u001b[0m\u001b[0;34m\u001b[0m\u001b[0;34m\u001b[0m\u001b[0m\n\u001b[1;32m     73\u001b[0m         \u001b[0;32mif\u001b[0m \u001b[0mversion\u001b[0m \u001b[0;34m%\u001b[0m \u001b[0;36m2\u001b[0m \u001b[0;34m==\u001b[0m \u001b[0;36m0\u001b[0m\u001b[0;34m:\u001b[0m\u001b[0;34m\u001b[0m\u001b[0m\n\u001b[0;32m---> 74\u001b[0;31m             \u001b[0mbst\u001b[0m\u001b[0;34m.\u001b[0m\u001b[0mupdate\u001b[0m\u001b[0;34m(\u001b[0m\u001b[0mdtrain\u001b[0m\u001b[0;34m,\u001b[0m \u001b[0mi\u001b[0m\u001b[0;34m,\u001b[0m \u001b[0mobj\u001b[0m\u001b[0;34m)\u001b[0m\u001b[0;34m\u001b[0m\u001b[0m\n\u001b[0m\u001b[1;32m     75\u001b[0m             \u001b[0mbst\u001b[0m\u001b[0;34m.\u001b[0m\u001b[0msave_rabit_checkpoint\u001b[0m\u001b[0;34m(\u001b[0m\u001b[0;34m)\u001b[0m\u001b[0;34m\u001b[0m\u001b[0m\n\u001b[1;32m     76\u001b[0m             \u001b[0mversion\u001b[0m \u001b[0;34m+=\u001b[0m \u001b[0;36m1\u001b[0m\u001b[0;34m\u001b[0m\u001b[0m\n",
      "\u001b[0;32m/usr/share/anaconda2/envs/py3/lib/python3.5/site-packages/xgboost-0.72-py3.5.egg/xgboost/core.py\u001b[0m in \u001b[0;36mupdate\u001b[0;34m(self, dtrain, iteration, fobj)\u001b[0m\n\u001b[1;32m   1001\u001b[0m         \u001b[0;32mif\u001b[0m \u001b[0mfobj\u001b[0m \u001b[0;32mis\u001b[0m \u001b[0;32mNone\u001b[0m\u001b[0;34m:\u001b[0m\u001b[0;34m\u001b[0m\u001b[0m\n\u001b[1;32m   1002\u001b[0m             _check_call(_LIB.XGBoosterUpdateOneIter(self.handle, ctypes.c_int(iteration),\n\u001b[0;32m-> 1003\u001b[0;31m                                                     dtrain.handle))\n\u001b[0m\u001b[1;32m   1004\u001b[0m         \u001b[0;32melse\u001b[0m\u001b[0;34m:\u001b[0m\u001b[0;34m\u001b[0m\u001b[0m\n\u001b[1;32m   1005\u001b[0m             \u001b[0mpred\u001b[0m \u001b[0;34m=\u001b[0m \u001b[0mself\u001b[0m\u001b[0;34m.\u001b[0m\u001b[0mpredict\u001b[0m\u001b[0;34m(\u001b[0m\u001b[0mdtrain\u001b[0m\u001b[0;34m)\u001b[0m\u001b[0;34m\u001b[0m\u001b[0m\n",
      "\u001b[0;31mKeyboardInterrupt\u001b[0m: "
     ]
    }
   ],
   "source": [
    "#试试另外一个xgb模型\n",
    "# Divide in training/validation and test data\n",
    "print(\"Starting XGBoost. Train shape: {}, test shape: {}\".format(df_train.shape, df_test.shape))\n",
    "print(\"Num of Feature:\",len(features))\n",
    "# Cross validation model\n",
    "if stratified:\n",
    "    folds = StratifiedKFold(n_splits= num_folds, shuffle=True, random_state=90210)\n",
    "else:\n",
    "    folds = KFold(n_splits= num_folds, shuffle=True, random_state=90210)\n",
    "# Create arrays and dataframes to store results\n",
    "oof_preds = np.zeros(df_train.shape[0])\n",
    "sub_preds = np.zeros([df_test.shape[0]])\n",
    "roc_score_list = []\n",
    "bestModel = None\n",
    "bestRoc = None\n",
    "feature_importance_df = pd.DataFrame()\n",
    "    \n",
    "for n_fold, (train_idx, valid_idx) in enumerate(folds.split(df_train[features], df_train['TARGET'])):\n",
    "    train_x, train_y = df_train[features].iloc[train_idx], df_train['TARGET'].iloc[train_idx]\n",
    "    valid_x, valid_y = df_train[features].iloc[valid_idx], df_train['TARGET'].iloc[valid_idx]\n",
    "\n",
    "    clf = XGBClassifier(scale_pos_weight=1,\n",
    "                    reg_alpha=0.001,\n",
    "                    reg_lambda=0.001,\n",
    "                    min_child_weight=4,\n",
    "                    colsample_bylevel=1,\n",
    "                    colsample_bytree=0.5,\n",
    "                    subsample=0.5,\n",
    "                    max_bin=255,\n",
    "                    max_depth=16,\n",
    "                    max_leaves = 40,\n",
    "                    ter='gbtree',gpu_id = 0,\n",
    "                    tree_method = 'gpu_hist',\n",
    "                    objective= 'binary:logistic',\n",
    "                    n_estimators=10000,\n",
    "                    nthread=-1,\n",
    "                    learning_rate =0.001\n",
    "                   )\n",
    "\n",
    "    clf.fit(train_x, train_y, eval_set=[(train_x, train_y), (valid_x, valid_y)], \n",
    "                eval_metric= 'auc', verbose= 200, early_stopping_rounds= 100)\n",
    "    \n",
    "    oof_preds[valid_idx] = clf.predict_proba(valid_x,ntree_limit=clf.best_ntree_limit)[:, 1]\n",
    "    sub_preds += clf.predict_proba(df_test[features],ntree_limit=clf.best_ntree_limit)[:, 1] / folds.n_splits # - Uncomment for K-fold \n",
    "    roc_curr = roc_auc_score(valid_y, oof_preds[valid_idx])\n",
    "    roc_score_list.append(roc_curr)\n",
    "    if bestRoc is None or roc_curr>bestRoc:\n",
    "        bestRoc = roc_curr\n",
    "        bestModel = clf\n",
    "    print('best interation:',clf.best_ntree_limit)\n",
    "    print('Fold %2d AUC : %.6f' % (n_fold + 1, roc_curr ))\n",
    "    \n",
    "    fold_importance_df = pd.DataFrame()\n",
    "    fold_importance_df[\"feature\"] = features\n",
    "    fold_importance_df[\"importance\"] = clf.feature_importances_\n",
    "    fold_importance_df[\"fold\"] = n_fold + 1\n",
    "    feature_importance_df = pd.concat([feature_importance_df, fold_importance_df], axis=0)\n",
    "    del clf, train_x, train_y, valid_x, valid_y\n",
    "    gc.collect()"
   ]
  },
  {
   "cell_type": "code",
   "execution_count": 77,
   "metadata": {
    "collapsed": true
   },
   "outputs": [],
   "source": [
    "df_train = AllTrainData\n",
    "df_test = TestData\n",
    "num_folds = 5\n",
    "stratified = False\n",
    "debug= False"
   ]
  },
  {
   "cell_type": "code",
   "execution_count": 11,
   "metadata": {
    "scrolled": false
   },
   "outputs": [
    {
     "name": "stdout",
     "output_type": "stream",
     "text": [
      "Starting XGBoost. Train shape: (307511, 1260), test shape: (48744, 1259)\n",
      "Num of Feature: 1259\n",
      "[0]\tvalidation_0-auc:0.727259\tvalidation_1-auc:0.721573\n",
      "Multiple eval metrics have been passed: 'validation_1-auc' will be used for early stopping.\n",
      "\n",
      "Will train until validation_1-auc hasn't improved in 200 rounds.\n",
      "[200]\tvalidation_0-auc:0.763267\tvalidation_1-auc:0.751072\n",
      "[400]\tvalidation_0-auc:0.784583\tvalidation_1-auc:0.766212\n",
      "[600]\tvalidation_0-auc:0.802013\tvalidation_1-auc:0.776726\n",
      "[800]\tvalidation_0-auc:0.813611\tvalidation_1-auc:0.782052\n",
      "[1000]\tvalidation_0-auc:0.822889\tvalidation_1-auc:0.785285\n",
      "[1200]\tvalidation_0-auc:0.830936\tvalidation_1-auc:0.787434\n",
      "[1400]\tvalidation_0-auc:0.838182\tvalidation_1-auc:0.788997\n",
      "[1600]\tvalidation_0-auc:0.844734\tvalidation_1-auc:0.790011\n",
      "[1800]\tvalidation_0-auc:0.850599\tvalidation_1-auc:0.790844\n",
      "[2000]\tvalidation_0-auc:0.856127\tvalidation_1-auc:0.791489\n",
      "[2200]\tvalidation_0-auc:0.860886\tvalidation_1-auc:0.79187\n",
      "[2400]\tvalidation_0-auc:0.86573\tvalidation_1-auc:0.792351\n",
      "[2600]\tvalidation_0-auc:0.869939\tvalidation_1-auc:0.792605\n",
      "[2800]\tvalidation_0-auc:0.874236\tvalidation_1-auc:0.792721\n",
      "[3000]\tvalidation_0-auc:0.878283\tvalidation_1-auc:0.792822\n",
      "[3200]\tvalidation_0-auc:0.882278\tvalidation_1-auc:0.79293\n",
      "[3400]\tvalidation_0-auc:0.886072\tvalidation_1-auc:0.79312\n",
      "[3600]\tvalidation_0-auc:0.889716\tvalidation_1-auc:0.793211\n",
      "[3800]\tvalidation_0-auc:0.893256\tvalidation_1-auc:0.793279\n",
      "[4000]\tvalidation_0-auc:0.896715\tvalidation_1-auc:0.793322\n",
      "[4200]\tvalidation_0-auc:0.900062\tvalidation_1-auc:0.793265\n",
      "Stopping. Best iteration:\n",
      "[4069]\tvalidation_0-auc:0.897815\tvalidation_1-auc:0.793344\n",
      "\n",
      "best interation: 4070\n",
      "Fold  1 AUC : 0.793344\n",
      "[0]\tvalidation_0-auc:0.729548\tvalidation_1-auc:0.725179\n",
      "Multiple eval metrics have been passed: 'validation_1-auc' will be used for early stopping.\n",
      "\n",
      "Will train until validation_1-auc hasn't improved in 200 rounds.\n",
      "[200]\tvalidation_0-auc:0.76294\tvalidation_1-auc:0.751841\n",
      "[400]\tvalidation_0-auc:0.784576\tvalidation_1-auc:0.766479\n",
      "[600]\tvalidation_0-auc:0.801608\tvalidation_1-auc:0.777176\n",
      "[800]\tvalidation_0-auc:0.81323\tvalidation_1-auc:0.782984\n",
      "[1000]\tvalidation_0-auc:0.82242\tvalidation_1-auc:0.78645\n",
      "[1200]\tvalidation_0-auc:0.83034\tvalidation_1-auc:0.788925\n",
      "[1400]\tvalidation_0-auc:0.837187\tvalidation_1-auc:0.790408\n",
      "[1600]\tvalidation_0-auc:0.843381\tvalidation_1-auc:0.791694\n",
      "[1800]\tvalidation_0-auc:0.848866\tvalidation_1-auc:0.792639\n",
      "[2000]\tvalidation_0-auc:0.85414\tvalidation_1-auc:0.793438\n",
      "[2200]\tvalidation_0-auc:0.859041\tvalidation_1-auc:0.793975\n",
      "[2400]\tvalidation_0-auc:0.863736\tvalidation_1-auc:0.794422\n",
      "[2600]\tvalidation_0-auc:0.868399\tvalidation_1-auc:0.794791\n",
      "[2800]\tvalidation_0-auc:0.872521\tvalidation_1-auc:0.795098\n",
      "[3000]\tvalidation_0-auc:0.876619\tvalidation_1-auc:0.795489\n",
      "[3200]\tvalidation_0-auc:0.880527\tvalidation_1-auc:0.79559\n",
      "[3400]\tvalidation_0-auc:0.884248\tvalidation_1-auc:0.795887\n",
      "[3600]\tvalidation_0-auc:0.887977\tvalidation_1-auc:0.796123\n",
      "[3800]\tvalidation_0-auc:0.891691\tvalidation_1-auc:0.79634\n",
      "[4000]\tvalidation_0-auc:0.895169\tvalidation_1-auc:0.79641\n",
      "[4200]\tvalidation_0-auc:0.898593\tvalidation_1-auc:0.7966\n",
      "[4400]\tvalidation_0-auc:0.901635\tvalidation_1-auc:0.796588\n",
      "[4600]\tvalidation_0-auc:0.904828\tvalidation_1-auc:0.796729\n",
      "[4800]\tvalidation_0-auc:0.907909\tvalidation_1-auc:0.796758\n",
      "[5000]\tvalidation_0-auc:0.910702\tvalidation_1-auc:0.796815\n",
      "[5200]\tvalidation_0-auc:0.91373\tvalidation_1-auc:0.79677\n",
      "Stopping. Best iteration:\n",
      "[5101]\tvalidation_0-auc:0.912228\tvalidation_1-auc:0.796839\n",
      "\n",
      "best interation: 5102\n",
      "Fold  2 AUC : 0.796838\n",
      "[0]\tvalidation_0-auc:0.72778\tvalidation_1-auc:0.725823\n",
      "Multiple eval metrics have been passed: 'validation_1-auc' will be used for early stopping.\n",
      "\n",
      "Will train until validation_1-auc hasn't improved in 200 rounds.\n",
      "[200]\tvalidation_0-auc:0.762951\tvalidation_1-auc:0.754994\n",
      "[400]\tvalidation_0-auc:0.783999\tvalidation_1-auc:0.76957\n",
      "[600]\tvalidation_0-auc:0.801129\tvalidation_1-auc:0.780097\n",
      "[800]\tvalidation_0-auc:0.812584\tvalidation_1-auc:0.785541\n",
      "[1000]\tvalidation_0-auc:0.821622\tvalidation_1-auc:0.789013\n",
      "[1200]\tvalidation_0-auc:0.829604\tvalidation_1-auc:0.791485\n",
      "[1400]\tvalidation_0-auc:0.836617\tvalidation_1-auc:0.793131\n",
      "[1600]\tvalidation_0-auc:0.842917\tvalidation_1-auc:0.794264\n",
      "[1800]\tvalidation_0-auc:0.848888\tvalidation_1-auc:0.795276\n",
      "[2000]\tvalidation_0-auc:0.854335\tvalidation_1-auc:0.796001\n",
      "[2200]\tvalidation_0-auc:0.859444\tvalidation_1-auc:0.796472\n",
      "[2400]\tvalidation_0-auc:0.864279\tvalidation_1-auc:0.79681\n",
      "[2600]\tvalidation_0-auc:0.868837\tvalidation_1-auc:0.797064\n",
      "[2800]\tvalidation_0-auc:0.873327\tvalidation_1-auc:0.797409\n",
      "[3000]\tvalidation_0-auc:0.877344\tvalidation_1-auc:0.797613\n",
      "[3200]\tvalidation_0-auc:0.881284\tvalidation_1-auc:0.797718\n",
      "[3400]\tvalidation_0-auc:0.885291\tvalidation_1-auc:0.797839\n",
      "[3600]\tvalidation_0-auc:0.889035\tvalidation_1-auc:0.798052\n",
      "[3800]\tvalidation_0-auc:0.892538\tvalidation_1-auc:0.798096\n",
      "[4000]\tvalidation_0-auc:0.895949\tvalidation_1-auc:0.798138\n",
      "Stopping. Best iteration:\n",
      "[3941]\tvalidation_0-auc:0.894946\tvalidation_1-auc:0.798155\n",
      "\n",
      "best interation: 3942\n",
      "Fold  3 AUC : 0.798155\n",
      "[0]\tvalidation_0-auc:0.731182\tvalidation_1-auc:0.722856\n",
      "Multiple eval metrics have been passed: 'validation_1-auc' will be used for early stopping.\n",
      "\n",
      "Will train until validation_1-auc hasn't improved in 200 rounds.\n",
      "[200]\tvalidation_0-auc:0.764981\tvalidation_1-auc:0.74757\n",
      "[400]\tvalidation_0-auc:0.785829\tvalidation_1-auc:0.761812\n",
      "[600]\tvalidation_0-auc:0.803031\tvalidation_1-auc:0.772463\n",
      "[800]\tvalidation_0-auc:0.814591\tvalidation_1-auc:0.777996\n",
      "[1000]\tvalidation_0-auc:0.82372\tvalidation_1-auc:0.7815\n",
      "[1200]\tvalidation_0-auc:0.831562\tvalidation_1-auc:0.783878\n",
      "[1400]\tvalidation_0-auc:0.838448\tvalidation_1-auc:0.785611\n",
      "[1600]\tvalidation_0-auc:0.844713\tvalidation_1-auc:0.786874\n",
      "[1800]\tvalidation_0-auc:0.850123\tvalidation_1-auc:0.787797\n",
      "[2000]\tvalidation_0-auc:0.855258\tvalidation_1-auc:0.788419\n",
      "[2200]\tvalidation_0-auc:0.859987\tvalidation_1-auc:0.788846\n",
      "[2400]\tvalidation_0-auc:0.864768\tvalidation_1-auc:0.78931\n",
      "[2600]\tvalidation_0-auc:0.869403\tvalidation_1-auc:0.789561\n",
      "[2800]\tvalidation_0-auc:0.873804\tvalidation_1-auc:0.78979\n",
      "[3000]\tvalidation_0-auc:0.877815\tvalidation_1-auc:0.789968\n",
      "[3200]\tvalidation_0-auc:0.881822\tvalidation_1-auc:0.790044\n",
      "[3400]\tvalidation_0-auc:0.885564\tvalidation_1-auc:0.790164\n",
      "[3600]\tvalidation_0-auc:0.889315\tvalidation_1-auc:0.79028\n",
      "[3800]\tvalidation_0-auc:0.89292\tvalidation_1-auc:0.790335\n",
      "[4000]\tvalidation_0-auc:0.896362\tvalidation_1-auc:0.790424\n",
      "[4200]\tvalidation_0-auc:0.899825\tvalidation_1-auc:0.790422\n",
      "Stopping. Best iteration:\n",
      "[4169]\tvalidation_0-auc:0.899308\tvalidation_1-auc:0.790457\n",
      "\n",
      "best interation: 4170\n",
      "Fold  4 AUC : 0.790457\n",
      "[0]\tvalidation_0-auc:0.729928\tvalidation_1-auc:0.720841\n",
      "Multiple eval metrics have been passed: 'validation_1-auc' will be used for early stopping.\n",
      "\n",
      "Will train until validation_1-auc hasn't improved in 200 rounds.\n",
      "[200]\tvalidation_0-auc:0.763772\tvalidation_1-auc:0.748337\n",
      "[400]\tvalidation_0-auc:0.78523\tvalidation_1-auc:0.763298\n",
      "[600]\tvalidation_0-auc:0.802699\tvalidation_1-auc:0.773864\n",
      "[800]\tvalidation_0-auc:0.814312\tvalidation_1-auc:0.77921\n",
      "[1000]\tvalidation_0-auc:0.823362\tvalidation_1-auc:0.782752\n",
      "[1200]\tvalidation_0-auc:0.831209\tvalidation_1-auc:0.785185\n",
      "[1400]\tvalidation_0-auc:0.837959\tvalidation_1-auc:0.786837\n",
      "[1600]\tvalidation_0-auc:0.8442\tvalidation_1-auc:0.788032\n",
      "[1800]\tvalidation_0-auc:0.849831\tvalidation_1-auc:0.789105\n",
      "[2000]\tvalidation_0-auc:0.855251\tvalidation_1-auc:0.78986\n",
      "[2200]\tvalidation_0-auc:0.860215\tvalidation_1-auc:0.790525\n",
      "[2400]\tvalidation_0-auc:0.864807\tvalidation_1-auc:0.790954\n",
      "[2600]\tvalidation_0-auc:0.869367\tvalidation_1-auc:0.79131\n",
      "[2800]\tvalidation_0-auc:0.873627\tvalidation_1-auc:0.791606\n",
      "[3000]\tvalidation_0-auc:0.877676\tvalidation_1-auc:0.791844\n",
      "[3200]\tvalidation_0-auc:0.881735\tvalidation_1-auc:0.792094\n",
      "[3400]\tvalidation_0-auc:0.88561\tvalidation_1-auc:0.792304\n",
      "[3600]\tvalidation_0-auc:0.889335\tvalidation_1-auc:0.792495\n",
      "[3800]\tvalidation_0-auc:0.892939\tvalidation_1-auc:0.792561\n",
      "[4000]\tvalidation_0-auc:0.896318\tvalidation_1-auc:0.792643\n",
      "[4200]\tvalidation_0-auc:0.899738\tvalidation_1-auc:0.792707\n",
      "[4400]\tvalidation_0-auc:0.903006\tvalidation_1-auc:0.792765\n",
      "[4600]\tvalidation_0-auc:0.906113\tvalidation_1-auc:0.792714\n",
      "Stopping. Best iteration:\n",
      "[4442]\tvalidation_0-auc:0.903719\tvalidation_1-auc:0.792778\n",
      "\n"
     ]
    },
    {
     "name": "stdout",
     "output_type": "stream",
     "text": [
      "best interation: 4443\n",
      "Fold  5 AUC : 0.792779\n"
     ]
    }
   ],
   "source": [
    "# Divide in training/validation and test data\n",
    "print(\"Starting XGBoost. Train shape: {}, test shape: {}\".format(df_train.shape, df_test.shape))\n",
    "print(\"Num of Feature:\",len(features))\n",
    "# Cross validation model\n",
    "if stratified:\n",
    "    folds = StratifiedKFold(n_splits= num_folds, shuffle=True, random_state=1054)\n",
    "else:\n",
    "    folds = KFold(n_splits= num_folds, shuffle=True, random_state=1054)\n",
    "# Create arrays and dataframes to store results\n",
    "oof_preds = np.zeros(df_train.shape[0])\n",
    "sub_preds = np.zeros([df_test.shape[0]])\n",
    "roc_score_list = []\n",
    "bestModel = None\n",
    "bestRoc = None\n",
    "feature_importance_df = pd.DataFrame()\n",
    "    \n",
    "for n_fold, (train_idx, valid_idx) in enumerate(folds.split(df_train[features], df_train['TARGET'])):\n",
    "    train_x, train_y = df_train[features].iloc[train_idx], df_train['TARGET'].iloc[train_idx]\n",
    "    valid_x, valid_y = df_train[features].iloc[valid_idx], df_train['TARGET'].iloc[valid_idx]\n",
    "\n",
    "    clf = XGBClassifier(learning_rate =0.01, \n",
    "                        n_estimators=10000, max_depth = 5 , \n",
    "                        min_child_weight = 5, subsample=0.8,\n",
    "                        colsample_bytree=0.8, objective= 'binary:logistic', \n",
    "                       nthread=-1, scale_pos_weight = 1, seed=27, \n",
    "                        reg_lambda = 1.2, gpu_id = 0,tree_method = 'gpu_hist')\n",
    "\n",
    "    clf.fit(train_x, train_y, eval_set=[(train_x, train_y), (valid_x, valid_y)], \n",
    "                eval_metric= 'auc', verbose= 200, early_stopping_rounds= 200)\n",
    "    \n",
    "    oof_preds[valid_idx] = clf.predict_proba(valid_x,ntree_limit=clf.best_ntree_limit)[:, 1]\n",
    "    sub_preds += clf.predict_proba(df_test[features],ntree_limit=clf.best_ntree_limit)[:, 1] / folds.n_splits # - Uncomment for K-fold \n",
    "    roc_curr = roc_auc_score(valid_y, oof_preds[valid_idx])\n",
    "    roc_score_list.append(roc_curr)\n",
    "    if bestRoc is None or roc_curr>bestRoc:\n",
    "        bestRoc = roc_curr\n",
    "        bestModel = clf\n",
    "    print('best interation:',clf.best_ntree_limit)\n",
    "    print('Fold %2d AUC : %.6f' % (n_fold + 1, roc_curr ))\n",
    "    \n",
    "    fold_importance_df = pd.DataFrame()\n",
    "    fold_importance_df[\"feature\"] = features\n",
    "    fold_importance_df[\"importance\"] = clf.feature_importances_\n",
    "    fold_importance_df[\"fold\"] = n_fold + 1\n",
    "    feature_importance_df = pd.concat([feature_importance_df, fold_importance_df], axis=0)\n",
    "    del clf, train_x, train_y, valid_x, valid_y\n",
    "    gc.collect()"
   ]
  },
  {
   "cell_type": "code",
   "execution_count": 12,
   "metadata": {},
   "outputs": [
    {
     "data": {
      "text/plain": [
       "XGBClassifier(base_score=0.5, booster='gbtree', colsample_bylevel=1,\n",
       "       colsample_bytree=0.8, gamma=0, gpu_id=0, learning_rate=0.01,\n",
       "       max_delta_step=0, max_depth=5, min_child_weight=5, missing=None,\n",
       "       n_estimators=10000, n_jobs=1, nthread=-1,\n",
       "       objective='binary:logistic', random_state=0, reg_alpha=0,\n",
       "       reg_lambda=1.2, scale_pos_weight=1, seed=27, silent=True,\n",
       "       subsample=0.8, tree_method='gpu_hist')"
      ]
     },
     "execution_count": 12,
     "metadata": {},
     "output_type": "execute_result"
    }
   ],
   "source": [
    "bestModel"
   ]
  },
  {
   "cell_type": "code",
   "execution_count": 13,
   "metadata": {
    "scrolled": false
   },
   "outputs": [
    {
     "data": {
      "image/png": "[encoded data removed]",
      "text/plain": [
       "<matplotlib.figure.Figure at 0x7fec0f852a58>"
      ]
     },
     "metadata": {},
     "output_type": "display_data"
    }
   ],
   "source": [
    "display_importances(feature_importance_df)"
   ]
  },
  {
   "cell_type": "code",
   "execution_count": 14,
   "metadata": {
    "collapsed": true,
    "scrolled": true
   },
   "outputs": [],
   "source": [
    "# Write submission file and plot feature importance\n",
    "gender_submission = pd.DataFrame({'SK_ID_CURR':TestID,'TARGET':sub_preds})\n",
    "gender_submission.to_csv(os.path.join(ResultSaveDir,'result_xgb_test15.csv'), index = False)"
   ]
  },
  {
   "cell_type": "code",
   "execution_count": 21,
   "metadata": {},
   "outputs": [
    {
     "data": {
      "text/html": [
       "<div>\n",
       "<style scoped>\n",
       "    .dataframe tbody tr th:only-of-type {\n",
       "        vertical-align: middle;\n",
       "    }\n",
       "\n",
       "    .dataframe tbody tr th {\n",
       "        vertical-align: top;\n",
       "    }\n",
       "\n",
       "    .dataframe thead th {\n",
       "        text-align: right;\n",
       "    }\n",
       "</style>\n",
       "<table border=\"1\" class=\"dataframe\">\n",
       "  <thead>\n",
       "    <tr style=\"text-align: right;\">\n",
       "      <th></th>\n",
       "      <th>SK_ID_CURR</th>\n",
       "      <th>TARGET</th>\n",
       "    </tr>\n",
       "  </thead>\n",
       "  <tbody>\n",
       "    <tr>\n",
       "      <th>0</th>\n",
       "      <td>100001</td>\n",
       "      <td>0.039121</td>\n",
       "    </tr>\n",
       "    <tr>\n",
       "      <th>1</th>\n",
       "      <td>100005</td>\n",
       "      <td>0.187962</td>\n",
       "    </tr>\n",
       "    <tr>\n",
       "      <th>2</th>\n",
       "      <td>100013</td>\n",
       "      <td>0.034294</td>\n",
       "    </tr>\n",
       "    <tr>\n",
       "      <th>3</th>\n",
       "      <td>100028</td>\n",
       "      <td>0.037446</td>\n",
       "    </tr>\n",
       "    <tr>\n",
       "      <th>4</th>\n",
       "      <td>100038</td>\n",
       "      <td>0.150876</td>\n",
       "    </tr>\n",
       "  </tbody>\n",
       "</table>\n",
       "</div>"
      ],
      "text/plain": [
       "   SK_ID_CURR    TARGET\n",
       "0      100001  0.039121\n",
       "1      100005  0.187962\n",
       "2      100013  0.034294\n",
       "3      100028  0.037446\n",
       "4      100038  0.150876"
      ]
     },
     "execution_count": 21,
     "metadata": {},
     "output_type": "execute_result"
    }
   ],
   "source": [
    "gender_submission.head()"
   ]
  },
  {
   "cell_type": "code",
   "execution_count": 12,
   "metadata": {
    "collapsed": true
   },
   "outputs": [],
   "source": [
    "feats = feature_importance_df[[\"feature\", \"importance\"]].groupby(\"feature\").mean()\\\n",
    ".sort_values(by=\"importance\", ascending=False)"
   ]
  },
  {
   "cell_type": "code",
   "execution_count": 13,
   "metadata": {},
   "outputs": [
    {
     "data": {
      "text/html": [
       "<div>\n",
       "<style>\n",
       "    .dataframe thead tr:only-child th {\n",
       "        text-align: right;\n",
       "    }\n",
       "\n",
       "    .dataframe thead th {\n",
       "        text-align: left;\n",
       "    }\n",
       "\n",
       "    .dataframe tbody tr th {\n",
       "        vertical-align: top;\n",
       "    }\n",
       "</style>\n",
       "<table border=\"1\" class=\"dataframe\">\n",
       "  <thead>\n",
       "    <tr style=\"text-align: right;\">\n",
       "      <th></th>\n",
       "      <th>importance</th>\n",
       "    </tr>\n",
       "    <tr>\n",
       "      <th>feature</th>\n",
       "      <th></th>\n",
       "    </tr>\n",
       "  </thead>\n",
       "  <tbody>\n",
       "    <tr>\n",
       "      <th>NEW_CREDIT_TO_GOODS_RATIO</th>\n",
       "      <td>0.007762</td>\n",
       "    </tr>\n",
       "    <tr>\n",
       "      <th>EXT_SOURCE_MEAN</th>\n",
       "      <td>0.014698</td>\n",
       "    </tr>\n",
       "    <tr>\n",
       "      <th>NEW_CREDIT_TO_ANNUITY_RATIO</th>\n",
       "      <td>0.021354</td>\n",
       "    </tr>\n",
       "    <tr>\n",
       "      <th>DAYS_BIRTH</th>\n",
       "      <td>0.027828</td>\n",
       "    </tr>\n",
       "    <tr>\n",
       "      <th>DEBT_CREDIT_RATIO_new</th>\n",
       "      <td>0.033773</td>\n",
       "    </tr>\n",
       "  </tbody>\n",
       "</table>\n",
       "</div>"
      ],
      "text/plain": [
       "                             importance\n",
       "feature                                \n",
       "NEW_CREDIT_TO_GOODS_RATIO      0.007762\n",
       "EXT_SOURCE_MEAN                0.014698\n",
       "NEW_CREDIT_TO_ANNUITY_RATIO    0.021354\n",
       "DAYS_BIRTH                     0.027828\n",
       "DEBT_CREDIT_RATIO_new          0.033773"
      ]
     },
     "execution_count": 13,
     "metadata": {},
     "output_type": "execute_result"
    }
   ],
   "source": [
    "featscum = feats.cumsum()\n",
    "featscum.head()"
   ]
  },
  {
   "cell_type": "code",
   "execution_count": 16,
   "metadata": {
    "collapsed": true
   },
   "outputs": [],
   "source": [
    "feat_keep = featscum[featscum.importance<0.99].index.tolist()"
   ]
  },
  {
   "cell_type": "code",
   "execution_count": 17,
   "metadata": {},
   "outputs": [
    {
     "data": {
      "text/plain": [
       "780"
      ]
     },
     "execution_count": 17,
     "metadata": {},
     "output_type": "execute_result"
    }
   ],
   "source": [
    "len(feat_keep)"
   ]
  },
  {
   "cell_type": "code",
   "execution_count": 18,
   "metadata": {
    "collapsed": true
   },
   "outputs": [],
   "source": [
    "features = feat_keep"
   ]
  },
  {
   "cell_type": "markdown",
   "metadata": {},
   "source": [
    "## 获取前50个比较重要的特征"
   ]
  },
  {
   "cell_type": "code",
   "execution_count": 56,
   "metadata": {
    "collapsed": true
   },
   "outputs": [],
   "source": [
    "features30 = list(feature_importance_df[[\"feature\", \"importance\"]].groupby(\"feature\").mean()\\\n",
    ".sort_values(by=\"importance\", ascending=False)[:30].index)"
   ]
  },
  {
   "cell_type": "code",
   "execution_count": 57,
   "metadata": {
    "scrolled": true
   },
   "outputs": [
    {
     "data": {
      "text/plain": [
       "['EXT_SOURCE_MEAN',\n",
       " 'NEW_CREDIT_TO_GOODS_RATIO',\n",
       " 'NEW_CREDIT_TO_ANNUITY_RATIO',\n",
       " 'DAYS_BIRTH',\n",
       " 'EXT_SOURCE_3',\n",
       " 'CREDIT_TERM_sy',\n",
       " 'EXT_SOURCE_nanmedian',\n",
       " 'DEBT_CREDIT_RATIO_new',\n",
       " 'DAYS_CREDIT_ENDDATE_max',\n",
       " 'DAYS_EMPLOYED',\n",
       " 'INSTAL_DAYS_ENTRY_PAYMENT_MAX',\n",
       " 'EXT_SOURCE_gap',\n",
       " 'PREV_APP_CREDIT_PERC_MEAN',\n",
       " 'REGION_POPULATION_RELATIVE',\n",
       " 'DAYS_INSTALMENT_minus_max_mean',\n",
       " 'EXT_SOURCE_STD',\n",
       " 'AMT_PAYMENT_minus_mean_mean',\n",
       " 'EXT_SOURCE_PROD',\n",
       " 'ACTIVE_DAYS_CREDIT_ENDDATE_MEAN',\n",
       " 'EXT_SOURCE_MEAN_multiply_AMT_ANNUITY',\n",
       " 'INSTAL_AMT_PAYMENT_SUM',\n",
       " 'CNT_INSTALMENT_FUTURE_mean_mean',\n",
       " 'DAYS_ENDDATE_FACT_max',\n",
       " 'EXT_SOURCE_MAX',\n",
       " 'external_sources_weighted',\n",
       " 'INSTAL_DPD_MEAN',\n",
       " 'EXT_SOURCE_MEAN_div_DAYS_BIRTH',\n",
       " 'CNT_INSTALMENT_FUTURE_min_mean',\n",
       " 'DAYS_ID_PUBLISH_multiply_DAYS_INSTALMENT',\n",
       " 'ACTIVE_DAYS_CREDIT_UPDATE_MEAN']"
      ]
     },
     "execution_count": 57,
     "metadata": {},
     "output_type": "execute_result"
    }
   ],
   "source": [
    "features30"
   ]
  },
  {
   "cell_type": "code",
   "execution_count": 58,
   "metadata": {
    "collapsed": true,
    "scrolled": true
   },
   "outputs": [],
   "source": [
    "#通过xgboost选出来的特征剔除异常点\n",
    "AllTrainDataNULLcount = AllTrainData[features30].isnull().sum(axis=1).sort_values(ascending=False)/len(features30)"
   ]
  },
  {
   "cell_type": "code",
   "execution_count": 61,
   "metadata": {
    "scrolled": true
   },
   "outputs": [
    {
     "data": {
      "text/plain": [
       "Int64Index([ 20988, 129183,  14869,  96792,  10910, 177091, 298610, 307387,\n",
       "            262758, 218469,\n",
       "            ...\n",
       "            197165, 196801, 200154,    650, 302881, 188515, 199902, 128367,\n",
       "            191210,  37912],\n",
       "           dtype='int64', length=12759)"
      ]
     },
     "execution_count": 61,
     "metadata": {},
     "output_type": "execute_result"
    }
   ],
   "source": [
    "AllTrainDataNULLcount[AllTrainDataNULLcount>0.3].index"
   ]
  },
  {
   "cell_type": "code",
   "execution_count": 65,
   "metadata": {},
   "outputs": [
    {
     "data": {
      "text/plain": [
       "(294752, 1244)"
      ]
     },
     "execution_count": 65,
     "metadata": {},
     "output_type": "execute_result"
    }
   ],
   "source": [
    "AllTrainData.shape"
   ]
  },
  {
   "cell_type": "code",
   "execution_count": 64,
   "metadata": {
    "collapsed": true
   },
   "outputs": [],
   "source": [
    "AllTrainData.drop(AllTrainDataNULLcount[AllTrainDataNULLcount>0.3].index,inplace=True)"
   ]
  },
  {
   "cell_type": "markdown",
   "metadata": {},
   "source": [
    "## 来看看数据的异常点"
   ]
  },
  {
   "cell_type": "code",
   "execution_count": 24,
   "metadata": {
    "collapsed": true
   },
   "outputs": [],
   "source": [
    "#看列的缺失情况\n",
    "ColNullTrain = AllTrainData.isnull().sum().sort_values(ascending=False)/len(AllTrainData)\n",
    "ColNullTest = TestData.isnull().sum().sort_values(ascending=False)/len(TestData)"
   ]
  },
  {
   "cell_type": "code",
   "execution_count": 25,
   "metadata": {
    "scrolled": false
   },
   "outputs": [
    {
     "data": {
      "text/plain": [
       "<matplotlib.axes._subplots.AxesSubplot at 0x7f7529bf1630>"
      ]
     },
     "execution_count": 25,
     "metadata": {},
     "output_type": "execute_result"
    },
    {
     "data": {
      "image/png": "[encoded data removed]",
      "text/plain": [
       "<matplotlib.figure.Figure at 0x7f7529b98b00>"
      ]
     },
     "metadata": {},
     "output_type": "display_data"
    }
   ],
   "source": [
    "ColNullTrain.plot(kind='bar')"
   ]
  },
  {
   "cell_type": "code",
   "execution_count": 26,
   "metadata": {},
   "outputs": [
    {
     "data": {
      "text/plain": [
       "<matplotlib.axes._subplots.AxesSubplot at 0x7f750e7285f8>"
      ]
     },
     "execution_count": 26,
     "metadata": {},
     "output_type": "execute_result"
    },
    {
     "data": {
      "image/png": "[encoded data removed]",
      "text/plain": [
       "<matplotlib.figure.Figure at 0x7f75279b4240>"
      ]
     },
     "metadata": {},
     "output_type": "display_data"
    }
   ],
   "source": [
    "ColNullTest.plot(kind='bar')"
   ]
  },
  {
   "cell_type": "code",
   "execution_count": 27,
   "metadata": {
    "collapsed": true
   },
   "outputs": [],
   "source": [
    "#看行的情况\n",
    "RowNullTrain = AllTrainData.isnull().sum(axis=1).sort_values()\n",
    "RowNullTest = TestData.isnull().sum(axis=1).sort_values()"
   ]
  },
  {
   "cell_type": "code",
   "execution_count": 28,
   "metadata": {
    "collapsed": true
   },
   "outputs": [],
   "source": [
    "RowNullTrainFrame = RowNullTrain.to_frame().reset_index().rename(index=str,columns={'index':'id',0:'NULLnum'})"
   ]
  },
  {
   "cell_type": "code",
   "execution_count": 29,
   "metadata": {},
   "outputs": [
    {
     "data": {
      "text/plain": [
       "Index(['id', 'NULLnum'], dtype='object')"
      ]
     },
     "execution_count": 29,
     "metadata": {},
     "output_type": "execute_result"
    }
   ],
   "source": [
    "RowNullTrainFrame.columns"
   ]
  },
  {
   "cell_type": "code",
   "execution_count": 30,
   "metadata": {
    "scrolled": true
   },
   "outputs": [
    {
     "data": {
      "text/plain": [
       "<matplotlib.collections.PathCollection at 0x7f7527a76e80>"
      ]
     },
     "execution_count": 30,
     "metadata": {},
     "output_type": "execute_result"
    },
    {
     "data": {
      "image/png": "[encoded data removed]",
      "text/plain": [
       "<matplotlib.figure.Figure at 0x7f7527a204e0>"
      ]
     },
     "metadata": {},
     "output_type": "display_data"
    }
   ],
   "source": [
    "plt.scatter(RowNullTrainFrame.index,RowNullTrainFrame.NULLnum)"
   ]
  },
  {
   "cell_type": "code",
   "execution_count": 31,
   "metadata": {
    "collapsed": true
   },
   "outputs": [],
   "source": [
    "RowNullTestFrame = RowNullTest.to_frame().reset_index().rename(index=str,columns={'index':'id',0:'NULLnum'})"
   ]
  },
  {
   "cell_type": "code",
   "execution_count": 32,
   "metadata": {},
   "outputs": [
    {
     "data": {
      "text/plain": [
       "<matplotlib.collections.PathCollection at 0x7f74e7ca4cc0>"
      ]
     },
     "execution_count": 32,
     "metadata": {},
     "output_type": "execute_result"
    },
    {
     "data": {
      "image/png": "[encoded data removed]",
      "text/plain": [
       "<matplotlib.figure.Figure at 0x7f74e75e5a20>"
      ]
     },
     "metadata": {},
     "output_type": "display_data"
    }
   ],
   "source": [
    "plt.scatter(RowNullTestFrame.index,RowNullTestFrame.NULLnum)"
   ]
  },
  {
   "cell_type": "code",
   "execution_count": 34,
   "metadata": {
    "collapsed": true,
    "scrolled": true
   },
   "outputs": [],
   "source": [
    "AllTrainDataSTD = AllTrainData.std()\n",
    "TestDataSTD = TestData.std()"
   ]
  },
  {
   "cell_type": "code",
   "execution_count": 70,
   "metadata": {},
   "outputs": [
    {
     "data": {
      "text/plain": [
       "{'1_period_trend_SK_DPD',\n",
       " '1_period_trend_SK_DPD_DEF',\n",
       " 'DAYS_DIFF_min',\n",
       " 'NAME_GOODS_CATEGORY_House Construction_sum',\n",
       " 'SK_DPD_DEF_min_max_prevapp',\n",
       " 'SK_DPD_DEF_min_mean_prevapp',\n",
       " 'SK_DPD_DEF_min_min_prevapp',\n",
       " 'SK_DPD_min_max_prevapp',\n",
       " 'SK_DPD_min_mean_prevapp',\n",
       " 'SK_DPD_min_min_prevapp',\n",
       " 'last_1_pos_cash_paid_late_count',\n",
       " 'last_1_pos_cash_paid_late_with_tolerance_count'}"
      ]
     },
     "execution_count": 70,
     "metadata": {},
     "output_type": "execute_result"
    }
   ],
   "source": [
    "tmp1= set(AllTrainDataSTD[AllTrainDataSTD==0].index)\n",
    "tmp1"
   ]
  },
  {
   "cell_type": "code",
   "execution_count": 71,
   "metadata": {},
   "outputs": [
    {
     "data": {
      "text/plain": [
       "{'1_period_trend_SK_DPD',\n",
       " '1_period_trend_SK_DPD_DEF',\n",
       " 'DAYS_DIFF_min',\n",
       " 'NAME_CONTRACT_STATUS_Approved_sum_max',\n",
       " 'NAME_CONTRACT_STATUS_Approved_sum_mean',\n",
       " 'NAME_GOODS_CATEGORY_Animals_sum',\n",
       " 'NAME_INCOME_TYPE_Maternity leave',\n",
       " 'SK_DPD_DEF_min_min_traintest',\n",
       " 'all_installment_SK_DPD_DEF_min',\n",
       " 'last_180_bureau_unusual_currency_mean',\n",
       " 'last_180_bureau_unusual_currency_sum',\n",
       " 'last_1_pos_cash_paid_late_count',\n",
       " 'last_1_pos_cash_paid_late_with_tolerance_count',\n",
       " 'last_360_CNT_CREDIT_PROLONG_min',\n",
       " 'last_50_SK_DPD_DEF_min',\n",
       " 'last_60_CNT_CREDIT_PROLONG_sum',\n",
       " 'last_60_bureau_unusual_currency_sum'}"
      ]
     },
     "execution_count": 71,
     "metadata": {},
     "output_type": "execute_result"
    }
   ],
   "source": [
    "tmp2 = set(TestDataSTD[TestDataSTD==0].index)\n",
    "tmp2"
   ]
  },
  {
   "cell_type": "code",
   "execution_count": 75,
   "metadata": {},
   "outputs": [
    {
     "data": {
      "text/plain": [
       "(294752, 1239)"
      ]
     },
     "execution_count": 75,
     "metadata": {},
     "output_type": "execute_result"
    }
   ],
   "source": [
    "AllTrainData.shape"
   ]
  },
  {
   "cell_type": "code",
   "execution_count": 74,
   "metadata": {
    "collapsed": true
   },
   "outputs": [],
   "source": [
    "AllTrainData.drop(tmp1&tmp2,axis=1,inplace=True)"
   ]
  },
  {
   "cell_type": "code",
   "execution_count": 85,
   "metadata": {},
   "outputs": [
    {
     "data": {
      "text/plain": [
       "1238"
      ]
     },
     "execution_count": 85,
     "metadata": {},
     "output_type": "execute_result"
    }
   ],
   "source": [
    "features = [x for x in AllTrainData.columns if x != 'TARGET' and x != 'SK_ID_CURR']\n",
    "len(features)"
   ]
  },
  {
   "cell_type": "code",
   "execution_count": 34,
   "metadata": {
    "collapsed": true
   },
   "outputs": [],
   "source": [
    "def modelfit(alg, dtrain, dtest, predictors, useTrainCV=False, cv_folds=5, \n",
    "             early_stopping_rounds=50):\n",
    "    if useTrainCV:\n",
    "        xgb_param = alg.get_xgb_params()\n",
    "        xgtrain = xgb.DMatrix(dtrain[predictors].values, label=dtrain['TARGET'].values)\n",
    "        xgtest = xgb.DMatrix(dtest[predictors].values)\n",
    "        cvresult = xgb.cv(xgb_param, xgtrain, num_boost_round=\n",
    "                          alg.get_params()['n_estimators'], nfold=cv_folds,\n",
    "             early_stopping_rounds=early_stopping_rounds)\n",
    "        print(cvresult.shape[0])\n",
    "        for i in cvresult:\n",
    "            print(i)\n",
    "        alg.set_params(n_estimators=cvresult.shape[0])\n",
    "    #建模\n",
    "    alg.fit(dtrain[predictors], dtrain['TARGET'],eval_metric='auc')\n",
    "    #对训练集预测\n",
    "    dtrain_predictions = alg.predict(dtrain[predictors])\n",
    "    dtrain_predprob = alg.predict_proba(dtrain[predictors])[:,1]\n",
    "    #对测试集预测\n",
    "    dtest_predictions = alg.predict(dtest[predictors])\n",
    "    dtest_predprob = alg.predict_proba(dtest[predictors])[:,1]\n",
    "    #输出模型的一些结果\n",
    "    print(\"\\n关于现在这个模型\")\n",
    "    print (\"训练准确率 : %.4g\" % metrics.accuracy_score(\n",
    "        dtrain['TARGET'].values, dtrain_predictions))\n",
    "    print (\"测试准确率 : %.4g\" % metrics.accuracy_score(\n",
    "        dtest['TARGET'].values, dtest_predictions))\n",
    "    print (\"训练AUC 得分 (训练集): %f\" % metrics.roc_auc_score(dtrain['TARGET'],\n",
    "                                                     dtrain_predprob))\n",
    "    print (\"测试AUC 得分 (验证集): %f\" % metrics.roc_auc_score(dtest['TARGET'],\n",
    "                                                     dtest_predprob))\n",
    "    feat_imp = pd.Series(alg.get_booster().get_fscore()).sort_values(ascending=False)\n",
    "    feat_imp[:20].plot(kind='bar', title='Feature Importances')\n",
    "    plt.ylabel('Feature Importance Score')\n",
    "    return alg"
   ]
  },
  {
   "cell_type": "markdown",
   "metadata": {},
   "source": [
    "## 随便试一下\n",
    "这个随手一试的验证集在线上的roc达到了0.762"
   ]
  },
  {
   "cell_type": "code",
   "execution_count": 15,
   "metadata": {},
   "outputs": [
    {
     "name": "stdout",
     "output_type": "stream",
     "text": [
      "\n",
      "关于现在这个模型\n",
      "训练准确率 : 0.784\n",
      "测试准确率 : 0.7684\n",
      "训练AUC 得分 (训练集): 0.844112\n",
      "测试AUC 得分 (验证集): 0.778250\n"
     ]
    },
    {
     "data": {
      "image/png": "[encoded data removed]",
      "text/plain": [
       "<Figure size 432x288 with 1 Axes>"
      ]
     },
     "metadata": {},
     "output_type": "display_data"
    }
   ],
   "source": [
    "xgb1 = XGBClassifier(\n",
    "        learning_rate =0.1,\n",
    "        n_estimators=200,\n",
    "        max_depth=5,\n",
    "        min_child_weight=1,\n",
    "        gamma=0,\n",
    "        subsample=0.6,\n",
    "        colsample_bytree=0.9,\n",
    "        objective= 'binary:logistic',\n",
    "        nthread= -1,\n",
    "        gpu_id = 0,\n",
    "        tree_method = 'gpu_hist',\n",
    "        scale_pos_weight=10,\n",
    "        early_stopping_rounds=20,\n",
    "        seed=27)\n",
    "xgb1 = modelfit(xgb1, TrainData, ValData, predictors)"
   ]
  },
  {
   "cell_type": "markdown",
   "metadata": {},
   "source": [
    "## 结果提交"
   ]
  },
  {
   "cell_type": "code",
   "execution_count": 32,
   "metadata": {
    "collapsed": true
   },
   "outputs": [],
   "source": [
    "Testsubmission = loadData('test.csv')\n",
    "TestID = Testsubmission.SK_ID_CURR.values\n",
    "Testsub_predprob = xgb1.predict_proba(Testsubmission[predictors])[:,1]\n",
    "gender_submission = pd.DataFrame({'SK_ID_CURR':TestID,'TARGET':Testsub_predprob})\n",
    "gender_submission.to_csv('result_xgb.csv', index = False)"
   ]
  },
  {
   "cell_type": "markdown",
   "metadata": {
    "collapsed": true
   },
   "source": [
    "### 1.搜索learning_rate"
   ]
  },
  {
   "cell_type": "code",
   "execution_count": 23,
   "metadata": {
    "scrolled": false
   },
   "outputs": [
    {
     "name": "stdout",
     "output_type": "stream",
     "text": [
      "Fitting 3 folds for each of 10 candidates, totalling 30 fits\n",
      "[CV] learning_rate=0.001 .............................................\n",
      "[CV] learning_rate=0.001 .............................................\n",
      "[CV] learning_rate=0.001 .............................................\n",
      "[CV] learning_rate=0.023111111111111114 ..............................\n",
      "[CV] learning_rate=0.023111111111111114 ..............................\n",
      "[CV] learning_rate=0.023111111111111114 ..............................\n",
      "[CV] learning_rate=0.045222222222222226 ..............................\n",
      "[CV] learning_rate=0.045222222222222226 ..............................\n",
      "[CV] learning_rate=0.045222222222222226 ..............................\n",
      "[CV] learning_rate=0.06733333333333334 ...............................\n",
      "[CV] learning_rate=0.06733333333333334 ...............................\n",
      "[CV] learning_rate=0.06733333333333334 ...............................\n",
      "[CV] learning_rate=0.08944444444444445 ...............................\n",
      "[CV] learning_rate=0.08944444444444445 ...............................\n",
      "[CV] learning_rate=0.08944444444444445 ...............................\n",
      "[CV] learning_rate=0.11155555555555556 ...............................\n",
      "[CV] learning_rate=0.11155555555555556 ...............................\n",
      "[CV] learning_rate=0.11155555555555556 ...............................\n",
      "[CV] learning_rate=0.13366666666666668 ...............................\n",
      "[CV] learning_rate=0.13366666666666668 ...............................\n",
      "[CV] learning_rate=0.13366666666666668 ...............................\n",
      "[CV] learning_rate=0.1557777777777778 ................................\n",
      "[CV] learning_rate=0.1557777777777778 ................................\n",
      "[CV] learning_rate=0.1557777777777778 ................................\n"
     ]
    },
    {
     "name": "stderr",
     "output_type": "stream",
     "text": [
      "Process ForkPoolWorker-31:\n",
      "Process ForkPoolWorker-30:\n",
      "Process ForkPoolWorker-28:\n",
      "Process ForkPoolWorker-27:\n",
      "Process ForkPoolWorker-36:\n",
      "Process ForkPoolWorker-29:\n",
      "Process ForkPoolWorker-34:\n",
      "Process ForkPoolWorker-33:\n",
      "Process ForkPoolWorker-25:\n",
      "Process ForkPoolWorker-32:\n",
      "Process ForkPoolWorker-26:\n",
      "Process ForkPoolWorker-35:\n"
     ]
    },
    {
     "ename": "KeyboardInterrupt",
     "evalue": "",
     "output_type": "error",
     "traceback": [
      "\u001b[0;31m---------------------------------------------------------------------------\u001b[0m",
      "\u001b[0;31mKeyboardInterrupt\u001b[0m                         Traceback (most recent call last)",
      "\u001b[0;32m<ipython-input-23-aab5238e002d>\u001b[0m in \u001b[0;36m<module>\u001b[0;34m()\u001b[0m\n\u001b[1;32m      8\u001b[0m                         \u001b[0mparam_grid\u001b[0m \u001b[0;34m=\u001b[0m \u001b[0mparam_test1\u001b[0m\u001b[0;34m,\u001b[0m \u001b[0mscoring\u001b[0m\u001b[0;34m=\u001b[0m\u001b[0;34m'roc_auc'\u001b[0m\u001b[0;34m,\u001b[0m\u001b[0;34m\u001b[0m\u001b[0m\n\u001b[1;32m      9\u001b[0m                         n_jobs=-1,iid=False,verbose=10)#默认使用三折StratifiedKFold解决样本不均衡的问题\n\u001b[0;32m---> 10\u001b[0;31m \u001b[0mgsearch1\u001b[0m\u001b[0;34m.\u001b[0m\u001b[0mfit\u001b[0m\u001b[0;34m(\u001b[0m\u001b[0mValData\u001b[0m\u001b[0;34m[\u001b[0m\u001b[0mfeatures\u001b[0m\u001b[0;34m]\u001b[0m\u001b[0;34m,\u001b[0m\u001b[0mValData\u001b[0m\u001b[0;34m[\u001b[0m\u001b[0;34m'TARGET'\u001b[0m\u001b[0;34m]\u001b[0m\u001b[0;34m)\u001b[0m\u001b[0;34m\u001b[0m\u001b[0m\n\u001b[0m\u001b[1;32m     11\u001b[0m \u001b[0mprint\u001b[0m\u001b[0;34m(\u001b[0m\u001b[0;34m'搜索耗时%f s'\u001b[0m\u001b[0;34m%\u001b[0m\u001b[0;34m(\u001b[0m\u001b[0mtime\u001b[0m\u001b[0;34m.\u001b[0m\u001b[0mtime\u001b[0m\u001b[0;34m(\u001b[0m\u001b[0;34m)\u001b[0m\u001b[0;34m-\u001b[0m\u001b[0mt0\u001b[0m\u001b[0;34m)\u001b[0m\u001b[0;34m)\u001b[0m\u001b[0;34m\u001b[0m\u001b[0m\n",
      "\u001b[0;32m/usr/share/anaconda2/envs/py3/lib/python3.5/site-packages/sklearn/model_selection/_search.py\u001b[0m in \u001b[0;36mfit\u001b[0;34m(self, X, y, groups, **fit_params)\u001b[0m\n\u001b[1;32m    636\u001b[0m                                   error_score=self.error_score)\n\u001b[1;32m    637\u001b[0m           for parameters, (train, test) in product(candidate_params,\n\u001b[0;32m--> 638\u001b[0;31m                                                    cv.split(X, y, groups)))\n\u001b[0m\u001b[1;32m    639\u001b[0m \u001b[0;34m\u001b[0m\u001b[0m\n\u001b[1;32m    640\u001b[0m         \u001b[0;31m# if one choose to see train score, \"out\" will contain train score info\u001b[0m\u001b[0;34m\u001b[0m\u001b[0;34m\u001b[0m\u001b[0m\n",
      "\u001b[0;32m/usr/share/anaconda2/envs/py3/lib/python3.5/site-packages/sklearn/externals/joblib/parallel.py\u001b[0m in \u001b[0;36m__call__\u001b[0;34m(self, iterable)\u001b[0m\n\u001b[1;32m    787\u001b[0m                 \u001b[0;31m# consumption.\u001b[0m\u001b[0;34m\u001b[0m\u001b[0;34m\u001b[0m\u001b[0m\n\u001b[1;32m    788\u001b[0m                 \u001b[0mself\u001b[0m\u001b[0;34m.\u001b[0m\u001b[0m_iterating\u001b[0m \u001b[0;34m=\u001b[0m \u001b[0;32mFalse\u001b[0m\u001b[0;34m\u001b[0m\u001b[0m\n\u001b[0;32m--> 789\u001b[0;31m             \u001b[0mself\u001b[0m\u001b[0;34m.\u001b[0m\u001b[0mretrieve\u001b[0m\u001b[0;34m(\u001b[0m\u001b[0;34m)\u001b[0m\u001b[0;34m\u001b[0m\u001b[0m\n\u001b[0m\u001b[1;32m    790\u001b[0m             \u001b[0;31m# Make sure that we get a last message telling us we are done\u001b[0m\u001b[0;34m\u001b[0m\u001b[0;34m\u001b[0m\u001b[0m\n\u001b[1;32m    791\u001b[0m             \u001b[0melapsed_time\u001b[0m \u001b[0;34m=\u001b[0m \u001b[0mtime\u001b[0m\u001b[0;34m.\u001b[0m\u001b[0mtime\u001b[0m\u001b[0;34m(\u001b[0m\u001b[0;34m)\u001b[0m \u001b[0;34m-\u001b[0m \u001b[0mself\u001b[0m\u001b[0;34m.\u001b[0m\u001b[0m_start_time\u001b[0m\u001b[0;34m\u001b[0m\u001b[0m\n",
      "\u001b[0;32m/usr/share/anaconda2/envs/py3/lib/python3.5/site-packages/sklearn/externals/joblib/parallel.py\u001b[0m in \u001b[0;36mretrieve\u001b[0;34m(self)\u001b[0m\n\u001b[1;32m    697\u001b[0m             \u001b[0;32mtry\u001b[0m\u001b[0;34m:\u001b[0m\u001b[0;34m\u001b[0m\u001b[0m\n\u001b[1;32m    698\u001b[0m                 \u001b[0;32mif\u001b[0m \u001b[0mgetattr\u001b[0m\u001b[0;34m(\u001b[0m\u001b[0mself\u001b[0m\u001b[0;34m.\u001b[0m\u001b[0m_backend\u001b[0m\u001b[0;34m,\u001b[0m \u001b[0;34m'supports_timeout'\u001b[0m\u001b[0;34m,\u001b[0m \u001b[0;32mFalse\u001b[0m\u001b[0;34m)\u001b[0m\u001b[0;34m:\u001b[0m\u001b[0;34m\u001b[0m\u001b[0m\n\u001b[0;32m--> 699\u001b[0;31m                     \u001b[0mself\u001b[0m\u001b[0;34m.\u001b[0m\u001b[0m_output\u001b[0m\u001b[0;34m.\u001b[0m\u001b[0mextend\u001b[0m\u001b[0;34m(\u001b[0m\u001b[0mjob\u001b[0m\u001b[0;34m.\u001b[0m\u001b[0mget\u001b[0m\u001b[0;34m(\u001b[0m\u001b[0mtimeout\u001b[0m\u001b[0;34m=\u001b[0m\u001b[0mself\u001b[0m\u001b[0;34m.\u001b[0m\u001b[0mtimeout\u001b[0m\u001b[0;34m)\u001b[0m\u001b[0;34m)\u001b[0m\u001b[0;34m\u001b[0m\u001b[0m\n\u001b[0m\u001b[1;32m    700\u001b[0m                 \u001b[0;32melse\u001b[0m\u001b[0;34m:\u001b[0m\u001b[0;34m\u001b[0m\u001b[0m\n\u001b[1;32m    701\u001b[0m                     \u001b[0mself\u001b[0m\u001b[0;34m.\u001b[0m\u001b[0m_output\u001b[0m\u001b[0;34m.\u001b[0m\u001b[0mextend\u001b[0m\u001b[0;34m(\u001b[0m\u001b[0mjob\u001b[0m\u001b[0;34m.\u001b[0m\u001b[0mget\u001b[0m\u001b[0;34m(\u001b[0m\u001b[0;34m)\u001b[0m\u001b[0;34m)\u001b[0m\u001b[0;34m\u001b[0m\u001b[0m\n",
      "\u001b[0;32m/usr/share/anaconda2/envs/py3/lib/python3.5/multiprocessing/pool.py\u001b[0m in \u001b[0;36mget\u001b[0;34m(self, timeout)\u001b[0m\n\u001b[1;32m    636\u001b[0m \u001b[0;34m\u001b[0m\u001b[0m\n\u001b[1;32m    637\u001b[0m     \u001b[0;32mdef\u001b[0m \u001b[0mget\u001b[0m\u001b[0;34m(\u001b[0m\u001b[0mself\u001b[0m\u001b[0;34m,\u001b[0m \u001b[0mtimeout\u001b[0m\u001b[0;34m=\u001b[0m\u001b[0;32mNone\u001b[0m\u001b[0;34m)\u001b[0m\u001b[0;34m:\u001b[0m\u001b[0;34m\u001b[0m\u001b[0m\n\u001b[0;32m--> 638\u001b[0;31m         \u001b[0mself\u001b[0m\u001b[0;34m.\u001b[0m\u001b[0mwait\u001b[0m\u001b[0;34m(\u001b[0m\u001b[0mtimeout\u001b[0m\u001b[0;34m)\u001b[0m\u001b[0;34m\u001b[0m\u001b[0m\n\u001b[0m\u001b[1;32m    639\u001b[0m         \u001b[0;32mif\u001b[0m \u001b[0;32mnot\u001b[0m \u001b[0mself\u001b[0m\u001b[0;34m.\u001b[0m\u001b[0mready\u001b[0m\u001b[0;34m(\u001b[0m\u001b[0;34m)\u001b[0m\u001b[0;34m:\u001b[0m\u001b[0;34m\u001b[0m\u001b[0m\n\u001b[1;32m    640\u001b[0m             \u001b[0;32mraise\u001b[0m \u001b[0mTimeoutError\u001b[0m\u001b[0;34m\u001b[0m\u001b[0m\n",
      "\u001b[0;32m/usr/share/anaconda2/envs/py3/lib/python3.5/multiprocessing/pool.py\u001b[0m in \u001b[0;36mwait\u001b[0;34m(self, timeout)\u001b[0m\n\u001b[1;32m    633\u001b[0m \u001b[0;34m\u001b[0m\u001b[0m\n\u001b[1;32m    634\u001b[0m     \u001b[0;32mdef\u001b[0m \u001b[0mwait\u001b[0m\u001b[0;34m(\u001b[0m\u001b[0mself\u001b[0m\u001b[0;34m,\u001b[0m \u001b[0mtimeout\u001b[0m\u001b[0;34m=\u001b[0m\u001b[0;32mNone\u001b[0m\u001b[0;34m)\u001b[0m\u001b[0;34m:\u001b[0m\u001b[0;34m\u001b[0m\u001b[0m\n\u001b[0;32m--> 635\u001b[0;31m         \u001b[0mself\u001b[0m\u001b[0;34m.\u001b[0m\u001b[0m_event\u001b[0m\u001b[0;34m.\u001b[0m\u001b[0mwait\u001b[0m\u001b[0;34m(\u001b[0m\u001b[0mtimeout\u001b[0m\u001b[0;34m)\u001b[0m\u001b[0;34m\u001b[0m\u001b[0m\n\u001b[0m\u001b[1;32m    636\u001b[0m \u001b[0;34m\u001b[0m\u001b[0m\n\u001b[1;32m    637\u001b[0m     \u001b[0;32mdef\u001b[0m \u001b[0mget\u001b[0m\u001b[0;34m(\u001b[0m\u001b[0mself\u001b[0m\u001b[0;34m,\u001b[0m \u001b[0mtimeout\u001b[0m\u001b[0;34m=\u001b[0m\u001b[0;32mNone\u001b[0m\u001b[0;34m)\u001b[0m\u001b[0;34m:\u001b[0m\u001b[0;34m\u001b[0m\u001b[0m\n",
      "\u001b[0;32m/usr/share/anaconda2/envs/py3/lib/python3.5/threading.py\u001b[0m in \u001b[0;36mwait\u001b[0;34m(self, timeout)\u001b[0m\n\u001b[1;32m    547\u001b[0m             \u001b[0msignaled\u001b[0m \u001b[0;34m=\u001b[0m \u001b[0mself\u001b[0m\u001b[0;34m.\u001b[0m\u001b[0m_flag\u001b[0m\u001b[0;34m\u001b[0m\u001b[0m\n\u001b[1;32m    548\u001b[0m             \u001b[0;32mif\u001b[0m \u001b[0;32mnot\u001b[0m \u001b[0msignaled\u001b[0m\u001b[0;34m:\u001b[0m\u001b[0;34m\u001b[0m\u001b[0m\n\u001b[0;32m--> 549\u001b[0;31m                 \u001b[0msignaled\u001b[0m \u001b[0;34m=\u001b[0m \u001b[0mself\u001b[0m\u001b[0;34m.\u001b[0m\u001b[0m_cond\u001b[0m\u001b[0;34m.\u001b[0m\u001b[0mwait\u001b[0m\u001b[0;34m(\u001b[0m\u001b[0mtimeout\u001b[0m\u001b[0;34m)\u001b[0m\u001b[0;34m\u001b[0m\u001b[0m\n\u001b[0m\u001b[1;32m    550\u001b[0m             \u001b[0;32mreturn\u001b[0m \u001b[0msignaled\u001b[0m\u001b[0;34m\u001b[0m\u001b[0m\n\u001b[1;32m    551\u001b[0m \u001b[0;34m\u001b[0m\u001b[0m\n",
      "\u001b[0;32m/usr/share/anaconda2/envs/py3/lib/python3.5/threading.py\u001b[0m in \u001b[0;36mwait\u001b[0;34m(self, timeout)\u001b[0m\n\u001b[1;32m    291\u001b[0m         \u001b[0;32mtry\u001b[0m\u001b[0;34m:\u001b[0m    \u001b[0;31m# restore state no matter what (e.g., KeyboardInterrupt)\u001b[0m\u001b[0;34m\u001b[0m\u001b[0m\n\u001b[1;32m    292\u001b[0m             \u001b[0;32mif\u001b[0m \u001b[0mtimeout\u001b[0m \u001b[0;32mis\u001b[0m \u001b[0;32mNone\u001b[0m\u001b[0;34m:\u001b[0m\u001b[0;34m\u001b[0m\u001b[0m\n\u001b[0;32m--> 293\u001b[0;31m                 \u001b[0mwaiter\u001b[0m\u001b[0;34m.\u001b[0m\u001b[0macquire\u001b[0m\u001b[0;34m(\u001b[0m\u001b[0;34m)\u001b[0m\u001b[0;34m\u001b[0m\u001b[0m\n\u001b[0m\u001b[1;32m    294\u001b[0m                 \u001b[0mgotit\u001b[0m \u001b[0;34m=\u001b[0m \u001b[0;32mTrue\u001b[0m\u001b[0;34m\u001b[0m\u001b[0m\n\u001b[1;32m    295\u001b[0m             \u001b[0;32melse\u001b[0m\u001b[0;34m:\u001b[0m\u001b[0;34m\u001b[0m\u001b[0m\n",
      "\u001b[0;31mKeyboardInterrupt\u001b[0m: "
     ]
    }
   ],
   "source": [
    "#对learning_rate用grid search查找最好的参数\n",
    "t0 = time.time()\n",
    "param_test1 = {'learning_rate':np.linspace(0.001,0.2,10)}\n",
    "clf = XGBClassifier(learning_rate =0.01, n_estimators=1000, max_depth=4 , \n",
    "                        min_child_weight=5, subsample=0.8, colsample_bytree=0.8, objective= 'binary:logistic', \n",
    "                       nthread=-1, scale_pos_weight=1, seed=27, reg_lambda = 1.2, gamma=0, gpu_id = 0,tree_method = 'gpu_hist')\n",
    "gsearch1 = GridSearchCV(estimator = clf, \n",
    "                        param_grid = param_test1, scoring='roc_auc',\n",
    "                        n_jobs=-1,iid=False,verbose=10)#默认使用三折StratifiedKFold解决样本不均衡的问题\n",
    "gsearch1.fit(df_[features],ValData['TARGET'])\n",
    "print('搜索耗时%f s'%(time.time()-t0))"
   ]
  },
  {
   "cell_type": "code",
   "execution_count": 16,
   "metadata": {},
   "outputs": [
    {
     "name": "stdout",
     "output_type": "stream",
     "text": [
      "mean: 0.72621, std: 0.00148, params: {'learning_rate': 0.001}\n",
      "mean: 0.75850, std: 0.00205, params: {'learning_rate': 0.023111111111111114}\n",
      "mean: 0.76834, std: 0.00184, params: {'learning_rate': 0.045222222222222226}\n",
      "mean: 0.77126, std: 0.00265, params: {'learning_rate': 0.06733333333333334}\n",
      "mean: 0.77253, std: 0.00263, params: {'learning_rate': 0.08944444444444445}\n",
      "mean: 0.77191, std: 0.00237, params: {'learning_rate': 0.11155555555555556}\n",
      "mean: 0.77139, std: 0.00223, params: {'learning_rate': 0.13366666666666668}\n",
      "mean: 0.76862, std: 0.00157, params: {'learning_rate': 0.1557777777777778}\n",
      "mean: 0.76740, std: 0.00248, params: {'learning_rate': 0.1778888888888889}\n",
      "mean: 0.76493, std: 0.00155, params: {'learning_rate': 0.2}\n",
      "{'learning_rate': 0.08944444444444445}\n",
      "0.7725270336719353\n"
     ]
    }
   ],
   "source": [
    "for i in gsearch1.grid_scores_:\n",
    "    print(i) \n",
    "print(gsearch1.best_params_)\n",
    "print(gsearch1.best_score_)"
   ]
  },
  {
   "cell_type": "markdown",
   "metadata": {},
   "source": [
    "## 2. 搜索 n_estimators"
   ]
  },
  {
   "cell_type": "code",
   "execution_count": 15,
   "metadata": {
    "scrolled": true
   },
   "outputs": [
    {
     "name": "stdout",
     "output_type": "stream",
     "text": [
      "Fitting 3 folds for each of 6 candidates, totalling 18 fits\n",
      "[CV] n_estimators=100 ................................................\n",
      "[CV] n_estimators=100 ................................................\n",
      "[CV] n_estimators=100 ................................................\n",
      "[CV] n_estimators=200 ................................................\n",
      "[CV] n_estimators=200 ................................................\n",
      "[CV] n_estimators=200 ................................................\n",
      "[CV] n_estimators=300 ................................................\n",
      "[CV] n_estimators=300 ................................................\n",
      "[CV] ....... n_estimators=100, score=0.7658831364704137, total= 4.2min\n",
      "[CV] n_estimators=300 ................................................\n",
      "[CV] ....... n_estimators=100, score=0.7720692711112049, total= 4.3min\n",
      "[CV] n_estimators=400 ................................................\n"
     ]
    },
    {
     "name": "stderr",
     "output_type": "stream",
     "text": [
      "[Parallel(n_jobs=-1)]: Done   2 tasks      | elapsed:  4.4min\n"
     ]
    },
    {
     "name": "stdout",
     "output_type": "stream",
     "text": [
      "[CV] ....... n_estimators=100, score=0.7717769089299386, total= 4.4min\n",
      "[CV] n_estimators=400 ................................................\n",
      "[CV] ....... n_estimators=200, score=0.7752096392575916, total= 8.2min\n",
      "[CV] n_estimators=400 ................................................\n",
      "[CV] ....... n_estimators=200, score=0.7691542337261386, total= 8.2min\n",
      "[CV] n_estimators=500 ................................................\n"
     ]
    },
    {
     "name": "stderr",
     "output_type": "stream",
     "text": [
      "[Parallel(n_jobs=-1)]: Done   5 out of  18 | elapsed:  8.3min remaining: 21.7min\n"
     ]
    },
    {
     "name": "stdout",
     "output_type": "stream",
     "text": [
      "[CV] ....... n_estimators=200, score=0.7746042978607441, total= 8.3min\n",
      "[CV] n_estimators=500 ................................................\n",
      "[CV] ....... n_estimators=300, score=0.7695947289567895, total=12.0min\n",
      "[CV] n_estimators=500 ................................................\n"
     ]
    },
    {
     "name": "stderr",
     "output_type": "stream",
     "text": [
      "[Parallel(n_jobs=-1)]: Done   7 out of  18 | elapsed: 12.2min remaining: 19.1min\n"
     ]
    },
    {
     "name": "stdout",
     "output_type": "stream",
     "text": [
      "[CV] ........ n_estimators=300, score=0.774187786158629, total=12.1min\n",
      "[CV] n_estimators=600 ................................................\n",
      "[CV] ....... n_estimators=300, score=0.7731540805211297, total=12.1min\n",
      "[CV] n_estimators=600 ................................................\n"
     ]
    },
    {
     "name": "stderr",
     "output_type": "stream",
     "text": [
      "[Parallel(n_jobs=-1)]: Done   9 out of  18 | elapsed: 16.4min remaining: 16.4min\n"
     ]
    },
    {
     "name": "stdout",
     "output_type": "stream",
     "text": [
      "[CV] ....... n_estimators=400, score=0.7684113155117458, total=15.8min\n",
      "[CV] n_estimators=600 ................................................\n",
      "[CV] ....... n_estimators=400, score=0.7722216995700042, total=15.8min\n"
     ]
    },
    {
     "name": "stderr",
     "output_type": "stream",
     "text": [
      "[Parallel(n_jobs=-1)]: Done  11 out of  18 | elapsed: 20.3min remaining: 12.9min\n"
     ]
    },
    {
     "name": "stdout",
     "output_type": "stream",
     "text": [
      "[CV] ....... n_estimators=400, score=0.7708943787461713, total=15.3min\n",
      "[CV] ....... n_estimators=500, score=0.7662995802461414, total=18.1min\n"
     ]
    },
    {
     "name": "stderr",
     "output_type": "stream",
     "text": [
      "[Parallel(n_jobs=-1)]: Done  13 out of  18 | elapsed: 26.5min remaining: 10.2min\n"
     ]
    },
    {
     "name": "stdout",
     "output_type": "stream",
     "text": [
      "[CV] ........ n_estimators=500, score=0.770586639132155, total=18.0min\n",
      "[CV] ....... n_estimators=500, score=0.7687507931338964, total=16.2min\n"
     ]
    },
    {
     "name": "stderr",
     "output_type": "stream",
     "text": [
      "[Parallel(n_jobs=-1)]: Done  15 out of  18 | elapsed: 28.4min remaining:  5.7min\n"
     ]
    },
    {
     "name": "stdout",
     "output_type": "stream",
     "text": [
      "[CV] ....... n_estimators=600, score=0.7646049661515264, total=17.6min\n",
      "[CV] ........ n_estimators=600, score=0.769008098639991, total=14.5min\n",
      "[CV] ....... n_estimators=600, score=0.7659637776481978, total=11.0min\n"
     ]
    },
    {
     "name": "stderr",
     "output_type": "stream",
     "text": [
      "[Parallel(n_jobs=-1)]: Done  18 out of  18 | elapsed: 31.3min finished\n"
     ]
    },
    {
     "ename": "NameError",
     "evalue": "name 't0' is not defined",
     "output_type": "error",
     "traceback": [
      "\u001b[0;31m---------------------------------------------------------------------------\u001b[0m",
      "\u001b[0;31mNameError\u001b[0m                                 Traceback (most recent call last)",
      "\u001b[0;32m<ipython-input-15-64e192cd24a1>\u001b[0m in \u001b[0;36m<module>\u001b[0;34m()\u001b[0m\n\u001b[1;32m     12\u001b[0m                         ,n_jobs=-1,iid=False, cv=StratifiedKFold(),verbose=10)#默认使用三折StratifiedKFold解决样本不均衡的问题\n\u001b[1;32m     13\u001b[0m \u001b[0mgsearch1\u001b[0m\u001b[0;34m.\u001b[0m\u001b[0mfit\u001b[0m\u001b[0;34m(\u001b[0m\u001b[0mTrainData\u001b[0m\u001b[0;34m[\u001b[0m\u001b[0mpredictors\u001b[0m\u001b[0;34m]\u001b[0m\u001b[0;34m,\u001b[0m\u001b[0mTrainData\u001b[0m\u001b[0;34m[\u001b[0m\u001b[0;34m'TARGET'\u001b[0m\u001b[0;34m]\u001b[0m\u001b[0;34m)\u001b[0m\u001b[0;34m\u001b[0m\u001b[0m\n\u001b[0;32m---> 14\u001b[0;31m \u001b[0mprint\u001b[0m\u001b[0;34m(\u001b[0m\u001b[0;34m'搜索耗时%f s'\u001b[0m\u001b[0;34m%\u001b[0m\u001b[0;34m(\u001b[0m\u001b[0mtime\u001b[0m\u001b[0;34m.\u001b[0m\u001b[0mtime\u001b[0m\u001b[0;34m(\u001b[0m\u001b[0;34m)\u001b[0m\u001b[0;34m-\u001b[0m\u001b[0mt0\u001b[0m\u001b[0;34m)\u001b[0m\u001b[0;34m)\u001b[0m\u001b[0;34m\u001b[0m\u001b[0m\n\u001b[0m",
      "\u001b[0;31mNameError\u001b[0m: name 't0' is not defined"
     ]
    }
   ],
   "source": [
    "#对learning_rate用grid search查找最好的参数\n",
    "t0 = time.time()\n",
    "param_test1 = {'n_estimators':np.arange(100,601,100)}\n",
    "gsearch1 = GridSearchCV(estimator = XGBClassifier(learning_rate = 0.08944444444444445, n_estimators=140,\n",
    "                                                  max_depth=5,min_child_weight=1,\n",
    "                                                  gamma=0, subsample=0.8,\n",
    "                                                  colsample_bytree=0.8,\n",
    "                                                  objective= 'binary:logistic',\n",
    "                                                  gpu_id = 0,\n",
    "                                                  tree_method = 'gpu_hist',\n",
    "                                                  nthread= -1, scale_pos_weight=12), \n",
    "                        param_grid = param_test1, scoring='roc_auc'\n",
    "                        ,n_jobs=-1,iid=False, cv=StratifiedKFold(),verbose=10)#默认使用三折StratifiedKFold解决样本不均衡的问题\n",
    "gsearch1.fit(TrainData[predictors],TrainData['TARGET'])\n",
    "print('搜索耗时%f s'%(time.time()-t0))"
   ]
  },
  {
   "cell_type": "code",
   "execution_count": 16,
   "metadata": {},
   "outputs": [
    {
     "name": "stdout",
     "output_type": "stream",
     "text": [
      "mean: 0.76991, std: 0.00285, params: {'n_estimators': 100}\n",
      "mean: 0.77299, std: 0.00272, params: {'n_estimators': 200}\n",
      "mean: 0.77231, std: 0.00197, params: {'n_estimators': 300}\n",
      "mean: 0.77051, std: 0.00158, params: {'n_estimators': 400}\n",
      "mean: 0.76855, std: 0.00176, params: {'n_estimators': 500}\n",
      "mean: 0.76653, std: 0.00184, params: {'n_estimators': 600}\n",
      "{'n_estimators': 200}\n",
      "0.7729893902814915\n"
     ]
    }
   ],
   "source": [
    "for i in gsearch1.grid_scores_:\n",
    "    print(i) \n",
    "print(gsearch1.best_params_)\n",
    "print(gsearch1.best_score_)"
   ]
  },
  {
   "cell_type": "markdown",
   "metadata": {},
   "source": [
    "### 3. max_depth和min_child_weight"
   ]
  },
  {
   "cell_type": "code",
   "execution_count": 16,
   "metadata": {
    "scrolled": true
   },
   "outputs": [
    {
     "name": "stdout",
     "output_type": "stream",
     "text": [
      "Fitting 3 folds for each of 12 candidates, totalling 36 fits\n",
      "[CV] min_child_weight=1, max_depth=3 .................................\n",
      "[CV] min_child_weight=1, max_depth=3 .................................\n",
      "[CV] min_child_weight=1, max_depth=3 .................................\n",
      "[CV] min_child_weight=3, max_depth=3 .................................\n",
      "[CV] min_child_weight=3, max_depth=3 .................................\n",
      "[CV] min_child_weight=3, max_depth=3 .................................\n",
      "[CV] min_child_weight=5, max_depth=3 .................................\n",
      "[CV] min_child_weight=5, max_depth=3 .................................\n",
      "[CV]  min_child_weight=1, max_depth=3, score=0.772402599009216, total= 6.4min\n",
      "[CV] min_child_weight=5, max_depth=3 .................................\n",
      "[CV]  min_child_weight=1, max_depth=3, score=0.7718250135994211, total= 6.6min\n",
      "[CV] min_child_weight=1, max_depth=5 .................................\n"
     ]
    },
    {
     "name": "stderr",
     "output_type": "stream",
     "text": [
      "[Parallel(n_jobs=-1)]: Done   2 tasks      | elapsed:  6.7min\n"
     ]
    },
    {
     "name": "stdout",
     "output_type": "stream",
     "text": [
      "[CV]  min_child_weight=1, max_depth=3, score=0.7722518527838016, total= 6.6min\n",
      "[CV] min_child_weight=1, max_depth=5 .................................\n",
      "[CV]  min_child_weight=3, max_depth=3, score=0.7727400490819161, total= 6.7min\n",
      "[CV] min_child_weight=1, max_depth=5 .................................\n",
      "[CV]  min_child_weight=3, max_depth=3, score=0.7723932906355246, total= 6.7min\n",
      "[CV] min_child_weight=3, max_depth=5 .................................\n",
      "[CV]  min_child_weight=5, max_depth=3, score=0.7724101575895475, total= 6.7min\n",
      "[CV] min_child_weight=3, max_depth=5 .................................\n",
      "[CV]  min_child_weight=3, max_depth=3, score=0.7717756977789028, total= 6.7min\n",
      "[CV] min_child_weight=3, max_depth=5 .................................\n",
      "[CV]  min_child_weight=5, max_depth=3, score=0.772115326241084, total= 6.7min\n",
      "[CV] min_child_weight=5, max_depth=5 .................................\n",
      "[CV]  min_child_weight=5, max_depth=3, score=0.7723432253662552, total= 5.9min\n",
      "[CV] min_child_weight=5, max_depth=5 .................................\n"
     ]
    },
    {
     "name": "stderr",
     "output_type": "stream",
     "text": [
      "[Parallel(n_jobs=-1)]: Done   9 tasks      | elapsed: 12.5min\n"
     ]
    },
    {
     "name": "stdout",
     "output_type": "stream",
     "text": [
      "[CV]  min_child_weight=1, max_depth=5, score=0.7736846466967335, total= 8.6min\n",
      "[CV] min_child_weight=5, max_depth=5 .................................\n",
      "[CV]  min_child_weight=1, max_depth=5, score=0.770786898901294, total= 8.6min\n",
      "[CV] min_child_weight=1, max_depth=7 .................................\n",
      "[CV]  min_child_weight=1, max_depth=5, score=0.7748534679894716, total= 8.6min\n",
      "[CV] min_child_weight=1, max_depth=7 .................................\n",
      "[CV]  min_child_weight=3, max_depth=5, score=0.774477103459106, total= 8.5min\n",
      "[CV] min_child_weight=1, max_depth=7 .................................\n",
      "[CV]  min_child_weight=3, max_depth=5, score=0.7733565768483791, total= 8.6min\n",
      "[CV] min_child_weight=3, max_depth=7 .................................\n",
      "[CV]  min_child_weight=3, max_depth=5, score=0.7724818315311615, total= 8.6min\n",
      "[CV] min_child_weight=3, max_depth=7 .................................\n",
      "[CV]  min_child_weight=5, max_depth=5, score=0.7739213806480864, total= 8.6min\n",
      "[CV] min_child_weight=3, max_depth=7 .................................\n"
     ]
    },
    {
     "name": "stderr",
     "output_type": "stream",
     "text": [
      "[Parallel(n_jobs=-1)]: Done  16 tasks      | elapsed: 15.5min\n"
     ]
    },
    {
     "name": "stdout",
     "output_type": "stream",
     "text": [
      "[CV]  min_child_weight=5, max_depth=5, score=0.7720056438278007, total= 7.5min\n",
      "[CV] min_child_weight=5, max_depth=7 .................................\n",
      "[CV]  min_child_weight=5, max_depth=5, score=0.7737987869425133, total= 6.7min\n",
      "[CV] min_child_weight=5, max_depth=7 .................................\n",
      "[CV]  min_child_weight=3, max_depth=7, score=0.7643567227891559, total=10.6min\n",
      "[CV] min_child_weight=5, max_depth=7 .................................\n",
      "[CV]  min_child_weight=1, max_depth=7, score=0.7638819437355417, total=10.7min\n",
      "[CV] min_child_weight=1, max_depth=9 .................................\n",
      "[CV]  min_child_weight=1, max_depth=7, score=0.7637463654482247, total=10.8min\n",
      "[CV] min_child_weight=1, max_depth=9 .................................\n",
      "[CV]  min_child_weight=3, max_depth=7, score=0.7627335985979067, total=10.7min\n",
      "[CV] min_child_weight=1, max_depth=9 .................................\n",
      "[CV]  min_child_weight=3, max_depth=7, score=0.7635810583671689, total=10.8min\n",
      "[CV] min_child_weight=3, max_depth=9 .................................\n",
      "[CV]  min_child_weight=1, max_depth=7, score=0.7627844846941259, total=10.9min\n",
      "[CV] min_child_weight=3, max_depth=9 .................................\n",
      "[CV]  min_child_weight=5, max_depth=7, score=0.7643755723924575, total= 9.5min\n",
      "[CV] min_child_weight=3, max_depth=9 .................................\n"
     ]
    },
    {
     "name": "stderr",
     "output_type": "stream",
     "text": [
      "[Parallel(n_jobs=-1)]: Done  25 out of  36 | elapsed: 29.5min remaining: 13.0min\n"
     ]
    },
    {
     "name": "stdout",
     "output_type": "stream",
     "text": [
      "[CV]  min_child_weight=5, max_depth=7, score=0.7623441298318753, total= 8.7min\n",
      "[CV] min_child_weight=5, max_depth=9 .................................\n",
      "[CV]  min_child_weight=5, max_depth=7, score=0.765464770342116, total= 7.6min\n",
      "[CV] min_child_weight=5, max_depth=9 .................................\n",
      "[CV]  min_child_weight=1, max_depth=9, score=0.7485449014339651, total=13.6min\n",
      "[CV] min_child_weight=5, max_depth=9 .................................\n",
      "[CV]  min_child_weight=3, max_depth=9, score=0.7476582053494809, total=13.5min\n"
     ]
    },
    {
     "name": "stderr",
     "output_type": "stream",
     "text": [
      "[Parallel(n_jobs=-1)]: Done  29 out of  36 | elapsed: 39.9min remaining:  9.6min\n"
     ]
    },
    {
     "name": "stdout",
     "output_type": "stream",
     "text": [
      "[CV]  min_child_weight=3, max_depth=9, score=0.7484115492579468, total=13.6min\n",
      "[CV]  min_child_weight=1, max_depth=9, score=0.7481158643114207, total=13.9min\n",
      "[CV]  min_child_weight=1, max_depth=9, score=0.7455355612569118, total=14.0min\n",
      "[CV]  min_child_weight=3, max_depth=9, score=0.7517984127988624, total=11.8min\n"
     ]
    },
    {
     "name": "stderr",
     "output_type": "stream",
     "text": [
      "[Parallel(n_jobs=-1)]: Done  33 out of  36 | elapsed: 41.3min remaining:  3.8min\n"
     ]
    },
    {
     "name": "stdout",
     "output_type": "stream",
     "text": [
      "[CV]  min_child_weight=5, max_depth=9, score=0.7518180791888766, total=10.9min\n",
      "[CV]  min_child_weight=5, max_depth=9, score=0.7505696791461578, total= 8.7min\n",
      "[CV]  min_child_weight=5, max_depth=9, score=0.7503873773723964, total= 3.3min\n"
     ]
    },
    {
     "name": "stderr",
     "output_type": "stream",
     "text": [
      "[Parallel(n_jobs=-1)]: Done  36 out of  36 | elapsed: 43.2min finished\n"
     ]
    },
    {
     "name": "stdout",
     "output_type": "stream",
     "text": [
      "搜索耗时2675.820019 s\n"
     ]
    }
   ],
   "source": [
    "t0 = time.time()\n",
    "param_test1 = {'max_depth':list(range(3,10,2)),\n",
    "    'min_child_weight':list(range(1,6,2))}\n",
    "gsearch1 = GridSearchCV(estimator = XGBClassifier(learning_rate = 0.08944444444444445, n_estimators=200,\n",
    "                                                  max_depth=5,min_child_weight=1,\n",
    "                                                  gamma=0, subsample=0.8,\n",
    "                                                  colsample_bytree=0.8,\n",
    "                                                  objective= 'binary:logistic',\n",
    "                                                  gpu_id = 0,\n",
    "                                                  tree_method = 'gpu_hist',\n",
    "                                                  nthread= -1, scale_pos_weight=12), \n",
    "                        param_grid = param_test1, scoring='roc_auc'\n",
    "                        ,n_jobs=-1,iid=False, cv=StratifiedKFold(),verbose=10)#默认使用三折StratifiedKFold解决样本不均衡的问题\n",
    "gsearch1.fit(TrainData[predictors],TrainData['TARGET'])\n",
    "print('搜索耗时%f s'%(time.time()-t0))"
   ]
  },
  {
   "cell_type": "code",
   "execution_count": 17,
   "metadata": {},
   "outputs": [
    {
     "name": "stdout",
     "output_type": "stream",
     "text": [
      "mean: 0.77216, std: 0.00024, params: {'min_child_weight': 1, 'max_depth': 3}\n",
      "mean: 0.77230, std: 0.00040, params: {'min_child_weight': 3, 'max_depth': 3}\n",
      "mean: 0.77229, std: 0.00013, params: {'min_child_weight': 5, 'max_depth': 3}\n",
      "mean: 0.77311, std: 0.00171, params: {'min_child_weight': 1, 'max_depth': 5}\n",
      "mean: 0.77344, std: 0.00082, params: {'min_child_weight': 3, 'max_depth': 5}\n",
      "mean: 0.77324, std: 0.00088, params: {'min_child_weight': 5, 'max_depth': 5}\n",
      "mean: 0.76347, std: 0.00049, params: {'min_child_weight': 1, 'max_depth': 7}\n",
      "mean: 0.76356, std: 0.00066, params: {'min_child_weight': 3, 'max_depth': 7}\n",
      "mean: 0.76406, std: 0.00129, params: {'min_child_weight': 5, 'max_depth': 7}\n",
      "mean: 0.74740, std: 0.00133, params: {'min_child_weight': 1, 'max_depth': 9}\n",
      "mean: 0.74929, std: 0.00180, params: {'min_child_weight': 3, 'max_depth': 9}\n",
      "mean: 0.75093, std: 0.00064, params: {'min_child_weight': 5, 'max_depth': 9}\n",
      "{'min_child_weight': 3, 'max_depth': 5}\n",
      "0.7734385039462156\n"
     ]
    }
   ],
   "source": [
    "for i in gsearch1.grid_scores_:\n",
    "    print(i) \n",
    "print(gsearch1.best_params_)\n",
    "print(gsearch1.best_score_)"
   ]
  },
  {
   "cell_type": "markdown",
   "metadata": {},
   "source": [
    "### 4. gamma"
   ]
  },
  {
   "cell_type": "code",
   "execution_count": 16,
   "metadata": {
    "scrolled": true
   },
   "outputs": [
    {
     "name": "stdout",
     "output_type": "stream",
     "text": [
      "Fitting 3 folds for each of 5 candidates, totalling 15 fits\n",
      "[CV] gamma=0.0 .......................................................\n",
      "[CV] gamma=0.0 .......................................................\n",
      "[CV] gamma=0.0 .......................................................\n",
      "[CV] gamma=0.1 .......................................................\n",
      "[CV] gamma=0.1 .......................................................\n",
      "[CV] gamma=0.1 .......................................................\n",
      "[CV] gamma=0.2 .......................................................\n",
      "[CV] gamma=0.2 .......................................................\n",
      "[CV] .............. gamma=0.0, score=0.7753966991423382, total= 8.0min\n",
      "[CV] gamma=0.2 .......................................................\n",
      "[CV] .............. gamma=0.0, score=0.7753448800967799, total= 8.1min\n",
      "[CV] gamma=0.3 .......................................................\n"
     ]
    },
    {
     "name": "stderr",
     "output_type": "stream",
     "text": [
      "[Parallel(n_jobs=-1)]: Done   2 out of  15 | elapsed:  8.2min remaining: 53.1min\n"
     ]
    },
    {
     "name": "stdout",
     "output_type": "stream",
     "text": [
      "[CV] .............. gamma=0.0, score=0.7703502449465338, total= 8.2min\n",
      "[CV] gamma=0.3 .......................................................\n",
      "[CV] .............. gamma=0.1, score=0.7753966991423382, total= 8.3min\n",
      "[CV] gamma=0.3 .......................................................\n"
     ]
    },
    {
     "name": "stderr",
     "output_type": "stream",
     "text": [
      "[Parallel(n_jobs=-1)]: Done   4 out of  15 | elapsed:  8.4min remaining: 23.0min\n"
     ]
    },
    {
     "name": "stdout",
     "output_type": "stream",
     "text": [
      "[CV] .............. gamma=0.2, score=0.7753966991423382, total= 8.3min\n",
      "[CV] gamma=0.4 .......................................................\n",
      "[CV] .............. gamma=0.1, score=0.7753448800967799, total= 8.3min\n"
     ]
    },
    {
     "name": "stderr",
     "output_type": "stream",
     "text": [
      "[Parallel(n_jobs=-1)]: Done   6 out of  15 | elapsed:  8.4min remaining: 12.6min\n"
     ]
    },
    {
     "name": "stdout",
     "output_type": "stream",
     "text": [
      "[CV] gamma=0.4 .......................................................\n",
      "[CV] .............. gamma=0.2, score=0.7753448800967799, total= 8.3min\n",
      "[CV] gamma=0.4 .......................................................\n",
      "[CV] .............. gamma=0.1, score=0.7703502449465338, total= 8.3min\n"
     ]
    },
    {
     "name": "stderr",
     "output_type": "stream",
     "text": [
      "[Parallel(n_jobs=-1)]: Done   8 out of  15 | elapsed:  8.5min remaining:  7.4min\n"
     ]
    },
    {
     "name": "stdout",
     "output_type": "stream",
     "text": [
      "[CV] .............. gamma=0.2, score=0.7703502449465338, total= 7.4min\n",
      "[CV] .............. gamma=0.3, score=0.7753966991423382, total= 7.4min\n"
     ]
    },
    {
     "name": "stderr",
     "output_type": "stream",
     "text": [
      "[Parallel(n_jobs=-1)]: Done  10 out of  15 | elapsed: 15.6min remaining:  7.8min\n"
     ]
    },
    {
     "name": "stdout",
     "output_type": "stream",
     "text": [
      "[CV] .............. gamma=0.3, score=0.7753448800967799, total= 7.4min\n",
      "[CV] .............. gamma=0.3, score=0.7703502449465338, total= 7.4min\n"
     ]
    },
    {
     "name": "stderr",
     "output_type": "stream",
     "text": [
      "[Parallel(n_jobs=-1)]: Done  12 out of  15 | elapsed: 15.8min remaining:  3.9min\n"
     ]
    },
    {
     "name": "stdout",
     "output_type": "stream",
     "text": [
      "[CV] .............. gamma=0.4, score=0.7753966991423382, total= 7.3min\n",
      "[CV] .............. gamma=0.4, score=0.7703502449465338, total= 7.3min\n",
      "[CV] .............. gamma=0.4, score=0.7753448800967799, total= 7.3min\n"
     ]
    },
    {
     "name": "stderr",
     "output_type": "stream",
     "text": [
      "[Parallel(n_jobs=-1)]: Done  15 out of  15 | elapsed: 15.8min finished\n"
     ]
    },
    {
     "name": "stdout",
     "output_type": "stream",
     "text": [
      "搜索耗时1032.196386 s\n"
     ]
    }
   ],
   "source": [
    "t0 = time.time()\n",
    "param_test1 = {'gamma':[i/10.0 for i in range(0,5)]}\n",
    "gsearch1 = GridSearchCV(estimator = XGBClassifier(learning_rate = 0.08944444444444445, n_estimators=200,\n",
    "                                                  max_depth=5,min_child_weight=3,\n",
    "                                                  gamma=0, subsample=0.8,\n",
    "                                                  colsample_bytree=0.8,\n",
    "                                                  objective= 'binary:logistic',\n",
    "                                                  gpu_id = 0,\n",
    "                                                  tree_method = 'gpu_hist',\n",
    "                                                  nthread= -1, scale_pos_weight=12), \n",
    "                        param_grid = param_test1, scoring='roc_auc'\n",
    "                        ,n_jobs=-1,iid=False, cv=StratifiedKFold(),verbose=10)#默认使用三折StratifiedKFold解决样本不均衡的问题\n",
    "gsearch1.fit(TrainData[predictors],TrainData['TARGET'])\n",
    "print('搜索耗时%f s'%(time.time()-t0))"
   ]
  },
  {
   "cell_type": "code",
   "execution_count": 17,
   "metadata": {},
   "outputs": [
    {
     "name": "stdout",
     "output_type": "stream",
     "text": [
      "mean: 0.77370, std: 0.00237, params: {'gamma': 0.0}\n",
      "mean: 0.77370, std: 0.00237, params: {'gamma': 0.1}\n",
      "mean: 0.77370, std: 0.00237, params: {'gamma': 0.2}\n",
      "mean: 0.77370, std: 0.00237, params: {'gamma': 0.3}\n",
      "mean: 0.77370, std: 0.00237, params: {'gamma': 0.4}\n",
      "{'gamma': 0.0}\n",
      "0.7736972747285508\n"
     ]
    }
   ],
   "source": [
    "for i in gsearch1.grid_scores_:\n",
    "    print(i) \n",
    "print(gsearch1.best_params_)\n",
    "print(gsearch1.best_score_)"
   ]
  },
  {
   "cell_type": "code",
   "execution_count": 56,
   "metadata": {
    "collapsed": true
   },
   "outputs": [],
   "source": [
    "#也没啥用 心累"
   ]
  },
  {
   "cell_type": "markdown",
   "metadata": {},
   "source": [
    "### 5.subsample and colsample_bytree"
   ]
  },
  {
   "cell_type": "code",
   "execution_count": 15,
   "metadata": {
    "scrolled": true
   },
   "outputs": [
    {
     "name": "stdout",
     "output_type": "stream",
     "text": [
      "Fitting 3 folds for each of 16 candidates, totalling 48 fits\n",
      "[CV] colsample_bytree=0.6, subsample=0.6 .............................\n",
      "[CV] colsample_bytree=0.6, subsample=0.6 .............................\n",
      "[CV] colsample_bytree=0.6, subsample=0.6 .............................\n",
      "[CV] colsample_bytree=0.6, subsample=0.7 .............................\n",
      "[CV] colsample_bytree=0.6, subsample=0.7 .............................\n",
      "[CV] colsample_bytree=0.6, subsample=0.7 .............................\n",
      "[CV] colsample_bytree=0.6, subsample=0.8 .............................\n",
      "[CV] colsample_bytree=0.6, subsample=0.8 .............................\n",
      "[CV]  colsample_bytree=0.6, subsample=0.6, score=0.7700571584552429, total= 6.3min\n",
      "[CV] colsample_bytree=0.6, subsample=0.8 .............................\n",
      "[CV]  colsample_bytree=0.6, subsample=0.6, score=0.7699194570958718, total= 6.4min\n",
      "[CV] colsample_bytree=0.6, subsample=0.9 .............................\n"
     ]
    },
    {
     "name": "stderr",
     "output_type": "stream",
     "text": [
      "[Parallel(n_jobs=-1)]: Done   2 tasks      | elapsed:  6.5min\n"
     ]
    },
    {
     "name": "stdout",
     "output_type": "stream",
     "text": [
      "[CV]  colsample_bytree=0.6, subsample=0.6, score=0.7730652924251193, total= 6.6min\n",
      "[CV] colsample_bytree=0.6, subsample=0.9 .............................\n",
      "[CV]  colsample_bytree=0.6, subsample=0.7, score=0.7740366149976063, total= 7.4min\n",
      "[CV] colsample_bytree=0.6, subsample=0.9 .............................\n",
      "[CV]  colsample_bytree=0.6, subsample=0.7, score=0.7707500084963684, total= 7.5min\n",
      "[CV] colsample_bytree=0.7, subsample=0.6 .............................\n",
      "[CV]  colsample_bytree=0.6, subsample=0.7, score=0.774689104592011, total= 7.7min\n",
      "[CV] colsample_bytree=0.7, subsample=0.6 .............................\n",
      "[CV]  colsample_bytree=0.6, subsample=0.8, score=0.7721282578288697, total= 8.3min\n",
      "[CV] colsample_bytree=0.7, subsample=0.6 .............................\n",
      "[CV]  colsample_bytree=0.6, subsample=0.8, score=0.7746354219471022, total= 8.4min\n",
      "[CV] colsample_bytree=0.7, subsample=0.7 .............................\n",
      "[CV]  colsample_bytree=0.7, subsample=0.6, score=0.7725322273541873, total= 6.9min\n",
      "[CV] colsample_bytree=0.7, subsample=0.7 .............................\n"
     ]
    },
    {
     "name": "stderr",
     "output_type": "stream",
     "text": [
      "[Parallel(n_jobs=-1)]: Done   9 tasks      | elapsed: 14.5min\n"
     ]
    },
    {
     "name": "stdout",
     "output_type": "stream",
     "text": [
      "[CV]  colsample_bytree=0.7, subsample=0.6, score=0.7691707617174233, total= 6.9min\n",
      "[CV] colsample_bytree=0.7, subsample=0.7 .............................\n",
      "[CV]  colsample_bytree=0.6, subsample=0.8, score=0.7751344288709778, total= 8.7min\n",
      "[CV] colsample_bytree=0.7, subsample=0.8 .............................\n",
      "[CV]  colsample_bytree=0.6, subsample=0.9, score=0.7737891891859092, total= 8.9min\n",
      "[CV] colsample_bytree=0.7, subsample=0.8 .............................\n",
      "[CV]  colsample_bytree=0.7, subsample=0.6, score=0.7754946730595352, total= 7.0min\n",
      "[CV] colsample_bytree=0.7, subsample=0.8 .............................\n",
      "[CV]  colsample_bytree=0.6, subsample=0.9, score=0.7722818124227036, total= 8.9min\n",
      "[CV] colsample_bytree=0.7, subsample=0.9 .............................\n",
      "[CV]  colsample_bytree=0.6, subsample=0.9, score=0.7752053125970882, total= 8.9min\n",
      "[CV] colsample_bytree=0.7, subsample=0.9 .............................\n",
      "[CV]  colsample_bytree=0.7, subsample=0.7, score=0.7720914588115486, total= 7.8min\n",
      "[CV] colsample_bytree=0.7, subsample=0.9 .............................\n"
     ]
    },
    {
     "name": "stderr",
     "output_type": "stream",
     "text": [
      "[Parallel(n_jobs=-1)]: Done  16 tasks      | elapsed: 16.4min\n"
     ]
    },
    {
     "name": "stdout",
     "output_type": "stream",
     "text": [
      "[CV]  colsample_bytree=0.7, subsample=0.7, score=0.7696656346299586, total= 7.8min\n",
      "[CV] colsample_bytree=0.8, subsample=0.6 .............................\n",
      "[CV]  colsample_bytree=0.7, subsample=0.7, score=0.7740433374325171, total= 8.0min\n",
      "[CV] colsample_bytree=0.8, subsample=0.6 .............................\n",
      "[CV]  colsample_bytree=0.7, subsample=0.8, score=0.7728143559420532, total= 8.7min\n",
      "[CV] colsample_bytree=0.8, subsample=0.6 .............................\n",
      "[CV]  colsample_bytree=0.7, subsample=0.8, score=0.770449310823147, total= 8.5min\n",
      "[CV] colsample_bytree=0.8, subsample=0.7 .............................\n",
      "[CV]  colsample_bytree=0.7, subsample=0.8, score=0.7745144097884693, total= 8.7min\n",
      "[CV] colsample_bytree=0.8, subsample=0.7 .............................\n",
      "[CV]  colsample_bytree=0.7, subsample=0.9, score=0.7740215449146065, total= 9.0min\n",
      "[CV] colsample_bytree=0.8, subsample=0.7 .............................\n",
      "[CV]  colsample_bytree=0.7, subsample=0.9, score=0.7714013252388473, total= 8.8min\n",
      "[CV] colsample_bytree=0.8, subsample=0.8 .............................\n",
      "[CV]  colsample_bytree=0.7, subsample=0.9, score=0.7745242742605115, total= 8.9min\n",
      "[CV] colsample_bytree=0.8, subsample=0.8 .............................\n",
      "[CV]  colsample_bytree=0.8, subsample=0.6, score=0.7692558142456862, total= 6.7min\n",
      "[CV] colsample_bytree=0.8, subsample=0.8 .............................\n"
     ]
    },
    {
     "name": "stderr",
     "output_type": "stream",
     "text": [
      "[Parallel(n_jobs=-1)]: Done  25 tasks      | elapsed: 29.1min\n"
     ]
    },
    {
     "name": "stdout",
     "output_type": "stream",
     "text": [
      "[CV]  colsample_bytree=0.8, subsample=0.6, score=0.7701305845258698, total= 6.7min\n",
      "[CV] colsample_bytree=0.8, subsample=0.9 .............................\n",
      "[CV]  colsample_bytree=0.8, subsample=0.6, score=0.7730138603601346, total= 6.8min\n",
      "[CV] colsample_bytree=0.8, subsample=0.9 .............................\n",
      "[CV]  colsample_bytree=0.8, subsample=0.7, score=0.7710904648836095, total= 7.4min\n",
      "[CV] colsample_bytree=0.8, subsample=0.9 .............................\n",
      "[CV]  colsample_bytree=0.8, subsample=0.7, score=0.7732796388699674, total= 7.6min\n",
      "[CV] colsample_bytree=0.9, subsample=0.6 .............................\n",
      "[CV]  colsample_bytree=0.8, subsample=0.7, score=0.7743021745345758, total= 7.8min\n",
      "[CV] colsample_bytree=0.9, subsample=0.6 .............................\n",
      "[CV]  colsample_bytree=0.8, subsample=0.8, score=0.7747142234163396, total= 8.4min\n",
      "[CV] colsample_bytree=0.9, subsample=0.6 .............................\n",
      "[CV]  colsample_bytree=0.8, subsample=0.8, score=0.7703553027446493, total= 8.4min\n",
      "[CV] colsample_bytree=0.9, subsample=0.7 .............................\n",
      "[CV]  colsample_bytree=0.8, subsample=0.8, score=0.7753321224648124, total= 8.7min\n",
      "[CV] colsample_bytree=0.9, subsample=0.7 .............................\n",
      "[CV]  colsample_bytree=0.8, subsample=0.9, score=0.7735510154426974, total= 8.8min\n",
      "[CV] colsample_bytree=0.9, subsample=0.7 .............................\n",
      "[CV]  colsample_bytree=0.9, subsample=0.6, score=0.7709522918311269, total= 6.9min\n",
      "[CV] colsample_bytree=0.9, subsample=0.8 .............................\n",
      "[CV]  colsample_bytree=0.9, subsample=0.6, score=0.7697945555103951, total= 6.8min\n",
      "[CV] colsample_bytree=0.9, subsample=0.8 .............................\n",
      "[CV]  colsample_bytree=0.8, subsample=0.9, score=0.7718312406945409, total= 8.7min\n",
      "[CV] colsample_bytree=0.9, subsample=0.8 .............................\n",
      "[CV]  colsample_bytree=0.9, subsample=0.6, score=0.7726325688255018, total= 6.9min\n",
      "[CV] colsample_bytree=0.9, subsample=0.9 .............................\n"
     ]
    },
    {
     "name": "stderr",
     "output_type": "stream",
     "text": [
      "[Parallel(n_jobs=-1)]: Done  38 out of  48 | elapsed: 40.6min remaining: 10.7min\n"
     ]
    },
    {
     "name": "stdout",
     "output_type": "stream",
     "text": [
      "[CV]  colsample_bytree=0.8, subsample=0.9, score=0.7753050376746972, total= 8.9min\n",
      "[CV] colsample_bytree=0.9, subsample=0.9 .............................\n",
      "[CV]  colsample_bytree=0.9, subsample=0.7, score=0.7722825156604107, total= 7.8min\n",
      "[CV] colsample_bytree=0.9, subsample=0.9 .............................\n",
      "[CV]  colsample_bytree=0.9, subsample=0.7, score=0.7710452978439607, total= 7.7min\n",
      "[CV]  colsample_bytree=0.9, subsample=0.7, score=0.7752761440056594, total= 7.9min\n",
      "[CV]  colsample_bytree=0.9, subsample=0.8, score=0.7741528641323059, total= 8.4min\n"
     ]
    },
    {
     "name": "stderr",
     "output_type": "stream",
     "text": [
      "[Parallel(n_jobs=-1)]: Done  43 out of  48 | elapsed: 47.1min remaining:  5.5min\n"
     ]
    },
    {
     "name": "stdout",
     "output_type": "stream",
     "text": [
      "[CV]  colsample_bytree=0.9, subsample=0.8, score=0.7712713109218389, total= 8.1min\n",
      "[CV]  colsample_bytree=0.9, subsample=0.8, score=0.7757863197984511, total= 8.0min\n",
      "[CV]  colsample_bytree=0.9, subsample=0.9, score=0.7706073647253636, total= 7.3min\n",
      "[CV]  colsample_bytree=0.9, subsample=0.9, score=0.7734253403137024, total= 7.4min\n",
      "[CV]  colsample_bytree=0.9, subsample=0.9, score=0.776042176108706, total= 6.6min\n"
     ]
    },
    {
     "name": "stderr",
     "output_type": "stream",
     "text": [
      "[Parallel(n_jobs=-1)]: Done  48 out of  48 | elapsed: 48.2min remaining:    0.0s\n",
      "[Parallel(n_jobs=-1)]: Done  48 out of  48 | elapsed: 48.2min finished\n"
     ]
    },
    {
     "name": "stdout",
     "output_type": "stream",
     "text": [
      "搜索耗时2976.900270 s\n"
     ]
    }
   ],
   "source": [
    "t0 = time.time()\n",
    "param_test1 = {'subsample':[i/10.0 for i in range(6,10)],\n",
    "    'colsample_bytree':[i/10.0 for i in range(6,10)]}\n",
    "gsearch1 = GridSearchCV(estimator = XGBClassifier(learning_rate = 0.08944444444444445, n_estimators=200,\n",
    "                                                  max_depth=5,min_child_weight=3,\n",
    "                                                  gamma=0, subsample=0.8,\n",
    "                                                  colsample_bytree=0.8,\n",
    "                                                  objective= 'binary:logistic',\n",
    "                                                  gpu_id = 0,\n",
    "                                                  tree_method = 'gpu_hist',\n",
    "                                                  nthread= -1, scale_pos_weight=12), \n",
    "                        param_grid = param_test1, scoring='roc_auc'\n",
    "                        ,n_jobs=-1,iid=False, cv=StratifiedKFold(),verbose=10)#默认使用三折StratifiedKFold解决样本不均衡的问题\n",
    "gsearch1.fit(TrainData[predictors],TrainData['TARGET'])\n",
    "print('搜索耗时%f s'%(time.time()-t0))"
   ]
  },
  {
   "cell_type": "code",
   "execution_count": 16,
   "metadata": {},
   "outputs": [
    {
     "name": "stdout",
     "output_type": "stream",
     "text": [
      "mean: 0.77101, std: 0.00145, params: {'colsample_bytree': 0.6, 'subsample': 0.6}\n",
      "mean: 0.77316, std: 0.00172, params: {'colsample_bytree': 0.6, 'subsample': 0.7}\n",
      "mean: 0.77397, std: 0.00132, params: {'colsample_bytree': 0.6, 'subsample': 0.8}\n",
      "mean: 0.77376, std: 0.00119, params: {'colsample_bytree': 0.6, 'subsample': 0.9}\n",
      "mean: 0.77240, std: 0.00258, params: {'colsample_bytree': 0.7, 'subsample': 0.6}\n",
      "mean: 0.77193, std: 0.00179, params: {'colsample_bytree': 0.7, 'subsample': 0.7}\n",
      "mean: 0.77259, std: 0.00167, params: {'colsample_bytree': 0.7, 'subsample': 0.8}\n",
      "mean: 0.77332, std: 0.00137, params: {'colsample_bytree': 0.7, 'subsample': 0.9}\n",
      "mean: 0.77080, std: 0.00161, params: {'colsample_bytree': 0.8, 'subsample': 0.6}\n",
      "mean: 0.77289, std: 0.00134, params: {'colsample_bytree': 0.8, 'subsample': 0.7}\n",
      "mean: 0.77347, std: 0.00221, params: {'colsample_bytree': 0.8, 'subsample': 0.8}\n",
      "mean: 0.77356, std: 0.00142, params: {'colsample_bytree': 0.8, 'subsample': 0.9}\n",
      "mean: 0.77113, std: 0.00117, params: {'colsample_bytree': 0.9, 'subsample': 0.6}\n",
      "mean: 0.77287, std: 0.00178, params: {'colsample_bytree': 0.9, 'subsample': 0.7}\n",
      "mean: 0.77374, std: 0.00187, params: {'colsample_bytree': 0.9, 'subsample': 0.8}\n",
      "mean: 0.77336, std: 0.00222, params: {'colsample_bytree': 0.9, 'subsample': 0.9}\n",
      "{'colsample_bytree': 0.6, 'subsample': 0.8}\n",
      "0.7739660362156499\n"
     ]
    }
   ],
   "source": [
    "for i in gsearch1.grid_scores_:\n",
    "    print(i) \n",
    "print(gsearch1.best_params_)\n",
    "print(gsearch1.best_score_)"
   ]
  },
  {
   "cell_type": "markdown",
   "metadata": {},
   "source": [
    "### 6. eta"
   ]
  },
  {
   "cell_type": "code",
   "execution_count": 18,
   "metadata": {
    "scrolled": true
   },
   "outputs": [
    {
     "name": "stdout",
     "output_type": "stream",
     "text": [
      "Fitting 3 folds for each of 10 candidates, totalling 30 fits\n",
      "[CV] eta=0.1 .........................................................\n",
      "[CV] eta=0.1 .........................................................\n",
      "[CV] eta=0.1 .........................................................\n",
      "[CV] eta=0.2 .........................................................\n",
      "[CV] eta=0.2 .........................................................\n",
      "[CV] eta=0.2 .........................................................\n",
      "[CV] eta=0.3 .........................................................\n",
      "[CV] eta=0.3 .........................................................\n",
      "[CV] ................ eta=0.1, score=0.7783389510759824, total= 8.0min\n",
      "[CV] eta=0.3 .........................................................\n",
      "[CV] ................ eta=0.2, score=0.7783389510759824, total= 8.2min\n",
      "[CV] eta=0.4 .........................................................\n"
     ]
    },
    {
     "name": "stderr",
     "output_type": "stream",
     "text": [
      "[Parallel(n_jobs=-1)]: Done   2 tasks      | elapsed:  8.3min\n"
     ]
    },
    {
     "name": "stdout",
     "output_type": "stream",
     "text": [
      "[CV] ................ eta=0.1, score=0.7706502271774047, total= 8.2min\n",
      "[CV] eta=0.4 .........................................................\n",
      "[CV] ................ eta=0.1, score=0.7707047328978254, total= 8.3min\n",
      "[CV] eta=0.4 .........................................................\n",
      "[CV] ................ eta=0.3, score=0.7783389510759824, total= 8.3min\n",
      "[CV] eta=0.5 .........................................................\n",
      "[CV] ................ eta=0.3, score=0.7707047328978254, total= 8.3min\n",
      "[CV] eta=0.5 .........................................................\n",
      "[CV] ................ eta=0.2, score=0.7707047328978254, total= 8.4min\n",
      "[CV] eta=0.5 .........................................................\n",
      "[CV] ................ eta=0.2, score=0.7706502271774047, total= 8.4min\n",
      "[CV] eta=0.6 .........................................................\n",
      "[CV] ................ eta=0.4, score=0.7783389510759824, total= 8.5min\n",
      "[CV] eta=0.6 .........................................................\n"
     ]
    },
    {
     "name": "stderr",
     "output_type": "stream",
     "text": [
      "[Parallel(n_jobs=-1)]: Done   9 tasks      | elapsed: 16.8min\n"
     ]
    },
    {
     "name": "stdout",
     "output_type": "stream",
     "text": [
      "[CV] ................ eta=0.3, score=0.7706502271774047, total= 8.7min\n",
      "[CV] eta=0.6 .........................................................\n",
      "[CV] ................ eta=0.4, score=0.7707047328978254, total= 8.5min\n",
      "[CV] eta=0.7 .........................................................\n",
      "[CV] ................ eta=0.5, score=0.7783389510759824, total= 8.5min\n",
      "[CV] eta=0.7 .........................................................\n",
      "[CV] ................ eta=0.6, score=0.7783389510759824, total= 8.5min\n",
      "[CV] eta=0.7 .........................................................\n",
      "[CV] ................ eta=0.4, score=0.7706502271774047, total= 8.7min\n",
      "[CV] eta=0.8 .........................................................\n",
      "[CV] ................ eta=0.5, score=0.7707047328978254, total= 8.6min\n",
      "[CV] eta=0.8 .........................................................\n",
      "[CV] ................ eta=0.5, score=0.7706502271774047, total= 8.6min\n",
      "[CV] eta=0.8 .........................................................\n",
      "[CV] ................ eta=0.7, score=0.7783389510759824, total= 8.5min\n",
      "[CV] eta=0.9 .........................................................\n",
      "[CV] ................ eta=0.6, score=0.7706502271774047, total= 8.6min\n",
      "[CV] eta=0.9 .........................................................\n",
      "[CV] ................ eta=0.6, score=0.7707047328978254, total= 8.7min\n"
     ]
    },
    {
     "name": "stderr",
     "output_type": "stream",
     "text": [
      "[Parallel(n_jobs=-1)]: Done  19 out of  30 | elapsed: 25.5min remaining: 14.8min\n"
     ]
    },
    {
     "name": "stdout",
     "output_type": "stream",
     "text": [
      "[CV] eta=0.9 .........................................................\n",
      "[CV] ................ eta=0.7, score=0.7707047328978254, total= 8.6min\n",
      "[CV] eta=1.0 .........................................................\n",
      "[CV] ................ eta=0.8, score=0.7783389510759824, total= 8.5min\n",
      "[CV] eta=1.0 .........................................................\n",
      "[CV] ................ eta=0.8, score=0.7707047328978254, total= 8.5min\n",
      "[CV] eta=1.0 .........................................................\n",
      "[CV] ................ eta=0.7, score=0.7706502271774047, total= 8.7min\n"
     ]
    },
    {
     "name": "stderr",
     "output_type": "stream",
     "text": [
      "[Parallel(n_jobs=-1)]: Done  23 out of  30 | elapsed: 25.8min remaining:  7.9min\n"
     ]
    },
    {
     "name": "stdout",
     "output_type": "stream",
     "text": [
      "[CV] ................ eta=0.8, score=0.7706502271774047, total= 8.7min\n",
      "[CV] ................ eta=0.9, score=0.7783389510759824, total= 6.5min\n",
      "[CV] ................ eta=0.9, score=0.7707047328978254, total= 6.5min\n",
      "[CV] ................ eta=1.0, score=0.7783389510759824, total= 6.5min\n"
     ]
    },
    {
     "name": "stderr",
     "output_type": "stream",
     "text": [
      "[Parallel(n_jobs=-1)]: Done  27 out of  30 | elapsed: 32.1min remaining:  3.6min\n"
     ]
    },
    {
     "name": "stdout",
     "output_type": "stream",
     "text": [
      "[CV] ................ eta=1.0, score=0.7707047328978254, total= 6.5min\n",
      "[CV] ................ eta=0.9, score=0.7706502271774047, total= 6.6min\n",
      "[CV] ................ eta=1.0, score=0.7706502271774047, total= 6.4min\n"
     ]
    },
    {
     "name": "stderr",
     "output_type": "stream",
     "text": [
      "[Parallel(n_jobs=-1)]: Done  30 out of  30 | elapsed: 32.2min finished\n"
     ]
    },
    {
     "name": "stdout",
     "output_type": "stream",
     "text": [
      "搜索耗时2015.866491 s\n"
     ]
    }
   ],
   "source": [
    "t0 = time.time()\n",
    "param_test1 = {'eta':[i/10 for i in range(1,11)] }\n",
    "gsearch1 = GridSearchCV(estimator = XGBClassifier(learning_rate = 0.08944444444444445, n_estimators=200,\n",
    "                                                  max_depth=5,min_child_weight=3,\n",
    "                                                  eta = 0.3, gamma=0, subsample=0.8,\n",
    "                                                  colsample_bytree=0.6,\n",
    "                                                  objective= 'binary:logistic',\n",
    "                                                  gpu_id = 0,\n",
    "                                                  tree_method = 'gpu_hist',\n",
    "                                                  nthread= -1, scale_pos_weight=12), \n",
    "                        param_grid = param_test1, scoring='roc_auc'\n",
    "                        ,n_jobs=-1,iid=False, cv=StratifiedKFold(),verbose=10)#默认使用三折StratifiedKFold解决样本不均衡的问题\n",
    "gsearch1.fit(TrainData[predictors],TrainData['TARGET'])\n",
    "print('搜索耗时%f s'%(time.time()-t0))"
   ]
  },
  {
   "cell_type": "code",
   "execution_count": 19,
   "metadata": {},
   "outputs": [
    {
     "name": "stdout",
     "output_type": "stream",
     "text": [
      "mean: 0.77323, std: 0.00361, params: {'eta': 0.1}\n",
      "mean: 0.77323, std: 0.00361, params: {'eta': 0.2}\n",
      "mean: 0.77323, std: 0.00361, params: {'eta': 0.3}\n",
      "mean: 0.77323, std: 0.00361, params: {'eta': 0.4}\n",
      "mean: 0.77323, std: 0.00361, params: {'eta': 0.5}\n",
      "mean: 0.77323, std: 0.00361, params: {'eta': 0.6}\n",
      "mean: 0.77323, std: 0.00361, params: {'eta': 0.7}\n",
      "mean: 0.77323, std: 0.00361, params: {'eta': 0.8}\n",
      "mean: 0.77323, std: 0.00361, params: {'eta': 0.9}\n",
      "mean: 0.77323, std: 0.00361, params: {'eta': 1.0}\n",
      "{'eta': 0.1}\n",
      "0.7732313037170707\n"
     ]
    }
   ],
   "source": [
    "for i in gsearch1.grid_scores_:\n",
    "    print(i) \n",
    "print(gsearch1.best_params_)\n",
    "print(gsearch1.best_score_)"
   ]
  },
  {
   "cell_type": "code",
   "execution_count": 17,
   "metadata": {},
   "outputs": [
    {
     "data": {
      "text/plain": [
       "[0.1, 0.2, 0.3, 0.4, 0.5, 0.6, 0.7, 0.8, 0.9, 1.0]"
      ]
     },
     "execution_count": 17,
     "metadata": {},
     "output_type": "execute_result"
    }
   ],
   "source": [
    "[i/10 for i in range(1,11)]"
   ]
  },
  {
   "cell_type": "markdown",
   "metadata": {},
   "source": [
    "### 还不如不搜"
   ]
  },
  {
   "cell_type": "code",
   "execution_count": 13,
   "metadata": {
    "scrolled": false
   },
   "outputs": [
    {
     "name": "stdout",
     "output_type": "stream",
     "text": [
      "\n",
      "关于现在这个模型\n",
      "训练准确率 : 0.9229\n",
      "测试准确率 : 0.9194\n",
      "训练AUC 得分 (训练集): 0.843205\n",
      "测试AUC 得分 (验证集): 0.782402\n",
      "耗时203.354518 s\n"
     ]
    },
    {
     "data": {
      "image/png": "[encoded data removed]",
      "text/plain": [
       "<Figure size 432x288 with 1 Axes>"
      ]
     },
     "metadata": {},
     "output_type": "display_data"
    }
   ],
   "source": [
    "xgbmodel = XGBClassifier(booster='dart',learning_rate = 0.08944444444444445, n_estimators=200,\n",
    "                                                  max_depth=5,min_child_weight=3,\n",
    "                                                  eta = 0.3, gamma=0, subsample=0.8,\n",
    "                                                  colsample_bytree=0.6,\n",
    "                                                  objective= 'binary:logistic',\n",
    "                                                  gpu_id = 0,\n",
    "                                                  tree_method = 'gpu_hist',\n",
    "                                                  nthread= -1, scale_pos_weight=1)\n",
    "t0 = time.time()\n",
    "xgbmodel = modelfit(xgbmodel, TrainData, ValData, predictors, useTrainCV = False)\n",
    "print('耗时%f s'%(time.time()-t0))"
   ]
  },
  {
   "cell_type": "code",
   "execution_count": 16,
   "metadata": {},
   "outputs": [
    {
     "name": "stdout",
     "output_type": "stream",
     "text": [
      "耗时251.844797 s\n"
     ]
    }
   ],
   "source": [
    "##将所有的数据放进去训练\n",
    "t0 = time.time()\n",
    "AllTrainData = TrainData.append(ValData)\n",
    "AllTrainData.reset_index(drop=True, inplace =True)\n",
    "xgbmodel.fit(AllTrainData[predictors], AllTrainData['TARGET'],eval_metric='auc')\n",
    "#对训练集预测\n",
    "xgbmodel.save_model(os.path.join(ModelSaveDir,'xgb_0780.model'))\n",
    "print('耗时%f s'%(time.time()-t0))"
   ]
  },
  {
   "cell_type": "code",
   "execution_count": 17,
   "metadata": {
    "collapsed": true
   },
   "outputs": [],
   "source": [
    "Testsubmission = loadData('test.csv')\n",
    "TestID = Testsubmission.SK_ID_CURR.values\n",
    "Testsub_predprob = xgbmodel.predict_proba(Testsubmission[predictors])[:,1]\n",
    "gender_submission = pd.DataFrame({'SK_ID_CURR':TestID,'TARGET':Testsub_predprob})\n",
    "gender_submission.to_csv(os.path.join(ResultSaveDir,'result_xgb_new.csv'), index = False)"
   ]
  },
  {
   "cell_type": "code",
   "execution_count": null,
   "metadata": {
    "collapsed": true
   },
   "outputs": [],
   "source": []
  }
 ],
 "metadata": {
  "anaconda-cloud": {},
  "kernelspec": {
   "display_name": "Python 3",
   "language": "python",
   "name": "python3"
  },
  "language_info": {
   "codemirror_mode": {
    "name": "ipython",
    "version": 3
   },
   "file_extension": ".py",
   "mimetype": "text/x-python",
   "name": "python",
   "nbconvert_exporter": "python",
   "pygments_lexer": "ipython3",
   "version": "3.5.5"
  }
 },
 "nbformat": 4,
 "nbformat_minor": 2
}
