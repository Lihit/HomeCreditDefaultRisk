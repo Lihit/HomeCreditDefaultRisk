{
 "cells": [
  {
   "cell_type": "code",
   "execution_count": 1,
   "metadata": {
    "collapsed": true
   },
   "outputs": [],
   "source": [
    "import numpy as np # linear algebra\n",
    "import pandas as pd # data processing, CSV file I/O (e.g. pd.read_csv)\n",
    "from sklearn.metrics import roc_auc_score\n",
    "from sklearn.preprocessing import LabelEncoder\n",
    "import xgboost as xgb\n",
    "from xgboost import XGBClassifier\n",
    "import os\n",
    "import gc\n",
    "from matplotlib import pyplot as plt\n",
    "%matplotlib inline\n",
    "from sklearn.model_selection import GridSearchCV\n",
    "from skopt import BayesSearchCV\n",
    "import lightgbm as lgb\n",
    "from sklearn.model_selection import train_test_split, KFold, StratifiedKFold\n",
    "from sklearn.metrics import accuracy_score, confusion_matrix\n",
    "from sklearn.feature_selection import VarianceThreshold\n",
    "from sklearn.model_selection import train_test_split\n",
    "from sklearn.preprocessing import LabelEncoder, MinMaxScaler\n",
    "OriginDataDir = '/home/songyue/homeCredit/HomeCreditDefaultRisk/Data/OriginData'\n",
    "TrainTestDataDir = '/home/songyue/homeCredit/HomeCreditDefaultRisk/Data/TrainTestData'\n",
    "ModelSaveDir = '/home/songyue/homeCredit/HomeCreditDefaultRisk/Models/XGBoost/models'\n",
    "ResultSaveDir = '/home/songyue/homeCredit/HomeCreditDefaultRisk/Models/XGBoost/result'"
   ]
  },
  {
   "cell_type": "code",
   "execution_count": 2,
   "metadata": {
    "collapsed": true
   },
   "outputs": [],
   "source": [
    "def loadData(DataName):\n",
    "    DataPath = os.path.join(TrainTestDataDir, DataName)\n",
    "    if not os.path.exists(DataPath):\n",
    "        print('%s does not exist!' % DataPath)\n",
    "        return\n",
    "    OriginData = pd.read_csv(DataPath, index_col=0)\n",
    "    #OriginData = OriginData.sample(frac=1)  # 打乱顺序后返回\n",
    "    return OriginData"
   ]
  },
  {
   "cell_type": "code",
   "execution_count": 7,
   "metadata": {
    "collapsed": true
   },
   "outputs": [],
   "source": [
    "# Display/plot feature importance\n",
    "def display_importances(feature_importance_df_):\n",
    "    cols = feature_importance_df_[[\"feature\", \"importance\"]].groupby(\"feature\").mean().sort_values(by=\"importance\", ascending=False)[:50].index\n",
    "    best_features = feature_importance_df_.loc[feature_importance_df_.feature.isin(cols)]\n",
    "    plt.figure(figsize=(8, 10))\n",
    "    sns.barplot(x=\"importance\", y=\"feature\", data=best_features.sort_values(by=\"importance\", ascending=False))\n",
    "    plt.title('XGBOOST Features (avg over folds)')\n",
    "    plt.tight_layout()\n",
    "    plt.savefig('XGBOOST_ImportantFeats.png')"
   ]
  },
  {
   "cell_type": "code",
   "execution_count": 3,
   "metadata": {
    "collapsed": true
   },
   "outputs": [],
   "source": [
    "TestData = loadData('AllTest_withnull.csv')\n",
    "TestID = TestData.SK_ID_CURR.values\n",
    "TestData.drop('SK_ID_CURR', axis=1, inplace=True)\n",
    "AllTrainData = loadData('AllTrain_withnull.csv')\n",
    "AllTrainData.reset_index(drop=True, inplace=True)\n",
    "AllTrainData.drop('SK_ID_CURR', axis=1, inplace=True)"
   ]
  },
  {
   "cell_type": "code",
   "execution_count": 4,
   "metadata": {},
   "outputs": [
    {
     "data": {
      "text/plain": [
       "(307511, 1260)"
      ]
     },
     "execution_count": 4,
     "metadata": {},
     "output_type": "execute_result"
    }
   ],
   "source": [
    "AllTrainData.shape"
   ]
  },
  {
   "cell_type": "code",
   "execution_count": 5,
   "metadata": {},
   "outputs": [
    {
     "data": {
      "text/plain": [
       "(48744, 1259)"
      ]
     },
     "execution_count": 5,
     "metadata": {},
     "output_type": "execute_result"
    }
   ],
   "source": [
    "TestData.shape"
   ]
  },
  {
   "cell_type": "code",
   "execution_count": 6,
   "metadata": {
    "collapsed": true
   },
   "outputs": [],
   "source": [
    "df_train = AllTrainData\n",
    "df_test = TestData\n",
    "num_folds = 5\n",
    "stratified = True\n",
    "debug= False"
   ]
  },
  {
   "cell_type": "code",
   "execution_count": null,
   "metadata": {
    "collapsed": true
   },
   "outputs": [],
   "source": [
    "#试试另外一个xgb模型\n",
    "# Divide in training/validation and test data\n",
    "print(\"Starting XGBoost. Train shape: {}, test shape: {}\".format(df_train.shape, df_test.shape))\n",
    "print(\"Num of Feature:\",len(features))\n",
    "# Cross validation model\n",
    "if stratified:\n",
    "    folds = StratifiedKFold(n_splits= num_folds, shuffle=True, random_state=90210)\n",
    "else:\n",
    "    folds = KFold(n_splits= num_folds, shuffle=True, random_state=90210)\n",
    "# Create arrays and dataframes to store results\n",
    "oof_preds = np.zeros(df_train.shape[0])\n",
    "sub_preds = np.zeros([df_test.shape[0],num_folds])\n",
    "roc_score_list = []\n",
    "bestModel = None\n",
    "bestRoc = None\n",
    "feature_importance_df = pd.DataFrame()\n",
    "    \n",
    "for n_fold, (train_idx, valid_idx) in enumerate(folds.split(df_train[features], df_train['TARGET'])):\n",
    "    train_x, train_y = df_train[features].iloc[train_idx], df_train['TARGET'].iloc[train_idx]\n",
    "    valid_x, valid_y = df_train[features].iloc[valid_idx], df_train['TARGET'].iloc[valid_idx]\n",
    "\n",
    "    clf = lgb.LGBMClassifier(is_unbalance=False,\n",
    "                               scale_pos_weight = 1,\n",
    "                               reg_alpha=0.0,\n",
    "                               reg_lambda=100,\n",
    "                               min_split_gain=0.5,\n",
    "                               colsample_bytree=0.05,\n",
    "                               subsample_freq=1,\n",
    "                               subsample=1.0,\n",
    "                               min_child_samples=70,\n",
    "                               num_leaves=30,\n",
    "                               max_depth=-1,\n",
    "                               max_bin=300,\n",
    "                               learning_rate=0.02,\n",
    "                               n_estimators=10000,\n",
    "                               boosting_type='gbdt',\n",
    "                               application=\"binary\",\n",
    "                               num_threads = -1\n",
    "                              )\n",
    "\n",
    "    clf.fit(train_data, train_y, eval_metric='auc',\n",
    "              eval_set=[(valid_x, valid_y), (train_x, train_y)],\n",
    "              eval_names=['valid', 'train'], early_stopping_rounds=200, verbose=200)\n",
    "    \n",
    "    oof_preds[valid_idx] = clf.predict_proba(valid_x, num_iteration=clf.best_iteration_)[:, 1]\n",
    "    sub_preds[:,n_fold]= clf.predict_proba(df_test[features], num_iteration=clf.best_iteration_)[:, 1] \n",
    "    roc_curr = roc_auc_score(valid_y, oof_preds[valid_idx])\n",
    "    roc_score_list.append(roc_curr)\n",
    "    if bestRoc is None or roc_curr>bestRoc:\n",
    "        bestRoc = roc_curr\n",
    "        bestModel = clf\n",
    "    print('best interation:',clf.best_ntree_limit)\n",
    "    print('Fold %2d AUC : %.6f' % (n_fold + 1, roc_curr ))\n",
    "    \n",
    "    fold_importance_df = pd.DataFrame()\n",
    "    fold_importance_df[\"feature\"] = features\n",
    "    fold_importance_df[\"importance\"] = clf.feature_importances_\n",
    "    fold_importance_df[\"fold\"] = n_fold + 1\n",
    "    feature_importance_df = pd.concat([feature_importance_df, fold_importance_df], axis=0)\n",
    "    del clf, train_x, train_y, valid_x, valid_y\n",
    "    gc.collect()"
   ]
  },
  {
   "cell_type": "code",
   "execution_count": null,
   "metadata": {
    "collapsed": true
   },
   "outputs": [],
   "source": [
    "display_importances(feature_importance_df)"
   ]
  },
  {
   "cell_type": "code",
   "execution_count": null,
   "metadata": {
    "collapsed": true
   },
   "outputs": [],
   "source": [
    "def calculate_rank(predictions):\n",
    "    rank = (1 + predictions.rank(method='min').values) / (predictions.shape[0] + 1)\n",
    "    return rank"
   ]
  },
  {
   "cell_type": "code",
   "execution_count": null,
   "metadata": {
    "collapsed": true
   },
   "outputs": [],
   "source": [
    "subtmp = pd.DataFrame({'fold%d'%i:sub_preds[:,i] for i in range(sub_preds.shape[1])})"
   ]
  },
  {
   "cell_type": "code",
   "execution_count": null,
   "metadata": {
    "collapsed": true
   },
   "outputs": [],
   "source": [
    "submission = pd.DataFrame({'SK_ID_CURR': TestID, 'TARGET': np.mean(np.stack(pred),axis=0)})\n",
    "submission.to_csv(\"lgbm_test4.csv\", index=False)"
   ]
  },
  {
   "cell_type": "code",
   "execution_count": null,
   "metadata": {
    "collapsed": true
   },
   "outputs": [],
   "source": [
    "submission.head()"
   ]
  }
 ],
 "metadata": {
  "kernelspec": {
   "display_name": "Python 3",
   "language": "python",
   "name": "python3"
  },
  "language_info": {
   "codemirror_mode": {
    "name": "ipython",
    "version": 3
   },
   "file_extension": ".py",
   "mimetype": "text/x-python",
   "name": "python",
   "nbconvert_exporter": "python",
   "pygments_lexer": "ipython3",
   "version": "3.5.4"
  }
 },
 "nbformat": 4,
 "nbformat_minor": 2
}
